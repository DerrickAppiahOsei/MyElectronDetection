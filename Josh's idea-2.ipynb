{
 "cells": [
  {
   "cell_type": "code",
   "execution_count": 1,
   "metadata": {},
   "outputs": [
    {
     "name": "stderr",
     "output_type": "stream",
     "text": [
      "2024-09-17 21:18:13.415193: I tensorflow/core/util/port.cc:153] oneDNN custom operations are on. You may see slightly different numerical results due to floating-point round-off errors from different computation orders. To turn them off, set the environment variable `TF_ENABLE_ONEDNN_OPTS=0`.\n",
      "2024-09-17 21:18:13.426730: E external/local_xla/xla/stream_executor/cuda/cuda_fft.cc:485] Unable to register cuFFT factory: Attempting to register factory for plugin cuFFT when one has already been registered\n",
      "2024-09-17 21:18:13.438772: E external/local_xla/xla/stream_executor/cuda/cuda_dnn.cc:8454] Unable to register cuDNN factory: Attempting to register factory for plugin cuDNN when one has already been registered\n",
      "2024-09-17 21:18:13.442406: E external/local_xla/xla/stream_executor/cuda/cuda_blas.cc:1452] Unable to register cuBLAS factory: Attempting to register factory for plugin cuBLAS when one has already been registered\n",
      "2024-09-17 21:18:13.452315: I tensorflow/core/platform/cpu_feature_guard.cc:210] This TensorFlow binary is optimized to use available CPU instructions in performance-critical operations.\n",
      "To enable the following instructions: AVX2 AVX512F AVX512_VNNI AVX512_BF16 FMA, in other operations, rebuild TensorFlow with the appropriate compiler flags.\n",
      "2024-09-17 21:18:14.132933: W tensorflow/compiler/tf2tensorrt/utils/py_utils.cc:38] TF-TRT Warning: Could not find TensorRT\n"
     ]
    }
   ],
   "source": [
    "\n",
    "import tensorflow as tf\n",
    "import numpy as np\n",
    "import h5py\n",
    "from tensorflow.keras import layers, models, optimizers\n",
    "import matplotlib.pyplot as plt\n",
    "from sklearn.model_selection import train_test_split\n",
    "import os\n",
    "os.environ[\"CUDA_VISIBLE_DEVICES\"] = \"0,1,2,3\"  # Use GPU 0 and 1\n",
    "\n",
    "import os\n",
    "import tensorflow as tf\n",
    "\n",
    "# Set CUDA device order and visible devices\n",
    "os.environ[\"CUDA_DEVICE_ORDER\"] = \"PCI_BUS_ID\"\n",
    "os.environ[\"CUDA_VISIBLE_DEVICES\"] = \"0,1,2,3,4,5,6,7,8,9\"\n",
    "\n",
    "# Set the device\n",
    "device = '/cpu:0'\n",
    "if tf.config.experimental.list_physical_devices('GPU'):\n",
    "    try:\n",
    "        # Restrict TensorFlow to only use the second GPU\n",
    "        gpus = tf.config.experimental.list_physical_devices('GPU')\n",
    "        if gpus:\n",
    "            tf.config.experimental.set_visible_devices(gpus[8], 'GPU')\n",
    "            device = '/gpu:8'\n",
    "    except RuntimeError as e:\n",
    "        print(e)\n",
    "\n",
    "print(\"device\", device)\n"
   ]
  },
  {
   "cell_type": "code",
   "execution_count": 1,
   "metadata": {},
   "outputs": [
    {
     "name": "stderr",
     "output_type": "stream",
     "text": [
      "2024-09-17 16:55:14.501370: I tensorflow/core/util/port.cc:111] oneDNN custom operations are on. You may see slightly different numerical results due to floating-point round-off errors from different computation orders. To turn them off, set the environment variable `TF_ENABLE_ONEDNN_OPTS=0`.\n",
      "2024-09-17 16:55:14.533912: E tensorflow/compiler/xla/stream_executor/cuda/cuda_dnn.cc:9342] Unable to register cuDNN factory: Attempting to register factory for plugin cuDNN when one has already been registered\n",
      "2024-09-17 16:55:14.533941: E tensorflow/compiler/xla/stream_executor/cuda/cuda_fft.cc:609] Unable to register cuFFT factory: Attempting to register factory for plugin cuFFT when one has already been registered\n",
      "2024-09-17 16:55:14.533963: E tensorflow/compiler/xla/stream_executor/cuda/cuda_blas.cc:1518] Unable to register cuBLAS factory: Attempting to register factory for plugin cuBLAS when one has already been registered\n",
      "2024-09-17 16:55:14.540213: I tensorflow/core/platform/cpu_feature_guard.cc:182] This TensorFlow binary is optimized to use available CPU instructions in performance-critical operations.\n",
      "To enable the following instructions: AVX2 AVX512F AVX512_VNNI FMA, in other operations, rebuild TensorFlow with the appropriate compiler flags.\n",
      "2024-09-17 16:55:15.256941: W tensorflow/compiler/tf2tensorrt/utils/py_utils.cc:38] TF-TRT Warning: Could not find TensorRT\n"
     ]
    }
   ],
   "source": [
    "import numpy as np\n",
    "import tensorflow as tf\n",
    "import matplotlib.pyplot as plt\n",
    "import h5py\n",
    "from sklearn.model_selection import train_test_split\n",
    "from tensorflow.keras import layers, callbacks\n",
    "\n",
    "class DataLoader:\n",
    "    def __init__(self, h5_filename):\n",
    "        self.h5_filename = h5_filename\n",
    "        self.images, self.centers = self.load_data()\n",
    "\n",
    "    def load_data(self):\n",
    "        with h5py.File(self.h5_filename, 'r') as f:\n",
    "            images = np.array(f['images'])\n",
    "            centers = np.array(f['centers_training'])\n",
    "        return images, centers\n",
    "\n",
    "    def plot_image_with_centers(self, image_index=None):\n",
    "        if image_index is None:\n",
    "            image_index = np.random.randint(0, len(self.images))\n",
    "\n",
    "        image = self.images[image_index]\n",
    "        centers = self.centers[image_index]\n",
    "\n",
    "        plt.imshow(image, cmap='gray')\n",
    "        valid_centers = centers[centers[:, 0] == 1]\n",
    "        for center in valid_centers:\n",
    "            plt.scatter(center[1], center[2], c='red', marker='x')  # center[1] is x and center[2] is y\n",
    "        plt.title('Image with Valid Centers Marked')\n",
    "        plt.colorbar()\n",
    "        plt.show()\n",
    "\n",
    "    @staticmethod\n",
    "    def sort_centers(centers):\n",
    "        return centers[np.lexsort((centers[:, 0], centers[:, 1]))]\n",
    "\n",
    "    def normalize_data(self):\n",
    "        normalized_images = self.images / np.max(self.images)\n",
    "        sorted_centers = np.array([self.sort_centers(image_centers[:, 1:]) for image_centers in self.centers])\n",
    "        normalized_centers = sorted_centers / 64\n",
    "        normalized_midpoints = tf.expand_dims(normalized_centers, axis=1)\n",
    "        return normalized_images, normalized_midpoints.numpy()\n",
    "\n",
    "    def split_data(self, train_size=0.82, random_state=42):\n",
    "        normalized_images, normalized_midpoints_np = self.normalize_data()\n",
    "        return train_test_split(normalized_images, normalized_midpoints_np, train_size=train_size, random_state=random_state)\n",
    "\n",
    "\n",
    "class ModelBuilder:\n",
    "    def __init__(self, input_shape=(64, 64, 1), num_classes=13, num_coordinates=2, learning_rate=3e-5, weights_path=None):\n",
    "        self.input_shape = input_shape\n",
    "        self.num_classes = num_classes\n",
    "        self.num_coordinates = num_coordinates\n",
    "        self.learning_rate = learning_rate\n",
    "        self.model = self.build_model()\n",
    "\n",
    "        # Load weights if a path is provided\n",
    "        if weights_path is not None:\n",
    "            self.model.load_weights(weights_path)\n",
    "\n",
    "        self.optimizer = tf.keras.optimizers.Adam(learning_rate=self.learning_rate)\n",
    "        # self.optimizer =tf.keras.optimizers.SGD(learning_rate=0.01, momentum=0.9)\n",
    "\n",
    "    def build_model(self):\n",
    "        x_input = layers.Input(shape=self.input_shape)\n",
    "        \n",
    "        x_1 = layers.Conv2D(128, kernel_size=6, padding='same', activation='relu')(x_input)\n",
    "        x_2 = layers.Conv2D(128, kernel_size=8, padding='same', activation='relu')(x_input)\n",
    "        x_3 = layers.Conv2D(128, kernel_size=19, padding='same', activation='relu')(x_input)\n",
    "        \n",
    "        x = layers.concatenate([x_1, x_2, x_3])\n",
    "               \n",
    "        x = layers.Dense(512, activation='relu')(x)\n",
    "        x = layers.Dense(256, activation='relu')(x)\n",
    "        x = layers.Dense(128, activation='relu')(x)\n",
    "        \n",
    "        x_midpoints = layers.Dense(self.num_classes * self.num_coordinates, activation='sigmoid', name='x_midpoints')(x)\n",
    "        x_midpoints_reshape = layers.Reshape((-1, self.num_classes, self.num_coordinates), name='x_midpoints_reshape')(x_midpoints)\n",
    "        \n",
    "        return tf.keras.models.Model(x_input, x_midpoints_reshape)\n",
    "\n",
    "    def compile_model(self, loss_function):\n",
    "        self.model.compile(optimizer=self.optimizer, loss=loss_function)\n",
    "\n",
    "    def train_model(self, train_dataset, val_dataset, epochs, callbacks_list):\n",
    "        history = self.model.fit(train_dataset, epochs=epochs, validation_data=val_dataset, callbacks=callbacks_list)\n",
    "        return history\n",
    "\n",
    "\n",
    "\n",
    "\n",
    "\n"
   ]
  },
  {
   "cell_type": "markdown",
   "metadata": {},
   "source": [
    "Bigger arch"
   ]
  },
  {
   "cell_type": "code",
   "execution_count": 10,
   "metadata": {},
   "outputs": [],
   "source": [
    "# x = layers.Conv2D(128, kernel_size=3, padding='same', activation='relu')(x_input)\n",
    "        # x = layers.MaxPool2D()(x)\n",
    "        # x = layers.BatchNormalization()(x)\n",
    "        # x = layers.Conv2D(128, kernel_size=3, padding='same', activation='relu')(x)\n",
    "        \n",
    "        # x = layers.Conv2D(256, kernel_size=3, padding='same', activation='relu')(x)\n",
    "        # x = layers.Conv2D(256, kernel_size=3, padding='same', activation='relu')(x)\n",
    "        # x = layers.BatchNormalization()(x)\n",
    "        # x = layers.Dropout(0.2)(x)\n",
    "        \n",
    "        # x = layers.Conv2D(512, kernel_size=3, padding='same', activation='relu')(x)\n",
    "        # x = layers.Conv2D(512, kernel_size=3, padding='same', activation='relu')(x)\n",
    "        # x = layers.BatchNormalization()(x)\n",
    "        # x = layers.Dropout(0.2)(x)\n",
    "        \n",
    "        # x = layers.Conv2D(1024, kernel_size=3, padding='same', activation='relu')(x)\n",
    "        # x = layers.MaxPool2D()(x)\n",
    "        # x = layers.BatchNormalization()(x)\n",
    "        # x = layers.Dropout(0.3)(x)\n",
    "        # x = layers.Conv2D(1024, kernel_size=3, padding='same', activation='relu')(x)\n",
    "        # x = layers.MaxPool2D()(x)\n",
    "        # x = layers.BatchNormalization()(x)\n",
    "        # x = layers.Conv2D(1024, kernel_size=3, padding='same', activation='relu')(x)\n",
    "        # x = layers.MaxPool2D()(x)\n",
    "        # x = layers.BatchNormalization()(x)\n",
    "        # x = layers.Dropout(0.3)(x)\n",
    "        \n",
    "        # x = layers.Conv2D(512, kernel_size=5, padding='same', activation='relu')(x)\n",
    "        # x = layers.MaxPool2D()(x)\n",
    "        # x = layers.BatchNormalization()(x)\n",
    "        # x = layers.Dropout(0.3)(x)\n",
    "        \n",
    "        # x = layers.Flatten()(x)"
   ]
  },
  {
   "cell_type": "code",
<<<<<<< HEAD
   "execution_count": 2,
=======
   "execution_count": 11,
>>>>>>> a862dd9ab583ce5ccad0da723023802a42f8c4a4
   "metadata": {},
   "outputs": [],
   "source": [
    "# Initialize the DataLoader with the path to the HDF5 file\n",
    "h5_filename = '/home/da886/Final Electron counting project/Images and Labels/30KFixed_Mixed_13.h5'\n",
    "\n",
    "\n",
    "\n",
    "\n",
    "data_loader = DataLoader(h5_filename)\n",
    "\n",
    "# Load images and centers\n",
    "images, centers = data_loader.load_data()\n"
   ]
  },
  {
   "cell_type": "code",
<<<<<<< HEAD
   "execution_count": 3,
=======
   "execution_count": 12,
>>>>>>> a862dd9ab583ce5ccad0da723023802a42f8c4a4
   "metadata": {},
   "outputs": [
    {
     "data": {
<<<<<<< HEAD
      "image/png": "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",
=======
      "image/png": "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",
>>>>>>> a862dd9ab583ce5ccad0da723023802a42f8c4a4
      "text/plain": [
       "<Figure size 640x480 with 2 Axes>"
      ]
     },
     "metadata": {},
     "output_type": "display_data"
    }
   ],
   "source": [
    "\n",
    "# Optional: Plot a random image with valid centers marked\n",
    "data_loader.plot_image_with_centers()\n"
   ]
  },
  {
   "cell_type": "code",
<<<<<<< HEAD
   "execution_count": 4,
=======
   "execution_count": 13,
>>>>>>> a862dd9ab583ce5ccad0da723023802a42f8c4a4
   "metadata": {},
   "outputs": [
    {
<<<<<<< HEAD
     "name": "stderr",
     "output_type": "stream",
     "text": [
      "2024-09-17 16:55:37.514445: I tensorflow/core/common_runtime/gpu/gpu_device.cc:1886] Created device /job:localhost/replica:0/task:0/device:GPU:0 with 21255 MB memory:  -> device: 0, name: NVIDIA GeForce RTX 3090, pci bus id: 0000:68:00.0, compute capability: 8.6\n"
     ]
    },
    {
=======
>>>>>>> a862dd9ab583ce5ccad0da723023802a42f8c4a4
     "name": "stdout",
     "output_type": "stream",
     "text": [
      "Train Images: (24600, 64, 64), Train Midpoints: (24600, 1, 13, 2)\n",
      "Validation Images: (5400, 64, 64), Validation Midpoints: (5400, 1, 13, 2)\n"
     ]
    }
   ],
   "source": [
    "# Normalize the data and split it into training and validation sets\n",
    "train_images, val_images, train_midpoints, val_midpoints = data_loader.split_data()\n",
    "\n",
    "# Check the shape of the datasets\n",
    "print(f'Train Images: {train_images.shape}, Train Midpoints: {train_midpoints.shape}')\n",
    "print(f'Validation Images: {val_images.shape}, Validation Midpoints: {val_midpoints.shape}')\n"
   ]
  },
  {
   "cell_type": "code",
<<<<<<< HEAD
   "execution_count": 5,
=======
   "execution_count": 14,
>>>>>>> a862dd9ab583ce5ccad0da723023802a42f8c4a4
   "metadata": {},
   "outputs": [],
   "source": [
    "# Convert the data to TensorFlow datasets\n",
    "train_dataset = tf.data.Dataset.from_tensor_slices((train_images, train_midpoints))\n",
    "val_dataset = tf.data.Dataset.from_tensor_slices((val_images, val_midpoints))\n",
    "\n",
    "# Batch and shuffle the datasets\n",
    "batch_size = 2000\n",
    "train_dataset = train_dataset.shuffle(buffer_size=2000, reshuffle_each_iteration=True).batch(batch_size)\n",
    "val_dataset = val_dataset.shuffle(buffer_size=2000).batch(batch_size)\n"
   ]
  },
  {
   "cell_type": "code",
<<<<<<< HEAD
   "execution_count": 6,
=======
   "execution_count": 15,
>>>>>>> a862dd9ab583ce5ccad0da723023802a42f8c4a4
   "metadata": {},
   "outputs": [
    {
<<<<<<< HEAD
     "name": "stdout",
     "output_type": "stream",
     "text": [
      "Model: \"model_1\"\n",
      "__________________________________________________________________________________________________\n",
      " Layer (type)                Output Shape                 Param #   Connected to                  \n",
      "==================================================================================================\n",
      " input_2 (InputLayer)        [(None, 64, 64, 1)]          0         []                            \n",
      "                                                                                                  \n",
      " conv2d_3 (Conv2D)           (None, 64, 64, 128)          4736      ['input_2[0][0]']             \n",
      "                                                                                                  \n",
      " conv2d_4 (Conv2D)           (None, 64, 64, 128)          8320      ['input_2[0][0]']             \n",
      "                                                                                                  \n",
      " conv2d_5 (Conv2D)           (None, 64, 64, 128)          46336     ['input_2[0][0]']             \n",
      "                                                                                                  \n",
      " concatenate_1 (Concatenate  (None, 64, 64, 384)          0         ['conv2d_3[0][0]',            \n",
      " )                                                                   'conv2d_4[0][0]',            \n",
      "                                                                     'conv2d_5[0][0]']            \n",
      "                                                                                                  \n",
      " dense_3 (Dense)             (None, 64, 64, 512)          197120    ['concatenate_1[0][0]']       \n",
      "                                                                                                  \n",
      " dense_4 (Dense)             (None, 64, 64, 256)          131328    ['dense_3[0][0]']             \n",
      "                                                                                                  \n",
      " dense_5 (Dense)             (None, 64, 64, 128)          32896     ['dense_4[0][0]']             \n",
      "                                                                                                  \n",
      " x_midpoints (Dense)         (None, 64, 64, 10)           1290      ['dense_5[0][0]']             \n",
      "                                                                                                  \n",
      " x_midpoints_reshape (Resha  (None, 4096, 5, 2)           0         ['x_midpoints[0][0]']         \n",
      " pe)                                                                                              \n",
      "                                                                                                  \n",
      "==================================================================================================\n",
      "Total params: 422026 (1.61 MB)\n",
      "Trainable params: 422026 (1.61 MB)\n",
      "Non-trainable params: 0 (0.00 Byte)\n",
      "__________________________________________________________________________________________________\n"
     ]
=======
     "data": {
      "text/html": [
       "<pre style=\"white-space:pre;overflow-x:auto;line-height:normal;font-family:Menlo,'DejaVu Sans Mono',consolas,'Courier New',monospace\"><span style=\"font-weight: bold\">Model: \"functional_3\"</span>\n",
       "</pre>\n"
      ],
      "text/plain": [
       "\u001b[1mModel: \"functional_3\"\u001b[0m\n"
      ]
     },
     "metadata": {},
     "output_type": "display_data"
    },
    {
     "data": {
      "text/html": [
       "<pre style=\"white-space:pre;overflow-x:auto;line-height:normal;font-family:Menlo,'DejaVu Sans Mono',consolas,'Courier New',monospace\">┏━━━━━━━━━━━━━━━━━━━━━━━━━━━━━━━━━┳━━━━━━━━━━━━━━━━━━━━━━━━┳━━━━━━━━━━━━━━━┓\n",
       "┃<span style=\"font-weight: bold\"> Layer (type)                    </span>┃<span style=\"font-weight: bold\"> Output Shape           </span>┃<span style=\"font-weight: bold\">       Param # </span>┃\n",
       "┡━━━━━━━━━━━━━━━━━━━━━━━━━━━━━━━━━╇━━━━━━━━━━━━━━━━━━━━━━━━╇━━━━━━━━━━━━━━━┩\n",
       "│ input_layer_3 (<span style=\"color: #0087ff; text-decoration-color: #0087ff\">InputLayer</span>)      │ (<span style=\"color: #00d7ff; text-decoration-color: #00d7ff\">None</span>, <span style=\"color: #00af00; text-decoration-color: #00af00\">64</span>, <span style=\"color: #00af00; text-decoration-color: #00af00\">64</span>, <span style=\"color: #00af00; text-decoration-color: #00af00\">1</span>)      │             <span style=\"color: #00af00; text-decoration-color: #00af00\">0</span> │\n",
       "├─────────────────────────────────┼────────────────────────┼───────────────┤\n",
       "│ conv2d_9 (<span style=\"color: #0087ff; text-decoration-color: #0087ff\">Conv2D</span>)               │ (<span style=\"color: #00d7ff; text-decoration-color: #00d7ff\">None</span>, <span style=\"color: #00af00; text-decoration-color: #00af00\">64</span>, <span style=\"color: #00af00; text-decoration-color: #00af00\">64</span>, <span style=\"color: #00af00; text-decoration-color: #00af00\">64</span>)     │           <span style=\"color: #00af00; text-decoration-color: #00af00\">640</span> │\n",
       "├─────────────────────────────────┼────────────────────────┼───────────────┤\n",
       "│ max_pooling2d_3 (<span style=\"color: #0087ff; text-decoration-color: #0087ff\">MaxPooling2D</span>)  │ (<span style=\"color: #00d7ff; text-decoration-color: #00d7ff\">None</span>, <span style=\"color: #00af00; text-decoration-color: #00af00\">32</span>, <span style=\"color: #00af00; text-decoration-color: #00af00\">32</span>, <span style=\"color: #00af00; text-decoration-color: #00af00\">64</span>)     │             <span style=\"color: #00af00; text-decoration-color: #00af00\">0</span> │\n",
       "├─────────────────────────────────┼────────────────────────┼───────────────┤\n",
       "│ batch_normalization_3           │ (<span style=\"color: #00d7ff; text-decoration-color: #00d7ff\">None</span>, <span style=\"color: #00af00; text-decoration-color: #00af00\">32</span>, <span style=\"color: #00af00; text-decoration-color: #00af00\">32</span>, <span style=\"color: #00af00; text-decoration-color: #00af00\">64</span>)     │           <span style=\"color: #00af00; text-decoration-color: #00af00\">256</span> │\n",
       "│ (<span style=\"color: #0087ff; text-decoration-color: #0087ff\">BatchNormalization</span>)            │                        │               │\n",
       "├─────────────────────────────────┼────────────────────────┼───────────────┤\n",
       "│ conv2d_10 (<span style=\"color: #0087ff; text-decoration-color: #0087ff\">Conv2D</span>)              │ (<span style=\"color: #00d7ff; text-decoration-color: #00d7ff\">None</span>, <span style=\"color: #00af00; text-decoration-color: #00af00\">32</span>, <span style=\"color: #00af00; text-decoration-color: #00af00\">32</span>, <span style=\"color: #00af00; text-decoration-color: #00af00\">64</span>)     │        <span style=\"color: #00af00; text-decoration-color: #00af00\">36,928</span> │\n",
       "├─────────────────────────────────┼────────────────────────┼───────────────┤\n",
       "│ conv2d_11 (<span style=\"color: #0087ff; text-decoration-color: #0087ff\">Conv2D</span>)              │ (<span style=\"color: #00d7ff; text-decoration-color: #00d7ff\">None</span>, <span style=\"color: #00af00; text-decoration-color: #00af00\">32</span>, <span style=\"color: #00af00; text-decoration-color: #00af00\">32</span>, <span style=\"color: #00af00; text-decoration-color: #00af00\">128</span>)    │        <span style=\"color: #00af00; text-decoration-color: #00af00\">73,856</span> │\n",
       "├─────────────────────────────────┼────────────────────────┼───────────────┤\n",
       "│ dense_3 (<span style=\"color: #0087ff; text-decoration-color: #0087ff\">Dense</span>)                 │ (<span style=\"color: #00d7ff; text-decoration-color: #00d7ff\">None</span>, <span style=\"color: #00af00; text-decoration-color: #00af00\">32</span>, <span style=\"color: #00af00; text-decoration-color: #00af00\">32</span>, <span style=\"color: #00af00; text-decoration-color: #00af00\">512</span>)    │        <span style=\"color: #00af00; text-decoration-color: #00af00\">66,048</span> │\n",
       "├─────────────────────────────────┼────────────────────────┼───────────────┤\n",
       "│ flatten_3 (<span style=\"color: #0087ff; text-decoration-color: #0087ff\">Flatten</span>)             │ (<span style=\"color: #00d7ff; text-decoration-color: #00d7ff\">None</span>, <span style=\"color: #00af00; text-decoration-color: #00af00\">524288</span>)         │             <span style=\"color: #00af00; text-decoration-color: #00af00\">0</span> │\n",
       "├─────────────────────────────────┼────────────────────────┼───────────────┤\n",
       "│ x_midpoints (<span style=\"color: #0087ff; text-decoration-color: #0087ff\">Dense</span>)             │ (<span style=\"color: #00d7ff; text-decoration-color: #00d7ff\">None</span>, <span style=\"color: #00af00; text-decoration-color: #00af00\">26</span>)             │    <span style=\"color: #00af00; text-decoration-color: #00af00\">13,631,514</span> │\n",
       "├─────────────────────────────────┼────────────────────────┼───────────────┤\n",
       "│ x_midpoints_reshape (<span style=\"color: #0087ff; text-decoration-color: #0087ff\">Reshape</span>)   │ (<span style=\"color: #00d7ff; text-decoration-color: #00d7ff\">None</span>, <span style=\"color: #00af00; text-decoration-color: #00af00\">1</span>, <span style=\"color: #00af00; text-decoration-color: #00af00\">13</span>, <span style=\"color: #00af00; text-decoration-color: #00af00\">2</span>)       │             <span style=\"color: #00af00; text-decoration-color: #00af00\">0</span> │\n",
       "└─────────────────────────────────┴────────────────────────┴───────────────┘\n",
       "</pre>\n"
      ],
      "text/plain": [
       "┏━━━━━━━━━━━━━━━━━━━━━━━━━━━━━━━━━┳━━━━━━━━━━━━━━━━━━━━━━━━┳━━━━━━━━━━━━━━━┓\n",
       "┃\u001b[1m \u001b[0m\u001b[1mLayer (type)                   \u001b[0m\u001b[1m \u001b[0m┃\u001b[1m \u001b[0m\u001b[1mOutput Shape          \u001b[0m\u001b[1m \u001b[0m┃\u001b[1m \u001b[0m\u001b[1m      Param #\u001b[0m\u001b[1m \u001b[0m┃\n",
       "┡━━━━━━━━━━━━━━━━━━━━━━━━━━━━━━━━━╇━━━━━━━━━━━━━━━━━━━━━━━━╇━━━━━━━━━━━━━━━┩\n",
       "│ input_layer_3 (\u001b[38;5;33mInputLayer\u001b[0m)      │ (\u001b[38;5;45mNone\u001b[0m, \u001b[38;5;34m64\u001b[0m, \u001b[38;5;34m64\u001b[0m, \u001b[38;5;34m1\u001b[0m)      │             \u001b[38;5;34m0\u001b[0m │\n",
       "├─────────────────────────────────┼────────────────────────┼───────────────┤\n",
       "│ conv2d_9 (\u001b[38;5;33mConv2D\u001b[0m)               │ (\u001b[38;5;45mNone\u001b[0m, \u001b[38;5;34m64\u001b[0m, \u001b[38;5;34m64\u001b[0m, \u001b[38;5;34m64\u001b[0m)     │           \u001b[38;5;34m640\u001b[0m │\n",
       "├─────────────────────────────────┼────────────────────────┼───────────────┤\n",
       "│ max_pooling2d_3 (\u001b[38;5;33mMaxPooling2D\u001b[0m)  │ (\u001b[38;5;45mNone\u001b[0m, \u001b[38;5;34m32\u001b[0m, \u001b[38;5;34m32\u001b[0m, \u001b[38;5;34m64\u001b[0m)     │             \u001b[38;5;34m0\u001b[0m │\n",
       "├─────────────────────────────────┼────────────────────────┼───────────────┤\n",
       "│ batch_normalization_3           │ (\u001b[38;5;45mNone\u001b[0m, \u001b[38;5;34m32\u001b[0m, \u001b[38;5;34m32\u001b[0m, \u001b[38;5;34m64\u001b[0m)     │           \u001b[38;5;34m256\u001b[0m │\n",
       "│ (\u001b[38;5;33mBatchNormalization\u001b[0m)            │                        │               │\n",
       "├─────────────────────────────────┼────────────────────────┼───────────────┤\n",
       "│ conv2d_10 (\u001b[38;5;33mConv2D\u001b[0m)              │ (\u001b[38;5;45mNone\u001b[0m, \u001b[38;5;34m32\u001b[0m, \u001b[38;5;34m32\u001b[0m, \u001b[38;5;34m64\u001b[0m)     │        \u001b[38;5;34m36,928\u001b[0m │\n",
       "├─────────────────────────────────┼────────────────────────┼───────────────┤\n",
       "│ conv2d_11 (\u001b[38;5;33mConv2D\u001b[0m)              │ (\u001b[38;5;45mNone\u001b[0m, \u001b[38;5;34m32\u001b[0m, \u001b[38;5;34m32\u001b[0m, \u001b[38;5;34m128\u001b[0m)    │        \u001b[38;5;34m73,856\u001b[0m │\n",
       "├─────────────────────────────────┼────────────────────────┼───────────────┤\n",
       "│ dense_3 (\u001b[38;5;33mDense\u001b[0m)                 │ (\u001b[38;5;45mNone\u001b[0m, \u001b[38;5;34m32\u001b[0m, \u001b[38;5;34m32\u001b[0m, \u001b[38;5;34m512\u001b[0m)    │        \u001b[38;5;34m66,048\u001b[0m │\n",
       "├─────────────────────────────────┼────────────────────────┼───────────────┤\n",
       "│ flatten_3 (\u001b[38;5;33mFlatten\u001b[0m)             │ (\u001b[38;5;45mNone\u001b[0m, \u001b[38;5;34m524288\u001b[0m)         │             \u001b[38;5;34m0\u001b[0m │\n",
       "├─────────────────────────────────┼────────────────────────┼───────────────┤\n",
       "│ x_midpoints (\u001b[38;5;33mDense\u001b[0m)             │ (\u001b[38;5;45mNone\u001b[0m, \u001b[38;5;34m26\u001b[0m)             │    \u001b[38;5;34m13,631,514\u001b[0m │\n",
       "├─────────────────────────────────┼────────────────────────┼───────────────┤\n",
       "│ x_midpoints_reshape (\u001b[38;5;33mReshape\u001b[0m)   │ (\u001b[38;5;45mNone\u001b[0m, \u001b[38;5;34m1\u001b[0m, \u001b[38;5;34m13\u001b[0m, \u001b[38;5;34m2\u001b[0m)       │             \u001b[38;5;34m0\u001b[0m │\n",
       "└─────────────────────────────────┴────────────────────────┴───────────────┘\n"
      ]
     },
     "metadata": {},
     "output_type": "display_data"
    },
    {
     "data": {
      "text/html": [
       "<pre style=\"white-space:pre;overflow-x:auto;line-height:normal;font-family:Menlo,'DejaVu Sans Mono',consolas,'Courier New',monospace\"><span style=\"font-weight: bold\"> Total params: </span><span style=\"color: #00af00; text-decoration-color: #00af00\">13,809,242</span> (52.68 MB)\n",
       "</pre>\n"
      ],
      "text/plain": [
       "\u001b[1m Total params: \u001b[0m\u001b[38;5;34m13,809,242\u001b[0m (52.68 MB)\n"
      ]
     },
     "metadata": {},
     "output_type": "display_data"
    },
    {
     "data": {
      "text/html": [
       "<pre style=\"white-space:pre;overflow-x:auto;line-height:normal;font-family:Menlo,'DejaVu Sans Mono',consolas,'Courier New',monospace\"><span style=\"font-weight: bold\"> Trainable params: </span><span style=\"color: #00af00; text-decoration-color: #00af00\">13,809,114</span> (52.68 MB)\n",
       "</pre>\n"
      ],
      "text/plain": [
       "\u001b[1m Trainable params: \u001b[0m\u001b[38;5;34m13,809,114\u001b[0m (52.68 MB)\n"
      ]
     },
     "metadata": {},
     "output_type": "display_data"
    },
    {
     "data": {
      "text/html": [
       "<pre style=\"white-space:pre;overflow-x:auto;line-height:normal;font-family:Menlo,'DejaVu Sans Mono',consolas,'Courier New',monospace\"><span style=\"font-weight: bold\"> Non-trainable params: </span><span style=\"color: #00af00; text-decoration-color: #00af00\">128</span> (512.00 B)\n",
       "</pre>\n"
      ],
      "text/plain": [
       "\u001b[1m Non-trainable params: \u001b[0m\u001b[38;5;34m128\u001b[0m (512.00 B)\n"
      ]
     },
     "metadata": {},
     "output_type": "display_data"
>>>>>>> a862dd9ab583ce5ccad0da723023802a42f8c4a4
    }
   ],
   "source": [
    "# Initialize the ModelBuilder\n",
    "model_builder = ModelBuilder()\n",
    "\n",
    "# Build the model\n",
    "model = model_builder.build_model()\n",
    "\n",
    "if torch.cuda.device_count() > 1:\n",
    "    print(f\"Using {torch.cuda.device_count()} GPUs!\")\n",
    "    model = nn.DataParallel(model)\n",
    "model = model.to('cuda')\n",
    "\n",
    "\n",
    "# Display the model architecture\n",
    "model.summary()\n"
   ]
  },
  {
   "cell_type": "code",
<<<<<<< HEAD
   "execution_count": 7,
=======
   "execution_count": 16,
>>>>>>> a862dd9ab583ce5ccad0da723023802a42f8c4a4
   "metadata": {},
   "outputs": [],
   "source": [
    "# Define the learning rate scheduler\n",
    "lr_scheduler = tf.keras.callbacks.ReduceLROnPlateau(\n",
    "    monitor='val_loss', factor=0.5, patience=10, verbose=1, mode='min', min_lr=7e-15\n",
    ")"
   ]
  },
  {
   "cell_type": "code",
<<<<<<< HEAD
   "execution_count": 8,
=======
   "execution_count": 17,
>>>>>>> a862dd9ab583ce5ccad0da723023802a42f8c4a4
   "metadata": {},
   "outputs": [],
   "source": [
    "model_builder.compile_model(loss_function=tf.keras.losses.MeanSquaredError())"
   ]
  },
  {
   "cell_type": "code",
<<<<<<< HEAD
   "execution_count": 9,
=======
   "execution_count": 18,
>>>>>>> a862dd9ab583ce5ccad0da723023802a42f8c4a4
   "metadata": {},
   "outputs": [
    {
     "name": "stdout",
     "output_type": "stream",
     "text": [
      "Epoch 1/250\n"
     ]
    },
    {
     "name": "stderr",
     "output_type": "stream",
     "text": [
<<<<<<< HEAD
      "2024-09-17 16:55:45.383397: I tensorflow/compiler/xla/stream_executor/cuda/cuda_dnn.cc:442] Loaded cuDNN version 8907\n",
      "2024-09-17 16:55:47.294637: I tensorflow/compiler/xla/service/service.cc:168] XLA service 0x70b971738f40 initialized for platform CUDA (this does not guarantee that XLA will be used). Devices:\n",
      "2024-09-17 16:55:47.294659: I tensorflow/compiler/xla/service/service.cc:176]   StreamExecutor device (0): NVIDIA GeForce RTX 3090, Compute Capability 8.6\n",
      "2024-09-17 16:55:47.298745: I tensorflow/compiler/mlir/tensorflow/utils/dump_mlir_util.cc:269] disabling MLIR crash reproducer, set env var `MLIR_CRASH_REPRODUCER_DIRECTORY` to enable.\n",
      "2024-09-17 16:55:47.434097: I ./tensorflow/compiler/jit/device_compiler.h:186] Compiled cluster using XLA!  This line is logged at most once for the lifetime of the process.\n"
=======
      "WARNING: All log messages before absl::InitializeLog() is called are written to STDERR\n",
      "I0000 00:00:1726607945.984053   86752 service.cc:146] XLA service 0x7f01b400ba10 initialized for platform CUDA (this does not guarantee that XLA will be used). Devices:\n",
      "I0000 00:00:1726607945.984123   86752 service.cc:154]   StreamExecutor device (0): NVIDIA A100 80GB PCIe, Compute Capability 8.0\n",
      "I0000 00:00:1726607945.984130   86752 service.cc:154]   StreamExecutor device (1): NVIDIA A100 80GB PCIe, Compute Capability 8.0\n",
      "I0000 00:00:1726607945.984134   86752 service.cc:154]   StreamExecutor device (2): NVIDIA A100 80GB PCIe, Compute Capability 8.0\n",
      "I0000 00:00:1726607945.984138   86752 service.cc:154]   StreamExecutor device (3): NVIDIA A100 80GB PCIe, Compute Capability 8.0\n",
      "2024-09-17 21:19:06.039103: I tensorflow/compiler/mlir/tensorflow/utils/dump_mlir_util.cc:268] disabling MLIR crash reproducer, set env var `MLIR_CRASH_REPRODUCER_DIRECTORY` to enable.\n",
      "2024-09-17 21:19:06.186587: I external/local_xla/xla/stream_executor/cuda/cuda_dnn.cc:531] Loaded cuDNN version 8907\n",
      "2024-09-17 21:19:07.073368: I external/local_xla/xla/stream_executor/cuda/cuda_asm_compiler.cc:393] ptxas warning : Registers are spilled to local memory in function 'gemm_fusion_dot_506', 8 bytes spill stores, 8 bytes spill loads\n",
      "\n",
      "2024-09-17 21:19:07.286451: I external/local_xla/xla/stream_executor/cuda/cuda_asm_compiler.cc:393] ptxas warning : Registers are spilled to local memory in function 'gemm_fusion_dot_506', 36 bytes spill stores, 36 bytes spill loads\n",
      "\n",
      "2024-09-17 21:19:07.345606: I external/local_xla/xla/stream_executor/cuda/cuda_asm_compiler.cc:393] ptxas warning : Registers are spilled to local memory in function 'gemm_fusion_dot_882', 4 bytes spill stores, 4 bytes spill loads\n",
      "\n",
      "2024-09-17 21:19:07.444729: I external/local_xla/xla/stream_executor/cuda/cuda_asm_compiler.cc:393] ptxas warning : Registers are spilled to local memory in function 'gemm_fusion_dot_506', 256 bytes spill stores, 256 bytes spill loads\n",
      "\n",
      "2024-09-17 21:19:07.529335: I external/local_xla/xla/stream_executor/cuda/cuda_asm_compiler.cc:393] ptxas warning : Registers are spilled to local memory in function 'gemm_fusion_dot_882', 68 bytes spill stores, 68 bytes spill loads\n",
      "\n",
      "2024-09-17 21:19:07.592156: I external/local_xla/xla/stream_executor/cuda/cuda_asm_compiler.cc:393] ptxas warning : Registers are spilled to local memory in function 'gemm_fusion_dot', 244 bytes spill stores, 212 bytes spill loads\n",
      "\n",
      "WARNING: All log messages before absl::InitializeLog() is called are written to STDERR\n",
      "E0000 00:00:1726607954.090111   86752 gpu_timer.cc:183] Delay kernel timed out: measured time has sub-optimal accuracy. There may be a missing warmup execution, please investigate in Nsight Systems.\n",
      "E0000 00:00:1726607954.277335   86752 gpu_timer.cc:183] Delay kernel timed out: measured time has sub-optimal accuracy. There may be a missing warmup execution, please investigate in Nsight Systems.\n",
      "2024-09-17 21:19:18.658789: E external/local_xla/xla/service/slow_operation_alarm.cc:65] Trying algorithm eng0{} for conv (f32[128,64,3,3]{3,2,1,0}, u8[0]{0}) custom-call(f32[2000,64,32,32]{3,2,1,0}, f32[2000,128,32,32]{3,2,1,0}), window={size=3x3 pad=1_1x1_1}, dim_labels=bf01_oi01->bf01, custom_call_target=\"__cudnn$convBackwardFilter\", backend_config={\"operation_queue_id\":\"0\",\"wait_on_operation_queues\":[],\"cudnn_conv_backend_config\":{\"conv_result_scale\":1,\"activation_mode\":\"kNone\",\"side_input_scale\":0,\"leakyrelu_alpha\":0},\"force_earliest_schedule\":false} is taking a while...\n",
      "2024-09-17 21:19:18.837689: E external/local_xla/xla/service/slow_operation_alarm.cc:133] The operation took 1.179009257s\n",
      "Trying algorithm eng0{} for conv (f32[128,64,3,3]{3,2,1,0}, u8[0]{0}) custom-call(f32[2000,64,32,32]{3,2,1,0}, f32[2000,128,32,32]{3,2,1,0}), window={size=3x3 pad=1_1x1_1}, dim_labels=bf01_oi01->bf01, custom_call_target=\"__cudnn$convBackwardFilter\", backend_config={\"operation_queue_id\":\"0\",\"wait_on_operation_queues\":[],\"cudnn_conv_backend_config\":{\"conv_result_scale\":1,\"activation_mode\":\"kNone\",\"side_input_scale\":0,\"leakyrelu_alpha\":0},\"force_earliest_schedule\":false} is taking a while...\n"
>>>>>>> a862dd9ab583ce5ccad0da723023802a42f8c4a4
     ]
    },
    {
     "name": "stdout",
     "output_type": "stream",
     "text": [
<<<<<<< HEAD
      "123/123 [==============================] - 35s 243ms/step - loss: 0.0459 - val_loss: 0.0416 - lr: 3.0000e-05\n",
=======
      "\u001b[1m 2/13\u001b[0m \u001b[32m━━━\u001b[0m\u001b[37m━━━━━━━━━━━━━━━━━\u001b[0m \u001b[1m1s\u001b[0m 98ms/step - loss: 0.0471 "
     ]
    },
    {
     "name": "stderr",
     "output_type": "stream",
     "text": [
      "I0000 00:00:1726607961.229834   86752 device_compiler.h:188] Compiled cluster using XLA!  This line is logged at most once for the lifetime of the process.\n"
     ]
    },
    {
     "name": "stdout",
     "output_type": "stream",
     "text": [
      "\u001b[1m12/13\u001b[0m \u001b[32m━━━━━━━━━━━━━━━━━━\u001b[0m\u001b[37m━━\u001b[0m \u001b[1m0s\u001b[0m 95ms/step - loss: 0.0394"
     ]
    },
    {
     "name": "stderr",
     "output_type": "stream",
     "text": [
      "2024-09-17 21:19:23.202243: I external/local_xla/xla/stream_executor/cuda/cuda_asm_compiler.cc:393] ptxas warning : Registers are spilled to local memory in function 'gemm_fusion_dot_506', 8 bytes spill stores, 8 bytes spill loads\n",
      "\n",
      "2024-09-17 21:19:23.331707: I external/local_xla/xla/stream_executor/cuda/cuda_asm_compiler.cc:393] ptxas warning : Registers are spilled to local memory in function 'gemm_fusion_dot_506', 36 bytes spill stores, 36 bytes spill loads\n",
      "\n",
      "2024-09-17 21:19:23.407754: I external/local_xla/xla/stream_executor/cuda/cuda_asm_compiler.cc:393] ptxas warning : Registers are spilled to local memory in function 'gemm_fusion_dot_882', 4 bytes spill stores, 4 bytes spill loads\n",
      "\n",
      "2024-09-17 21:19:23.500762: I external/local_xla/xla/stream_executor/cuda/cuda_asm_compiler.cc:393] ptxas warning : Registers are spilled to local memory in function 'gemm_fusion_dot_506', 256 bytes spill stores, 256 bytes spill loads\n",
      "\n",
      "2024-09-17 21:19:23.649465: I external/local_xla/xla/stream_executor/cuda/cuda_asm_compiler.cc:393] ptxas warning : Registers are spilled to local memory in function 'gemm_fusion_dot_882', 108 bytes spill stores, 108 bytes spill loads\n",
      "\n",
      "E0000 00:00:1726607965.961118   86755 gpu_timer.cc:183] Delay kernel timed out: measured time has sub-optimal accuracy. There may be a missing warmup execution, please investigate in Nsight Systems.\n",
      "E0000 00:00:1726607966.122495   86755 gpu_timer.cc:183] Delay kernel timed out: measured time has sub-optimal accuracy. There may be a missing warmup execution, please investigate in Nsight Systems.\n"
     ]
    },
    {
     "name": "stdout",
     "output_type": "stream",
     "text": [
      "\u001b[1m13/13\u001b[0m \u001b[32m━━━━━━━━━━━━━━━━━━━━\u001b[0m\u001b[37m\u001b[0m \u001b[1m0s\u001b[0m 664ms/step - loss: 0.0390"
     ]
    },
    {
     "name": "stderr",
     "output_type": "stream",
     "text": [
      "2024-09-17 21:19:29.754408: I external/local_xla/xla/stream_executor/cuda/cuda_asm_compiler.cc:393] ptxas warning : Registers are spilled to local memory in function 'gemm_fusion_dot', 4 bytes spill stores, 4 bytes spill loads\n",
      "\n",
      "2024-09-17 21:19:30.138379: I external/local_xla/xla/stream_executor/cuda/cuda_asm_compiler.cc:393] ptxas warning : Registers are spilled to local memory in function 'gemm_fusion_dot', 56 bytes spill stores, 60 bytes spill loads\n",
      "\n",
      "2024-09-17 21:19:33.930966: I external/local_xla/xla/stream_executor/cuda/cuda_asm_compiler.cc:393] ptxas warning : Registers are spilled to local memory in function 'gemm_fusion_dot_72', 8 bytes spill stores, 8 bytes spill loads\n",
      "\n",
      "2024-09-17 21:19:34.179691: I external/local_xla/xla/stream_executor/cuda/cuda_asm_compiler.cc:393] ptxas warning : Registers are spilled to local memory in function 'gemm_fusion_dot_72', 36 bytes spill stores, 36 bytes spill loads\n",
      "\n",
      "2024-09-17 21:19:34.294232: I external/local_xla/xla/stream_executor/cuda/cuda_asm_compiler.cc:393] ptxas warning : Registers are spilled to local memory in function 'gemm_fusion_dot_72', 256 bytes spill stores, 256 bytes spill loads\n",
      "\n"
     ]
    },
    {
     "name": "stdout",
     "output_type": "stream",
     "text": [
      "\u001b[1m13/13\u001b[0m \u001b[32m━━━━━━━━━━━━━━━━━━━━\u001b[0m\u001b[37m\u001b[0m \u001b[1m32s\u001b[0m 1s/step - loss: 0.0387 - val_loss: 0.0449 - learning_rate: 3.0000e-05\n",
>>>>>>> a862dd9ab583ce5ccad0da723023802a42f8c4a4
      "Epoch 2/250\n",
<<<<<<< HEAD
      "123/123 [==============================] - 30s 244ms/step - loss: 0.0362 - val_loss: 0.0343 - lr: 3.0000e-05\n",
=======
      "\u001b[1m13/13\u001b[0m \u001b[32m━━━━━━━━━━━━━━━━━━━━\u001b[0m\u001b[37m\u001b[0m \u001b[1m1s\u001b[0m 98ms/step - loss: 0.0291 - val_loss: 0.0458 - learning_rate: 3.0000e-05\n",
>>>>>>> a862dd9ab583ce5ccad0da723023802a42f8c4a4
      "Epoch 3/250\n",
<<<<<<< HEAD
      "123/123 [==============================] - 30s 245ms/step - loss: 0.0341 - val_loss: 0.0342 - lr: 3.0000e-05\n",
=======
      "\u001b[1m13/13\u001b[0m \u001b[32m━━━━━━━━━━━━━━━━━━━━\u001b[0m\u001b[37m\u001b[0m \u001b[1m1s\u001b[0m 99ms/step - loss: 0.0278 - val_loss: 0.0459 - learning_rate: 3.0000e-05\n",
>>>>>>> a862dd9ab583ce5ccad0da723023802a42f8c4a4
      "Epoch 4/250\n",
<<<<<<< HEAD
      "123/123 [==============================] - 30s 244ms/step - loss: 0.0341 - val_loss: 0.0342 - lr: 3.0000e-05\n",
=======
      "\u001b[1m13/13\u001b[0m \u001b[32m━━━━━━━━━━━━━━━━━━━━\u001b[0m\u001b[37m\u001b[0m \u001b[1m1s\u001b[0m 102ms/step - loss: 0.0271 - val_loss: 0.0453 - learning_rate: 3.0000e-05\n",
>>>>>>> a862dd9ab583ce5ccad0da723023802a42f8c4a4
      "Epoch 5/250\n",
<<<<<<< HEAD
      "123/123 [==============================] - 30s 243ms/step - loss: 0.0341 - val_loss: 0.0342 - lr: 3.0000e-05\n",
=======
      "\u001b[1m13/13\u001b[0m \u001b[32m━━━━━━━━━━━━━━━━━━━━\u001b[0m\u001b[37m\u001b[0m \u001b[1m1s\u001b[0m 99ms/step - loss: 0.0265 - val_loss: 0.0446 - learning_rate: 3.0000e-05\n",
>>>>>>> a862dd9ab583ce5ccad0da723023802a42f8c4a4
      "Epoch 6/250\n",
<<<<<<< HEAD
      "123/123 [==============================] - 30s 247ms/step - loss: 0.0341 - val_loss: 0.0341 - lr: 3.0000e-05\n",
=======
      "\u001b[1m13/13\u001b[0m \u001b[32m━━━━━━━━━━━━━━━━━━━━\u001b[0m\u001b[37m\u001b[0m \u001b[1m1s\u001b[0m 99ms/step - loss: 0.0262 - val_loss: 0.0439 - learning_rate: 3.0000e-05\n",
>>>>>>> a862dd9ab583ce5ccad0da723023802a42f8c4a4
      "Epoch 7/250\n",
<<<<<<< HEAD
      "123/123 [==============================] - 30s 244ms/step - loss: 0.0341 - val_loss: 0.0341 - lr: 3.0000e-05\n",
=======
      "\u001b[1m13/13\u001b[0m \u001b[32m━━━━━━━━━━━━━━━━━━━━\u001b[0m\u001b[37m\u001b[0m \u001b[1m1s\u001b[0m 99ms/step - loss: 0.0260 - val_loss: 0.0434 - learning_rate: 3.0000e-05\n",
>>>>>>> a862dd9ab583ce5ccad0da723023802a42f8c4a4
      "Epoch 8/250\n",
<<<<<<< HEAD
      "123/123 [==============================] - 30s 242ms/step - loss: 0.0341 - val_loss: 0.0341 - lr: 3.0000e-05\n",
=======
      "\u001b[1m13/13\u001b[0m \u001b[32m━━━━━━━━━━━━━━━━━━━━\u001b[0m\u001b[37m\u001b[0m \u001b[1m1s\u001b[0m 99ms/step - loss: 0.0257 - val_loss: 0.0428 - learning_rate: 3.0000e-05\n",
>>>>>>> a862dd9ab583ce5ccad0da723023802a42f8c4a4
      "Epoch 9/250\n",
<<<<<<< HEAD
      "123/123 [==============================] - 30s 242ms/step - loss: 0.0340 - val_loss: 0.0341 - lr: 3.0000e-05\n",
=======
      "\u001b[1m13/13\u001b[0m \u001b[32m━━━━━━━━━━━━━━━━━━━━\u001b[0m\u001b[37m\u001b[0m \u001b[1m1s\u001b[0m 100ms/step - loss: 0.0254 - val_loss: 0.0424 - learning_rate: 3.0000e-05\n",
>>>>>>> a862dd9ab583ce5ccad0da723023802a42f8c4a4
      "Epoch 10/250\n",
<<<<<<< HEAD
      "123/123 [==============================] - 30s 242ms/step - loss: 0.0340 - val_loss: 0.0341 - lr: 3.0000e-05\n",
=======
      "\u001b[1m13/13\u001b[0m \u001b[32m━━━━━━━━━━━━━━━━━━━━\u001b[0m\u001b[37m\u001b[0m \u001b[1m1s\u001b[0m 99ms/step - loss: 0.0252 - val_loss: 0.0419 - learning_rate: 3.0000e-05\n",
>>>>>>> a862dd9ab583ce5ccad0da723023802a42f8c4a4
      "Epoch 11/250\n",
<<<<<<< HEAD
      "123/123 [==============================] - 30s 240ms/step - loss: 0.0340 - val_loss: 0.0341 - lr: 3.0000e-05\n",
=======
      "\u001b[1m13/13\u001b[0m \u001b[32m━━━━━━━━━━━━━━━━━━━━\u001b[0m\u001b[37m\u001b[0m \u001b[1m1s\u001b[0m 100ms/step - loss: 0.0250 - val_loss: 0.0415 - learning_rate: 3.0000e-05\n",
>>>>>>> a862dd9ab583ce5ccad0da723023802a42f8c4a4
      "Epoch 12/250\n",
<<<<<<< HEAD
      "123/123 [==============================] - 30s 241ms/step - loss: 0.0340 - val_loss: 0.0341 - lr: 3.0000e-05\n",
=======
      "\u001b[1m13/13\u001b[0m \u001b[32m━━━━━━━━━━━━━━━━━━━━\u001b[0m\u001b[37m\u001b[0m \u001b[1m1s\u001b[0m 100ms/step - loss: 0.0249 - val_loss: 0.0411 - learning_rate: 3.0000e-05\n",
>>>>>>> a862dd9ab583ce5ccad0da723023802a42f8c4a4
      "Epoch 13/250\n",
<<<<<<< HEAD
      "123/123 [==============================] - ETA: 0s - loss: 0.0340\n",
      "Epoch 13: ReduceLROnPlateau reducing learning rate to 1.4999999621068127e-05.\n",
      "123/123 [==============================] - 30s 242ms/step - loss: 0.0340 - val_loss: 0.0341 - lr: 3.0000e-05\n",
=======
      "\u001b[1m13/13\u001b[0m \u001b[32m━━━━━━━━━━━━━━━━━━━━\u001b[0m\u001b[37m\u001b[0m \u001b[1m1s\u001b[0m 99ms/step - loss: 0.0247 - val_loss: 0.0408 - learning_rate: 3.0000e-05\n",
>>>>>>> a862dd9ab583ce5ccad0da723023802a42f8c4a4
      "Epoch 14/250\n",
<<<<<<< HEAD
      "123/123 [==============================] - 30s 246ms/step - loss: 0.0340 - val_loss: 0.0341 - lr: 1.5000e-05\n",
=======
      "\u001b[1m13/13\u001b[0m \u001b[32m━━━━━━━━━━━━━━━━━━━━\u001b[0m\u001b[37m\u001b[0m \u001b[1m1s\u001b[0m 99ms/step - loss: 0.0247 - val_loss: 0.0404 - learning_rate: 3.0000e-05\n",
>>>>>>> a862dd9ab583ce5ccad0da723023802a42f8c4a4
      "Epoch 15/250\n",
<<<<<<< HEAD
      "123/123 [==============================] - 30s 247ms/step - loss: 0.0340 - val_loss: 0.0341 - lr: 1.5000e-05\n",
=======
      "\u001b[1m13/13\u001b[0m \u001b[32m━━━━━━━━━━━━━━━━━━━━\u001b[0m\u001b[37m\u001b[0m \u001b[1m1s\u001b[0m 100ms/step - loss: 0.0245 - val_loss: 0.0400 - learning_rate: 3.0000e-05\n",
>>>>>>> a862dd9ab583ce5ccad0da723023802a42f8c4a4
      "Epoch 16/250\n",
<<<<<<< HEAD
      "123/123 [==============================] - 30s 247ms/step - loss: 0.0340 - val_loss: 0.0341 - lr: 1.5000e-05\n",
=======
      "\u001b[1m13/13\u001b[0m \u001b[32m━━━━━━━━━━━━━━━━━━━━\u001b[0m\u001b[37m\u001b[0m \u001b[1m1s\u001b[0m 100ms/step - loss: 0.0243 - val_loss: 0.0396 - learning_rate: 3.0000e-05\n",
>>>>>>> a862dd9ab583ce5ccad0da723023802a42f8c4a4
      "Epoch 17/250\n",
<<<<<<< HEAD
      "123/123 [==============================] - 31s 253ms/step - loss: 0.0340 - val_loss: 0.0341 - lr: 1.5000e-05\n",
=======
      "\u001b[1m13/13\u001b[0m \u001b[32m━━━━━━━━━━━━━━━━━━━━\u001b[0m\u001b[37m\u001b[0m \u001b[1m1s\u001b[0m 100ms/step - loss: 0.0242 - val_loss: 0.0393 - learning_rate: 3.0000e-05\n",
>>>>>>> a862dd9ab583ce5ccad0da723023802a42f8c4a4
      "Epoch 18/250\n",
<<<<<<< HEAD
      "123/123 [==============================] - 31s 252ms/step - loss: 0.0340 - val_loss: 0.0341 - lr: 1.5000e-05\n",
=======
      "\u001b[1m13/13\u001b[0m \u001b[32m━━━━━━━━━━━━━━━━━━━━\u001b[0m\u001b[37m\u001b[0m \u001b[1m1s\u001b[0m 99ms/step - loss: 0.0241 - val_loss: 0.0391 - learning_rate: 3.0000e-05\n",
>>>>>>> a862dd9ab583ce5ccad0da723023802a42f8c4a4
      "Epoch 19/250\n",
<<<<<<< HEAD
      "123/123 [==============================] - 30s 247ms/step - loss: 0.0340 - val_loss: 0.0341 - lr: 1.5000e-05\n",
=======
      "\u001b[1m13/13\u001b[0m \u001b[32m━━━━━━━━━━━━━━━━━━━━\u001b[0m\u001b[37m\u001b[0m \u001b[1m1s\u001b[0m 99ms/step - loss: 0.0239 - val_loss: 0.0388 - learning_rate: 3.0000e-05\n",
>>>>>>> a862dd9ab583ce5ccad0da723023802a42f8c4a4
      "Epoch 20/250\n",
<<<<<<< HEAD
      "123/123 [==============================] - 30s 246ms/step - loss: 0.0340 - val_loss: 0.0341 - lr: 1.5000e-05\n",
=======
      "\u001b[1m13/13\u001b[0m \u001b[32m━━━━━━━━━━━━━━━━━━━━\u001b[0m\u001b[37m\u001b[0m \u001b[1m1s\u001b[0m 99ms/step - loss: 0.0238 - val_loss: 0.0384 - learning_rate: 3.0000e-05\n",
>>>>>>> a862dd9ab583ce5ccad0da723023802a42f8c4a4
      "Epoch 21/250\n",
<<<<<<< HEAD
      "123/123 [==============================] - 30s 243ms/step - loss: 0.0340 - val_loss: 0.0341 - lr: 1.5000e-05\n",
=======
      "\u001b[1m13/13\u001b[0m \u001b[32m━━━━━━━━━━━━━━━━━━━━\u001b[0m\u001b[37m\u001b[0m \u001b[1m1s\u001b[0m 104ms/step - loss: 0.0236 - val_loss: 0.0381 - learning_rate: 3.0000e-05\n",
>>>>>>> a862dd9ab583ce5ccad0da723023802a42f8c4a4
      "Epoch 22/250\n",
<<<<<<< HEAD
      "123/123 [==============================] - 30s 243ms/step - loss: 0.0340 - val_loss: 0.0341 - lr: 1.5000e-05\n",
=======
      "\u001b[1m13/13\u001b[0m \u001b[32m━━━━━━━━━━━━━━━━━━━━\u001b[0m\u001b[37m\u001b[0m \u001b[1m1s\u001b[0m 100ms/step - loss: 0.0235 - val_loss: 0.0378 - learning_rate: 3.0000e-05\n",
>>>>>>> a862dd9ab583ce5ccad0da723023802a42f8c4a4
      "Epoch 23/250\n",
<<<<<<< HEAD
      "123/123 [==============================] - ETA: 0s - loss: 0.0340"
=======
      "\u001b[1m13/13\u001b[0m \u001b[32m━━━━━━━━━━━━━━━━━━━━\u001b[0m\u001b[37m\u001b[0m \u001b[1m1s\u001b[0m 100ms/step - loss: 0.0233 - val_loss: 0.0374 - learning_rate: 3.0000e-05\n",
      "Epoch 24/250\n",
      "\u001b[1m13/13\u001b[0m \u001b[32m━━━━━━━━━━━━━━━━━━━━\u001b[0m\u001b[37m\u001b[0m \u001b[1m1s\u001b[0m 100ms/step - loss: 0.0231 - val_loss: 0.0370 - learning_rate: 3.0000e-05\n",
      "Epoch 25/250\n",
      "\u001b[1m13/13\u001b[0m \u001b[32m━━━━━━━━━━━━━━━━━━━━\u001b[0m\u001b[37m\u001b[0m \u001b[1m1s\u001b[0m 100ms/step - loss: 0.0230 - val_loss: 0.0367 - learning_rate: 3.0000e-05\n",
      "Epoch 26/250\n",
      "\u001b[1m13/13\u001b[0m \u001b[32m━━━━━━━━━━━━━━━━━━━━\u001b[0m\u001b[37m\u001b[0m \u001b[1m1s\u001b[0m 105ms/step - loss: 0.0228 - val_loss: 0.0363 - learning_rate: 3.0000e-05\n",
      "Epoch 27/250\n",
      "\u001b[1m13/13\u001b[0m \u001b[32m━━━━━━━━━━━━━━━━━━━━\u001b[0m\u001b[37m\u001b[0m \u001b[1m1s\u001b[0m 99ms/step - loss: 0.0227 - val_loss: 0.0359 - learning_rate: 3.0000e-05\n",
      "Epoch 28/250\n",
      "\u001b[1m13/13\u001b[0m \u001b[32m━━━━━━━━━━━━━━━━━━━━\u001b[0m\u001b[37m\u001b[0m \u001b[1m1s\u001b[0m 100ms/step - loss: 0.0224 - val_loss: 0.0358 - learning_rate: 3.0000e-05\n",
      "Epoch 29/250\n",
      "\u001b[1m13/13\u001b[0m \u001b[32m━━━━━━━━━━━━━━━━━━━━\u001b[0m\u001b[37m\u001b[0m \u001b[1m1s\u001b[0m 100ms/step - loss: 0.0223 - val_loss: 0.0354 - learning_rate: 3.0000e-05\n",
      "Epoch 30/250\n",
      "\u001b[1m13/13\u001b[0m \u001b[32m━━━━━━━━━━━━━━━━━━━━\u001b[0m\u001b[37m\u001b[0m \u001b[1m1s\u001b[0m 107ms/step - loss: 0.0222 - val_loss: 0.0352 - learning_rate: 3.0000e-05\n",
      "Epoch 31/250\n",
      "\u001b[1m13/13\u001b[0m \u001b[32m━━━━━━━━━━━━━━━━━━━━\u001b[0m\u001b[37m\u001b[0m \u001b[1m1s\u001b[0m 100ms/step - loss: 0.0220 - val_loss: 0.0348 - learning_rate: 3.0000e-05\n",
      "Epoch 32/250\n",
      "\u001b[1m13/13\u001b[0m \u001b[32m━━━━━━━━━━━━━━━━━━━━\u001b[0m\u001b[37m\u001b[0m \u001b[1m1s\u001b[0m 101ms/step - loss: 0.0219 - val_loss: 0.0344 - learning_rate: 3.0000e-05\n",
      "Epoch 33/250\n",
      "\u001b[1m13/13\u001b[0m \u001b[32m━━━━━━━━━━━━━━━━━━━━\u001b[0m\u001b[37m\u001b[0m \u001b[1m1s\u001b[0m 101ms/step - loss: 0.0218 - val_loss: 0.0341 - learning_rate: 3.0000e-05\n",
      "Epoch 34/250\n",
      "\u001b[1m13/13\u001b[0m \u001b[32m━━━━━━━━━━━━━━━━━━━━\u001b[0m\u001b[37m\u001b[0m \u001b[1m1s\u001b[0m 100ms/step - loss: 0.0217 - val_loss: 0.0339 - learning_rate: 3.0000e-05\n",
      "Epoch 35/250\n",
      "\u001b[1m13/13\u001b[0m \u001b[32m━━━━━━━━━━━━━━━━━━━━\u001b[0m\u001b[37m\u001b[0m \u001b[1m1s\u001b[0m 100ms/step - loss: 0.0217 - val_loss: 0.0337 - learning_rate: 3.0000e-05\n",
      "Epoch 36/250\n",
      "\u001b[1m13/13\u001b[0m \u001b[32m━━━━━━━━━━━━━━━━━━━━\u001b[0m\u001b[37m\u001b[0m \u001b[1m1s\u001b[0m 100ms/step - loss: 0.0215 - val_loss: 0.0334 - learning_rate: 3.0000e-05\n",
      "Epoch 37/250\n",
      "\u001b[1m13/13\u001b[0m \u001b[32m━━━━━━━━━━━━━━━━━━━━\u001b[0m\u001b[37m\u001b[0m \u001b[1m1s\u001b[0m 104ms/step - loss: 0.0214 - val_loss: 0.0335 - learning_rate: 3.0000e-05\n",
      "Epoch 38/250\n",
      "\u001b[1m13/13\u001b[0m \u001b[32m━━━━━━━━━━━━━━━━━━━━\u001b[0m\u001b[37m\u001b[0m \u001b[1m1s\u001b[0m 100ms/step - loss: 0.0214 - val_loss: 0.0331 - learning_rate: 3.0000e-05\n",
      "Epoch 39/250\n",
      "\u001b[1m13/13\u001b[0m \u001b[32m━━━━━━━━━━━━━━━━━━━━\u001b[0m\u001b[37m\u001b[0m \u001b[1m1s\u001b[0m 104ms/step - loss: 0.0213 - val_loss: 0.0327 - learning_rate: 3.0000e-05\n",
      "Epoch 40/250\n",
      "\u001b[1m13/13\u001b[0m \u001b[32m━━━━━━━━━━━━━━━━━━━━\u001b[0m\u001b[37m\u001b[0m \u001b[1m1s\u001b[0m 101ms/step - loss: 0.0213 - val_loss: 0.0331 - learning_rate: 3.0000e-05\n",
      "Epoch 41/250\n",
      "\u001b[1m13/13\u001b[0m \u001b[32m━━━━━━━━━━━━━━━━━━━━\u001b[0m\u001b[37m\u001b[0m \u001b[1m1s\u001b[0m 100ms/step - loss: 0.0211 - val_loss: 0.0330 - learning_rate: 3.0000e-05\n",
      "Epoch 42/250\n",
      "\u001b[1m13/13\u001b[0m \u001b[32m━━━━━━━━━━━━━━━━━━━━\u001b[0m\u001b[37m\u001b[0m \u001b[1m1s\u001b[0m 100ms/step - loss: 0.0211 - val_loss: 0.0320 - learning_rate: 3.0000e-05\n",
      "Epoch 43/250\n",
      "\u001b[1m13/13\u001b[0m \u001b[32m━━━━━━━━━━━━━━━━━━━━\u001b[0m\u001b[37m\u001b[0m \u001b[1m1s\u001b[0m 102ms/step - loss: 0.0210 - val_loss: 0.0318 - learning_rate: 3.0000e-05\n",
      "Epoch 44/250\n",
      "\u001b[1m13/13\u001b[0m \u001b[32m━━━━━━━━━━━━━━━━━━━━\u001b[0m\u001b[37m\u001b[0m \u001b[1m1s\u001b[0m 100ms/step - loss: 0.0210 - val_loss: 0.0319 - learning_rate: 3.0000e-05\n",
      "Epoch 45/250\n",
      "\u001b[1m13/13\u001b[0m \u001b[32m━━━━━━━━━━━━━━━━━━━━\u001b[0m\u001b[37m\u001b[0m \u001b[1m1s\u001b[0m 100ms/step - loss: 0.0208 - val_loss: 0.0317 - learning_rate: 3.0000e-05\n",
      "Epoch 46/250\n",
      "\u001b[1m13/13\u001b[0m \u001b[32m━━━━━━━━━━━━━━━━━━━━\u001b[0m\u001b[37m\u001b[0m \u001b[1m1s\u001b[0m 105ms/step - loss: 0.0208 - val_loss: 0.0319 - learning_rate: 3.0000e-05\n",
      "Epoch 47/250\n",
      "\u001b[1m13/13\u001b[0m \u001b[32m━━━━━━━━━━━━━━━━━━━━\u001b[0m\u001b[37m\u001b[0m \u001b[1m1s\u001b[0m 100ms/step - loss: 0.0207 - val_loss: 0.0315 - learning_rate: 3.0000e-05\n",
      "Epoch 48/250\n",
      "\u001b[1m13/13\u001b[0m \u001b[32m━━━━━━━━━━━━━━━━━━━━\u001b[0m\u001b[37m\u001b[0m \u001b[1m1s\u001b[0m 100ms/step - loss: 0.0207 - val_loss: 0.0314 - learning_rate: 3.0000e-05\n",
      "Epoch 49/250\n",
      "\u001b[1m13/13\u001b[0m \u001b[32m━━━━━━━━━━━━━━━━━━━━\u001b[0m\u001b[37m\u001b[0m \u001b[1m1s\u001b[0m 100ms/step - loss: 0.0207 - val_loss: 0.0316 - learning_rate: 3.0000e-05\n",
      "Epoch 50/250\n",
      "\u001b[1m13/13\u001b[0m \u001b[32m━━━━━━━━━━━━━━━━━━━━\u001b[0m\u001b[37m\u001b[0m \u001b[1m1s\u001b[0m 106ms/step - loss: 0.0205 - val_loss: 0.0321 - learning_rate: 3.0000e-05\n",
      "Epoch 51/250\n",
      "\u001b[1m13/13\u001b[0m \u001b[32m━━━━━━━━━━━━━━━━━━━━\u001b[0m\u001b[37m\u001b[0m \u001b[1m1s\u001b[0m 100ms/step - loss: 0.0204 - val_loss: 0.0319 - learning_rate: 3.0000e-05\n",
      "Epoch 52/250\n",
      "\u001b[1m13/13\u001b[0m \u001b[32m━━━━━━━━━━━━━━━━━━━━\u001b[0m\u001b[37m\u001b[0m \u001b[1m1s\u001b[0m 100ms/step - loss: 0.0204 - val_loss: 0.0313 - learning_rate: 3.0000e-05\n",
      "Epoch 53/250\n",
      "\u001b[1m13/13\u001b[0m \u001b[32m━━━━━━━━━━━━━━━━━━━━\u001b[0m\u001b[37m\u001b[0m \u001b[1m1s\u001b[0m 100ms/step - loss: 0.0203 - val_loss: 0.0316 - learning_rate: 3.0000e-05\n",
      "Epoch 54/250\n",
      "\u001b[1m13/13\u001b[0m \u001b[32m━━━━━━━━━━━━━━━━━━━━\u001b[0m\u001b[37m\u001b[0m \u001b[1m1s\u001b[0m 100ms/step - loss: 0.0203 - val_loss: 0.0314 - learning_rate: 3.0000e-05\n",
      "Epoch 55/250\n",
      "\u001b[1m13/13\u001b[0m \u001b[32m━━━━━━━━━━━━━━━━━━━━\u001b[0m\u001b[37m\u001b[0m \u001b[1m1s\u001b[0m 100ms/step - loss: 0.0203 - val_loss: 0.0319 - learning_rate: 3.0000e-05\n",
      "Epoch 56/250\n",
      "\u001b[1m13/13\u001b[0m \u001b[32m━━━━━━━━━━━━━━━━━━━━\u001b[0m\u001b[37m\u001b[0m \u001b[1m1s\u001b[0m 100ms/step - loss: 0.0202 - val_loss: 0.0318 - learning_rate: 3.0000e-05\n",
      "Epoch 57/250\n",
      "\u001b[1m13/13\u001b[0m \u001b[32m━━━━━━━━━━━━━━━━━━━━\u001b[0m\u001b[37m\u001b[0m \u001b[1m1s\u001b[0m 100ms/step - loss: 0.0201 - val_loss: 0.0315 - learning_rate: 3.0000e-05\n",
      "Epoch 58/250\n",
      "\u001b[1m13/13\u001b[0m \u001b[32m━━━━━━━━━━━━━━━━━━━━\u001b[0m\u001b[37m\u001b[0m \u001b[1m1s\u001b[0m 101ms/step - loss: 0.0200 - val_loss: 0.0316 - learning_rate: 3.0000e-05\n",
      "Epoch 59/250\n",
      "\u001b[1m13/13\u001b[0m \u001b[32m━━━━━━━━━━━━━━━━━━━━\u001b[0m\u001b[37m\u001b[0m \u001b[1m1s\u001b[0m 102ms/step - loss: 0.0200 - val_loss: 0.0320 - learning_rate: 3.0000e-05\n",
      "Epoch 60/250\n",
      "\u001b[1m13/13\u001b[0m \u001b[32m━━━━━━━━━━━━━━━━━━━━\u001b[0m\u001b[37m\u001b[0m \u001b[1m1s\u001b[0m 101ms/step - loss: 0.0199 - val_loss: 0.0323 - learning_rate: 3.0000e-05\n",
      "Epoch 61/250\n",
      "\u001b[1m13/13\u001b[0m \u001b[32m━━━━━━━━━━━━━━━━━━━━\u001b[0m\u001b[37m\u001b[0m \u001b[1m1s\u001b[0m 100ms/step - loss: 0.0199 - val_loss: 0.0325 - learning_rate: 3.0000e-05\n",
      "Epoch 62/250\n",
      "\u001b[1m12/13\u001b[0m \u001b[32m━━━━━━━━━━━━━━━━━━\u001b[0m\u001b[37m━━\u001b[0m \u001b[1m0s\u001b[0m 96ms/step - loss: 0.0199\n",
      "Epoch 62: ReduceLROnPlateau reducing learning rate to 1.4999999621068127e-05.\n",
      "\u001b[1m13/13\u001b[0m \u001b[32m━━━━━━━━━━━━━━━━━━━━\u001b[0m\u001b[37m\u001b[0m \u001b[1m1s\u001b[0m 100ms/step - loss: 0.0199 - val_loss: 0.0325 - learning_rate: 3.0000e-05\n",
      "Epoch 63/250\n",
      "\u001b[1m13/13\u001b[0m \u001b[32m━━━━━━━━━━━━━━━━━━━━\u001b[0m\u001b[37m\u001b[0m \u001b[1m1s\u001b[0m 100ms/step - loss: 0.0197 - val_loss: 0.0315 - learning_rate: 1.5000e-05\n",
      "Epoch 64/250\n",
      "\u001b[1m13/13\u001b[0m \u001b[32m━━━━━━━━━━━━━━━━━━━━\u001b[0m\u001b[37m\u001b[0m \u001b[1m1s\u001b[0m 104ms/step - loss: 0.0197 - val_loss: 0.0310 - learning_rate: 1.5000e-05\n",
      "Epoch 65/250\n",
      "\u001b[1m13/13\u001b[0m \u001b[32m━━━━━━━━━━━━━━━━━━━━\u001b[0m\u001b[37m\u001b[0m \u001b[1m1s\u001b[0m 100ms/step - loss: 0.0196 - val_loss: 0.0303 - learning_rate: 1.5000e-05\n",
      "Epoch 66/250\n",
      "\u001b[1m13/13\u001b[0m \u001b[32m━━━━━━━━━━━━━━━━━━━━\u001b[0m\u001b[37m\u001b[0m \u001b[1m1s\u001b[0m 100ms/step - loss: 0.0196 - val_loss: 0.0301 - learning_rate: 1.5000e-05\n",
      "Epoch 67/250\n",
      "\u001b[1m13/13\u001b[0m \u001b[32m━━━━━━━━━━━━━━━━━━━━\u001b[0m\u001b[37m\u001b[0m \u001b[1m1s\u001b[0m 100ms/step - loss: 0.0196 - val_loss: 0.0297 - learning_rate: 1.5000e-05\n",
      "Epoch 68/250\n",
      "\u001b[1m13/13\u001b[0m \u001b[32m━━━━━━━━━━━━━━━━━━━━\u001b[0m\u001b[37m\u001b[0m \u001b[1m1s\u001b[0m 108ms/step - loss: 0.0195 - val_loss: 0.0297 - learning_rate: 1.5000e-05\n",
      "Epoch 69/250\n",
      "\u001b[1m13/13\u001b[0m \u001b[32m━━━━━━━━━━━━━━━━━━━━\u001b[0m\u001b[37m\u001b[0m \u001b[1m1s\u001b[0m 100ms/step - loss: 0.0195 - val_loss: 0.0295 - learning_rate: 1.5000e-05\n",
      "Epoch 70/250\n",
      "\u001b[1m13/13\u001b[0m \u001b[32m━━━━━━━━━━━━━━━━━━━━\u001b[0m\u001b[37m\u001b[0m \u001b[1m1s\u001b[0m 100ms/step - loss: 0.0195 - val_loss: 0.0289 - learning_rate: 1.5000e-05\n",
      "Epoch 71/250\n",
      "\u001b[1m13/13\u001b[0m \u001b[32m━━━━━━━━━━━━━━━━━━━━\u001b[0m\u001b[37m\u001b[0m \u001b[1m1s\u001b[0m 100ms/step - loss: 0.0194 - val_loss: 0.0290 - learning_rate: 1.5000e-05\n",
      "Epoch 72/250\n",
      "\u001b[1m13/13\u001b[0m \u001b[32m━━━━━━━━━━━━━━━━━━━━\u001b[0m\u001b[37m\u001b[0m \u001b[1m1s\u001b[0m 108ms/step - loss: 0.0194 - val_loss: 0.0291 - learning_rate: 1.5000e-05\n",
      "Epoch 73/250\n",
      "\u001b[1m13/13\u001b[0m \u001b[32m━━━━━━━━━━━━━━━━━━━━\u001b[0m\u001b[37m\u001b[0m \u001b[1m1s\u001b[0m 100ms/step - loss: 0.0194 - val_loss: 0.0291 - learning_rate: 1.5000e-05\n",
      "Epoch 74/250\n",
      "\u001b[1m13/13\u001b[0m \u001b[32m━━━━━━━━━━━━━━━━━━━━\u001b[0m\u001b[37m\u001b[0m \u001b[1m1s\u001b[0m 100ms/step - loss: 0.0194 - val_loss: 0.0287 - learning_rate: 1.5000e-05\n",
      "Epoch 75/250\n",
      "\u001b[1m13/13\u001b[0m \u001b[32m━━━━━━━━━━━━━━━━━━━━\u001b[0m\u001b[37m\u001b[0m \u001b[1m1s\u001b[0m 100ms/step - loss: 0.0193 - val_loss: 0.0284 - learning_rate: 1.5000e-05\n",
      "Epoch 76/250\n",
      "\u001b[1m13/13\u001b[0m \u001b[32m━━━━━━━━━━━━━━━━━━━━\u001b[0m\u001b[37m\u001b[0m \u001b[1m1s\u001b[0m 100ms/step - loss: 0.0193 - val_loss: 0.0287 - learning_rate: 1.5000e-05\n",
      "Epoch 77/250\n",
      "\u001b[1m13/13\u001b[0m \u001b[32m━━━━━━━━━━━━━━━━━━━━\u001b[0m\u001b[37m\u001b[0m \u001b[1m1s\u001b[0m 100ms/step - loss: 0.0193 - val_loss: 0.0284 - learning_rate: 1.5000e-05\n",
      "Epoch 78/250\n",
      "\u001b[1m13/13\u001b[0m \u001b[32m━━━━━━━━━━━━━━━━━━━━\u001b[0m\u001b[37m\u001b[0m \u001b[1m1s\u001b[0m 101ms/step - loss: 0.0192 - val_loss: 0.0285 - learning_rate: 1.5000e-05\n",
      "Epoch 79/250\n",
      "\u001b[1m13/13\u001b[0m \u001b[32m━━━━━━━━━━━━━━━━━━━━\u001b[0m\u001b[37m\u001b[0m \u001b[1m1s\u001b[0m 100ms/step - loss: 0.0192 - val_loss: 0.0285 - learning_rate: 1.5000e-05\n",
      "Epoch 80/250\n",
      "\u001b[1m13/13\u001b[0m \u001b[32m━━━━━━━━━━━━━━━━━━━━\u001b[0m\u001b[37m\u001b[0m \u001b[1m1s\u001b[0m 105ms/step - loss: 0.0192 - val_loss: 0.0284 - learning_rate: 1.5000e-05\n",
      "Epoch 81/250\n",
      "\u001b[1m13/13\u001b[0m \u001b[32m━━━━━━━━━━━━━━━━━━━━\u001b[0m\u001b[37m\u001b[0m \u001b[1m1s\u001b[0m 101ms/step - loss: 0.0191 - val_loss: 0.0286 - learning_rate: 1.5000e-05\n",
      "Epoch 82/250\n",
      "\u001b[1m13/13\u001b[0m \u001b[32m━━━━━━━━━━━━━━━━━━━━\u001b[0m\u001b[37m\u001b[0m \u001b[1m1s\u001b[0m 100ms/step - loss: 0.0192 - val_loss: 0.0284 - learning_rate: 1.5000e-05\n",
      "Epoch 83/250\n",
      "\u001b[1m13/13\u001b[0m \u001b[32m━━━━━━━━━━━━━━━━━━━━\u001b[0m\u001b[37m\u001b[0m \u001b[1m1s\u001b[0m 100ms/step - loss: 0.0191 - val_loss: 0.0284 - learning_rate: 1.5000e-05\n",
      "Epoch 84/250\n",
      "\u001b[1m13/13\u001b[0m \u001b[32m━━━━━━━━━━━━━━━━━━━━\u001b[0m\u001b[37m\u001b[0m \u001b[1m1s\u001b[0m 103ms/step - loss: 0.0190 - val_loss: 0.0287 - learning_rate: 1.5000e-05\n",
      "Epoch 85/250\n",
      "\u001b[1m13/13\u001b[0m \u001b[32m━━━━━━━━━━━━━━━━━━━━\u001b[0m\u001b[37m\u001b[0m \u001b[1m1s\u001b[0m 101ms/step - loss: 0.0190 - val_loss: 0.0281 - learning_rate: 1.5000e-05\n",
      "Epoch 86/250\n",
      "\u001b[1m13/13\u001b[0m \u001b[32m━━━━━━━━━━━━━━━━━━━━\u001b[0m\u001b[37m\u001b[0m \u001b[1m1s\u001b[0m 100ms/step - loss: 0.0190 - val_loss: 0.0283 - learning_rate: 1.5000e-05\n",
      "Epoch 87/250\n",
      "\u001b[1m13/13\u001b[0m \u001b[32m━━━━━━━━━━━━━━━━━━━━\u001b[0m\u001b[37m\u001b[0m \u001b[1m1s\u001b[0m 100ms/step - loss: 0.0190 - val_loss: 0.0286 - learning_rate: 1.5000e-05\n",
      "Epoch 88/250\n",
      "\u001b[1m13/13\u001b[0m \u001b[32m━━━━━━━━━━━━━━━━━━━━\u001b[0m\u001b[37m\u001b[0m \u001b[1m1s\u001b[0m 100ms/step - loss: 0.0189 - val_loss: 0.0284 - learning_rate: 1.5000e-05\n",
      "Epoch 89/250\n",
      "\u001b[1m13/13\u001b[0m \u001b[32m━━━━━━━━━━━━━━━━━━━━\u001b[0m\u001b[37m\u001b[0m \u001b[1m1s\u001b[0m 101ms/step - loss: 0.0189 - val_loss: 0.0285 - learning_rate: 1.5000e-05\n",
      "Epoch 90/250\n",
      "\u001b[1m13/13\u001b[0m \u001b[32m━━━━━━━━━━━━━━━━━━━━\u001b[0m\u001b[37m\u001b[0m \u001b[1m1s\u001b[0m 105ms/step - loss: 0.0189 - val_loss: 0.0284 - learning_rate: 1.5000e-05\n",
      "Epoch 91/250\n",
      "\u001b[1m13/13\u001b[0m \u001b[32m━━━━━━━━━━━━━━━━━━━━\u001b[0m\u001b[37m\u001b[0m \u001b[1m1s\u001b[0m 100ms/step - loss: 0.0188 - val_loss: 0.0284 - learning_rate: 1.5000e-05\n",
      "Epoch 92/250\n",
      "\u001b[1m13/13\u001b[0m \u001b[32m━━━━━━━━━━━━━━━━━━━━\u001b[0m\u001b[37m\u001b[0m \u001b[1m1s\u001b[0m 100ms/step - loss: 0.0188 - val_loss: 0.0284 - learning_rate: 1.5000e-05\n",
      "Epoch 93/250\n",
      "\u001b[1m13/13\u001b[0m \u001b[32m━━━━━━━━━━━━━━━━━━━━\u001b[0m\u001b[37m\u001b[0m \u001b[1m1s\u001b[0m 100ms/step - loss: 0.0188 - val_loss: 0.0284 - learning_rate: 1.5000e-05\n",
      "Epoch 94/250\n",
      "\u001b[1m13/13\u001b[0m \u001b[32m━━━━━━━━━━━━━━━━━━━━\u001b[0m\u001b[37m\u001b[0m \u001b[1m1s\u001b[0m 105ms/step - loss: 0.0188 - val_loss: 0.0286 - learning_rate: 1.5000e-05\n",
      "Epoch 95/250\n",
      "\u001b[1m12/13\u001b[0m \u001b[32m━━━━━━━━━━━━━━━━━━\u001b[0m\u001b[37m━━\u001b[0m \u001b[1m0s\u001b[0m 97ms/step - loss: 0.0187\n",
      "Epoch 95: ReduceLROnPlateau reducing learning rate to 7.499999810534064e-06.\n",
      "\u001b[1m13/13\u001b[0m \u001b[32m━━━━━━━━━━━━━━━━━━━━\u001b[0m\u001b[37m\u001b[0m \u001b[1m1s\u001b[0m 100ms/step - loss: 0.0187 - val_loss: 0.0286 - learning_rate: 1.5000e-05\n",
      "Epoch 96/250\n",
      "\u001b[1m13/13\u001b[0m \u001b[32m━━━━━━━━━━━━━━━━━━━━\u001b[0m\u001b[37m\u001b[0m \u001b[1m1s\u001b[0m 101ms/step - loss: 0.0187 - val_loss: 0.0283 - learning_rate: 7.5000e-06\n",
      "Epoch 97/250\n",
      "\u001b[1m13/13\u001b[0m \u001b[32m━━━━━━━━━━━━━━━━━━━━\u001b[0m\u001b[37m\u001b[0m \u001b[1m1s\u001b[0m 101ms/step - loss: 0.0187 - val_loss: 0.0283 - learning_rate: 7.5000e-06\n",
      "Epoch 98/250\n",
      "\u001b[1m13/13\u001b[0m \u001b[32m━━━━━━━━━━━━━━━━━━━━\u001b[0m\u001b[37m\u001b[0m \u001b[1m1s\u001b[0m 105ms/step - loss: 0.0186 - val_loss: 0.0278 - learning_rate: 7.5000e-06\n",
      "Epoch 99/250\n",
      "\u001b[1m13/13\u001b[0m \u001b[32m━━━━━━━━━━━━━━━━━━━━\u001b[0m\u001b[37m\u001b[0m \u001b[1m1s\u001b[0m 101ms/step - loss: 0.0186 - val_loss: 0.0281 - learning_rate: 7.5000e-06\n",
      "Epoch 100/250\n",
      "\u001b[1m13/13\u001b[0m \u001b[32m━━━━━━━━━━━━━━━━━━━━\u001b[0m\u001b[37m\u001b[0m \u001b[1m1s\u001b[0m 100ms/step - loss: 0.0186 - val_loss: 0.0277 - learning_rate: 7.5000e-06\n",
      "Epoch 101/250\n",
      "\u001b[1m13/13\u001b[0m \u001b[32m━━━━━━━━━━━━━━━━━━━━\u001b[0m\u001b[37m\u001b[0m \u001b[1m1s\u001b[0m 100ms/step - loss: 0.0186 - val_loss: 0.0277 - learning_rate: 7.5000e-06\n",
      "Epoch 102/250\n",
      "\u001b[1m13/13\u001b[0m \u001b[32m━━━━━━━━━━━━━━━━━━━━\u001b[0m\u001b[37m\u001b[0m \u001b[1m1s\u001b[0m 105ms/step - loss: 0.0186 - val_loss: 0.0276 - learning_rate: 7.5000e-06\n",
      "Epoch 103/250\n",
      "\u001b[1m13/13\u001b[0m \u001b[32m━━━━━━━━━━━━━━━━━━━━\u001b[0m\u001b[37m\u001b[0m \u001b[1m1s\u001b[0m 101ms/step - loss: 0.0185 - val_loss: 0.0276 - learning_rate: 7.5000e-06\n",
      "Epoch 104/250\n",
      "\u001b[1m13/13\u001b[0m \u001b[32m━━━━━━━━━━━━━━━━━━━━\u001b[0m\u001b[37m\u001b[0m \u001b[1m1s\u001b[0m 101ms/step - loss: 0.0185 - val_loss: 0.0275 - learning_rate: 7.5000e-06\n",
      "Epoch 105/250\n",
      "\u001b[1m13/13\u001b[0m \u001b[32m━━━━━━━━━━━━━━━━━━━━\u001b[0m\u001b[37m\u001b[0m \u001b[1m1s\u001b[0m 104ms/step - loss: 0.0185 - val_loss: 0.0274 - learning_rate: 7.5000e-06\n",
      "Epoch 106/250\n",
      "\u001b[1m13/13\u001b[0m \u001b[32m━━━━━━━━━━━━━━━━━━━━\u001b[0m\u001b[37m\u001b[0m \u001b[1m1s\u001b[0m 101ms/step - loss: 0.0185 - val_loss: 0.0276 - learning_rate: 7.5000e-06\n",
      "Epoch 107/250\n",
      "\u001b[1m13/13\u001b[0m \u001b[32m━━━━━━━━━━━━━━━━━━━━\u001b[0m\u001b[37m\u001b[0m \u001b[1m1s\u001b[0m 100ms/step - loss: 0.0185 - val_loss: 0.0275 - learning_rate: 7.5000e-06\n",
      "Epoch 108/250\n",
      "\u001b[1m13/13\u001b[0m \u001b[32m━━━━━━━━━━━━━━━━━━━━\u001b[0m\u001b[37m\u001b[0m \u001b[1m1s\u001b[0m 101ms/step - loss: 0.0185 - val_loss: 0.0274 - learning_rate: 7.5000e-06\n",
      "Epoch 109/250\n",
      "\u001b[1m13/13\u001b[0m \u001b[32m━━━━━━━━━━━━━━━━━━━━\u001b[0m\u001b[37m\u001b[0m \u001b[1m1s\u001b[0m 101ms/step - loss: 0.0184 - val_loss: 0.0273 - learning_rate: 7.5000e-06\n",
      "Epoch 110/250\n",
      "\u001b[1m13/13\u001b[0m \u001b[32m━━━━━━━━━━━━━━━━━━━━\u001b[0m\u001b[37m\u001b[0m \u001b[1m1s\u001b[0m 108ms/step - loss: 0.0185 - val_loss: 0.0273 - learning_rate: 7.5000e-06\n",
      "Epoch 111/250\n",
      "\u001b[1m13/13\u001b[0m \u001b[32m━━━━━━━━━━━━━━━━━━━━\u001b[0m\u001b[37m\u001b[0m \u001b[1m1s\u001b[0m 100ms/step - loss: 0.0184 - val_loss: 0.0273 - learning_rate: 7.5000e-06\n",
      "Epoch 112/250\n",
      "\u001b[1m13/13\u001b[0m \u001b[32m━━━━━━━━━━━━━━━━━━━━\u001b[0m\u001b[37m\u001b[0m \u001b[1m1s\u001b[0m 101ms/step - loss: 0.0184 - val_loss: 0.0273 - learning_rate: 7.5000e-06\n",
      "Epoch 113/250\n",
      "\u001b[1m13/13\u001b[0m \u001b[32m━━━━━━━━━━━━━━━━━━━━\u001b[0m\u001b[37m\u001b[0m \u001b[1m1s\u001b[0m 100ms/step - loss: 0.0184 - val_loss: 0.0274 - learning_rate: 7.5000e-06\n",
      "Epoch 114/250\n",
      "\u001b[1m13/13\u001b[0m \u001b[32m━━━━━━━━━━━━━━━━━━━━\u001b[0m\u001b[37m\u001b[0m \u001b[1m1s\u001b[0m 104ms/step - loss: 0.0184 - val_loss: 0.0274 - learning_rate: 7.5000e-06\n",
      "Epoch 115/250\n",
      "\u001b[1m13/13\u001b[0m \u001b[32m━━━━━━━━━━━━━━━━━━━━\u001b[0m\u001b[37m\u001b[0m \u001b[1m1s\u001b[0m 101ms/step - loss: 0.0184 - val_loss: 0.0273 - learning_rate: 7.5000e-06\n",
      "Epoch 116/250\n",
      "\u001b[1m13/13\u001b[0m \u001b[32m━━━━━━━━━━━━━━━━━━━━\u001b[0m\u001b[37m\u001b[0m \u001b[1m1s\u001b[0m 101ms/step - loss: 0.0183 - val_loss: 0.0274 - learning_rate: 7.5000e-06\n",
      "Epoch 117/250\n",
      "\u001b[1m13/13\u001b[0m \u001b[32m━━━━━━━━━━━━━━━━━━━━\u001b[0m\u001b[37m\u001b[0m \u001b[1m1s\u001b[0m 101ms/step - loss: 0.0183 - val_loss: 0.0273 - learning_rate: 7.5000e-06\n",
      "Epoch 118/250\n",
      "\u001b[1m13/13\u001b[0m \u001b[32m━━━━━━━━━━━━━━━━━━━━\u001b[0m\u001b[37m\u001b[0m \u001b[1m1s\u001b[0m 105ms/step - loss: 0.0184 - val_loss: 0.0274 - learning_rate: 7.5000e-06\n",
      "Epoch 119/250\n",
      "\u001b[1m13/13\u001b[0m \u001b[32m━━━━━━━━━━━━━━━━━━━━\u001b[0m\u001b[37m\u001b[0m \u001b[1m1s\u001b[0m 100ms/step - loss: 0.0183 - val_loss: 0.0274 - learning_rate: 7.5000e-06\n",
      "Epoch 120/250\n",
      "\u001b[1m12/13\u001b[0m \u001b[32m━━━━━━━━━━━━━━━━━━\u001b[0m\u001b[37m━━\u001b[0m \u001b[1m0s\u001b[0m 97ms/step - loss: 0.0184\n",
      "Epoch 120: ReduceLROnPlateau reducing learning rate to 3.749999905267032e-06.\n",
      "\u001b[1m13/13\u001b[0m \u001b[32m━━━━━━━━━━━━━━━━━━━━\u001b[0m\u001b[37m\u001b[0m \u001b[1m1s\u001b[0m 100ms/step - loss: 0.0183 - val_loss: 0.0275 - learning_rate: 7.5000e-06\n",
      "Epoch 121/250\n",
      "\u001b[1m13/13\u001b[0m \u001b[32m━━━━━━━━━━━━━━━━━━━━\u001b[0m\u001b[37m\u001b[0m \u001b[1m1s\u001b[0m 101ms/step - loss: 0.0183 - val_loss: 0.0273 - learning_rate: 3.7500e-06\n",
      "Epoch 122/250\n",
      "\u001b[1m13/13\u001b[0m \u001b[32m━━━━━━━━━━━━━━━━━━━━\u001b[0m\u001b[37m\u001b[0m \u001b[1m1s\u001b[0m 100ms/step - loss: 0.0183 - val_loss: 0.0272 - learning_rate: 3.7500e-06\n",
      "Epoch 123/250\n",
      "\u001b[1m13/13\u001b[0m \u001b[32m━━━━━━━━━━━━━━━━━━━━\u001b[0m\u001b[37m\u001b[0m \u001b[1m1s\u001b[0m 102ms/step - loss: 0.0183 - val_loss: 0.0272 - learning_rate: 3.7500e-06\n",
      "Epoch 124/250\n",
      "\u001b[1m13/13\u001b[0m \u001b[32m━━━━━━━━━━━━━━━━━━━━\u001b[0m\u001b[37m\u001b[0m \u001b[1m1s\u001b[0m 101ms/step - loss: 0.0183 - val_loss: 0.0272 - learning_rate: 3.7500e-06\n",
      "Epoch 125/250\n",
      "\u001b[1m13/13\u001b[0m \u001b[32m━━━━━━━━━━━━━━━━━━━━\u001b[0m\u001b[37m\u001b[0m \u001b[1m1s\u001b[0m 101ms/step - loss: 0.0183 - val_loss: 0.0272 - learning_rate: 3.7500e-06\n",
      "Epoch 126/250\n",
      "\u001b[1m13/13\u001b[0m \u001b[32m━━━━━━━━━━━━━━━━━━━━\u001b[0m\u001b[37m\u001b[0m \u001b[1m1s\u001b[0m 100ms/step - loss: 0.0182 - val_loss: 0.0272 - learning_rate: 3.7500e-06\n",
      "Epoch 127/250\n",
      "\u001b[1m13/13\u001b[0m \u001b[32m━━━━━━━━━━━━━━━━━━━━\u001b[0m\u001b[37m\u001b[0m \u001b[1m1s\u001b[0m 101ms/step - loss: 0.0182 - val_loss: 0.0272 - learning_rate: 3.7500e-06\n",
      "Epoch 128/250\n",
      "\u001b[1m13/13\u001b[0m \u001b[32m━━━━━━━━━━━━━━━━━━━━\u001b[0m\u001b[37m\u001b[0m \u001b[1m1s\u001b[0m 101ms/step - loss: 0.0182 - val_loss: 0.0272 - learning_rate: 3.7500e-06\n",
      "Epoch 129/250\n",
      "\u001b[1m13/13\u001b[0m \u001b[32m━━━━━━━━━━━━━━━━━━━━\u001b[0m\u001b[37m\u001b[0m \u001b[1m1s\u001b[0m 101ms/step - loss: 0.0182 - val_loss: 0.0271 - learning_rate: 3.7500e-06\n",
      "Epoch 130/250\n",
      "\u001b[1m13/13\u001b[0m \u001b[32m━━━━━━━━━━━━━━━━━━━━\u001b[0m\u001b[37m\u001b[0m \u001b[1m1s\u001b[0m 100ms/step - loss: 0.0182 - val_loss: 0.0271 - learning_rate: 3.7500e-06\n",
      "Epoch 131/250\n",
      "\u001b[1m13/13\u001b[0m \u001b[32m━━━━━━━━━━━━━━━━━━━━\u001b[0m\u001b[37m\u001b[0m \u001b[1m1s\u001b[0m 100ms/step - loss: 0.0182 - val_loss: 0.0271 - learning_rate: 3.7500e-06\n",
      "Epoch 132/250\n",
      "\u001b[1m13/13\u001b[0m \u001b[32m━━━━━━━━━━━━━━━━━━━━\u001b[0m\u001b[37m\u001b[0m \u001b[1m1s\u001b[0m 100ms/step - loss: 0.0182 - val_loss: 0.0271 - learning_rate: 3.7500e-06\n",
      "Epoch 133/250\n",
      "\u001b[1m13/13\u001b[0m \u001b[32m━━━━━━━━━━━━━━━━━━━━\u001b[0m\u001b[37m\u001b[0m \u001b[1m1s\u001b[0m 100ms/step - loss: 0.0182 - val_loss: 0.0271 - learning_rate: 3.7500e-06\n",
      "Epoch 134/250\n",
      "\u001b[1m13/13\u001b[0m \u001b[32m━━━━━━━━━━━━━━━━━━━━\u001b[0m\u001b[37m\u001b[0m \u001b[1m1s\u001b[0m 100ms/step - loss: 0.0182 - val_loss: 0.0271 - learning_rate: 3.7500e-06\n",
      "Epoch 135/250\n",
      "\u001b[1m13/13\u001b[0m \u001b[32m━━━━━━━━━━━━━━━━━━━━\u001b[0m\u001b[37m\u001b[0m \u001b[1m1s\u001b[0m 100ms/step - loss: 0.0182 - val_loss: 0.0271 - learning_rate: 3.7500e-06\n",
      "Epoch 136/250\n",
      "\u001b[1m13/13\u001b[0m \u001b[32m━━━━━━━━━━━━━━━━━━━━\u001b[0m\u001b[37m\u001b[0m \u001b[1m1s\u001b[0m 100ms/step - loss: 0.0182 - val_loss: 0.0271 - learning_rate: 3.7500e-06\n",
      "Epoch 137/250\n",
      "\u001b[1m13/13\u001b[0m \u001b[32m━━━━━━━━━━━━━━━━━━━━\u001b[0m\u001b[37m\u001b[0m \u001b[1m1s\u001b[0m 100ms/step - loss: 0.0182 - val_loss: 0.0271 - learning_rate: 3.7500e-06\n",
      "Epoch 138/250\n",
      "\u001b[1m12/13\u001b[0m \u001b[32m━━━━━━━━━━━━━━━━━━\u001b[0m\u001b[37m━━\u001b[0m \u001b[1m0s\u001b[0m 97ms/step - loss: 0.0182\n",
      "Epoch 138: ReduceLROnPlateau reducing learning rate to 1.874999952633516e-06.\n",
      "\u001b[1m13/13\u001b[0m \u001b[32m━━━━━━━━━━━━━━━━━━━━\u001b[0m\u001b[37m\u001b[0m \u001b[1m1s\u001b[0m 101ms/step - loss: 0.0182 - val_loss: 0.0271 - learning_rate: 3.7500e-06\n",
      "Epoch 139/250\n",
      "\u001b[1m13/13\u001b[0m \u001b[32m━━━━━━━━━━━━━━━━━━━━\u001b[0m\u001b[37m\u001b[0m \u001b[1m1s\u001b[0m 100ms/step - loss: 0.0181 - val_loss: 0.0271 - learning_rate: 1.8750e-06\n",
      "Epoch 140/250\n",
      "\u001b[1m13/13\u001b[0m \u001b[32m━━━━━━━━━━━━━━━━━━━━\u001b[0m\u001b[37m\u001b[0m \u001b[1m1s\u001b[0m 100ms/step - loss: 0.0181 - val_loss: 0.0271 - learning_rate: 1.8750e-06\n",
      "Epoch 141/250\n",
      "\u001b[1m13/13\u001b[0m \u001b[32m━━━━━━━━━━━━━━━━━━━━\u001b[0m\u001b[37m\u001b[0m \u001b[1m1s\u001b[0m 105ms/step - loss: 0.0181 - val_loss: 0.0271 - learning_rate: 1.8750e-06\n",
      "Epoch 142/250\n",
      "\u001b[1m13/13\u001b[0m \u001b[32m━━━━━━━━━━━━━━━━━━━━\u001b[0m\u001b[37m\u001b[0m \u001b[1m1s\u001b[0m 101ms/step - loss: 0.0181 - val_loss: 0.0271 - learning_rate: 1.8750e-06\n",
      "Epoch 143/250\n",
      "\u001b[1m13/13\u001b[0m \u001b[32m━━━━━━━━━━━━━━━━━━━━\u001b[0m\u001b[37m\u001b[0m \u001b[1m1s\u001b[0m 100ms/step - loss: 0.0181 - val_loss: 0.0271 - learning_rate: 1.8750e-06\n",
      "Epoch 144/250\n",
      "\u001b[1m13/13\u001b[0m \u001b[32m━━━━━━━━━━━━━━━━━━━━\u001b[0m\u001b[37m\u001b[0m \u001b[1m1s\u001b[0m 101ms/step - loss: 0.0181 - val_loss: 0.0271 - learning_rate: 1.8750e-06\n",
      "Epoch 145/250\n",
      "\u001b[1m13/13\u001b[0m \u001b[32m━━━━━━━━━━━━━━━━━━━━\u001b[0m\u001b[37m\u001b[0m \u001b[1m1s\u001b[0m 101ms/step - loss: 0.0181 - val_loss: 0.0271 - learning_rate: 1.8750e-06\n",
      "Epoch 146/250\n",
      "\u001b[1m13/13\u001b[0m \u001b[32m━━━━━━━━━━━━━━━━━━━━\u001b[0m\u001b[37m\u001b[0m \u001b[1m1s\u001b[0m 104ms/step - loss: 0.0181 - val_loss: 0.0271 - learning_rate: 1.8750e-06\n",
      "Epoch 147/250\n",
      "\u001b[1m13/13\u001b[0m \u001b[32m━━━━━━━━━━━━━━━━━━━━\u001b[0m\u001b[37m\u001b[0m \u001b[1m1s\u001b[0m 100ms/step - loss: 0.0181 - val_loss: 0.0271 - learning_rate: 1.8750e-06\n",
      "Epoch 148/250\n",
      "\u001b[1m12/13\u001b[0m \u001b[32m━━━━━━━━━━━━━━━━━━\u001b[0m\u001b[37m━━\u001b[0m \u001b[1m0s\u001b[0m 97ms/step - loss: 0.0181\n",
      "Epoch 148: ReduceLROnPlateau reducing learning rate to 9.37499976316758e-07.\n",
      "\u001b[1m13/13\u001b[0m \u001b[32m━━━━━━━━━━━━━━━━━━━━\u001b[0m\u001b[37m\u001b[0m \u001b[1m1s\u001b[0m 101ms/step - loss: 0.0181 - val_loss: 0.0271 - learning_rate: 1.8750e-06\n",
      "Epoch 149/250\n",
      "\u001b[1m13/13\u001b[0m \u001b[32m━━━━━━━━━━━━━━━━━━━━\u001b[0m\u001b[37m\u001b[0m \u001b[1m1s\u001b[0m 101ms/step - loss: 0.0181 - val_loss: 0.0270 - learning_rate: 9.3750e-07\n",
      "Epoch 150/250\n",
      "\u001b[1m13/13\u001b[0m \u001b[32m━━━━━━━━━━━━━━━━━━━━\u001b[0m\u001b[37m\u001b[0m \u001b[1m1s\u001b[0m 104ms/step - loss: 0.0181 - val_loss: 0.0270 - learning_rate: 9.3750e-07\n",
      "Epoch 151/250\n",
      "\u001b[1m13/13\u001b[0m \u001b[32m━━━━━━━━━━━━━━━━━━━━\u001b[0m\u001b[37m\u001b[0m \u001b[1m1s\u001b[0m 100ms/step - loss: 0.0181 - val_loss: 0.0270 - learning_rate: 9.3750e-07\n",
      "Epoch 152/250\n",
      "\u001b[1m13/13\u001b[0m \u001b[32m━━━━━━━━━━━━━━━━━━━━\u001b[0m\u001b[37m\u001b[0m \u001b[1m1s\u001b[0m 101ms/step - loss: 0.0181 - val_loss: 0.0270 - learning_rate: 9.3750e-07\n",
      "Epoch 153/250\n",
      "\u001b[1m13/13\u001b[0m \u001b[32m━━━━━━━━━━━━━━━━━━━━\u001b[0m\u001b[37m\u001b[0m \u001b[1m1s\u001b[0m 100ms/step - loss: 0.0180 - val_loss: 0.0270 - learning_rate: 9.3750e-07\n",
      "Epoch 154/250\n",
      "\u001b[1m13/13\u001b[0m \u001b[32m━━━━━━━━━━━━━━━━━━━━\u001b[0m\u001b[37m\u001b[0m \u001b[1m1s\u001b[0m 105ms/step - loss: 0.0181 - val_loss: 0.0270 - learning_rate: 9.3750e-07\n",
      "Epoch 155/250\n",
      "\u001b[1m13/13\u001b[0m \u001b[32m━━━━━━━━━━━━━━━━━━━━\u001b[0m\u001b[37m\u001b[0m \u001b[1m1s\u001b[0m 100ms/step - loss: 0.0181 - val_loss: 0.0270 - learning_rate: 9.3750e-07\n",
      "Epoch 156/250\n",
      "\u001b[1m13/13\u001b[0m \u001b[32m━━━━━━━━━━━━━━━━━━━━\u001b[0m\u001b[37m\u001b[0m \u001b[1m1s\u001b[0m 100ms/step - loss: 0.0181 - val_loss: 0.0270 - learning_rate: 9.3750e-07\n",
      "Epoch 157/250\n",
      "\u001b[1m13/13\u001b[0m \u001b[32m━━━━━━━━━━━━━━━━━━━━\u001b[0m\u001b[37m\u001b[0m \u001b[1m1s\u001b[0m 100ms/step - loss: 0.0181 - val_loss: 0.0270 - learning_rate: 9.3750e-07\n",
      "Epoch 158/250\n",
      "\u001b[1m13/13\u001b[0m \u001b[32m━━━━━━━━━━━━━━━━━━━━\u001b[0m\u001b[37m\u001b[0m \u001b[1m1s\u001b[0m 101ms/step - loss: 0.0181 - val_loss: 0.0270 - learning_rate: 9.3750e-07\n",
      "Epoch 159/250\n",
      "\u001b[1m12/13\u001b[0m \u001b[32m━━━━━━━━━━━━━━━━━━\u001b[0m\u001b[37m━━\u001b[0m \u001b[1m0s\u001b[0m 97ms/step - loss: 0.0181\n",
      "Epoch 159: ReduceLROnPlateau reducing learning rate to 4.68749988158379e-07.\n",
      "\u001b[1m13/13\u001b[0m \u001b[32m━━━━━━━━━━━━━━━━━━━━\u001b[0m\u001b[37m\u001b[0m \u001b[1m1s\u001b[0m 102ms/step - loss: 0.0181 - val_loss: 0.0270 - learning_rate: 9.3750e-07\n",
      "Epoch 160/250\n",
      "\u001b[1m13/13\u001b[0m \u001b[32m━━━━━━━━━━━━━━━━━━━━\u001b[0m\u001b[37m\u001b[0m \u001b[1m1s\u001b[0m 101ms/step - loss: 0.0181 - val_loss: 0.0270 - learning_rate: 4.6875e-07\n",
      "Epoch 161/250\n",
      "\u001b[1m13/13\u001b[0m \u001b[32m━━━━━━━━━━━━━━━━━━━━\u001b[0m\u001b[37m\u001b[0m \u001b[1m1s\u001b[0m 100ms/step - loss: 0.0181 - val_loss: 0.0270 - learning_rate: 4.6875e-07\n",
      "Epoch 162/250\n",
      "\u001b[1m13/13\u001b[0m \u001b[32m━━━━━━━━━━━━━━━━━━━━\u001b[0m\u001b[37m\u001b[0m \u001b[1m1s\u001b[0m 101ms/step - loss: 0.0180 - val_loss: 0.0270 - learning_rate: 4.6875e-07\n",
      "Epoch 163/250\n",
      "\u001b[1m13/13\u001b[0m \u001b[32m━━━━━━━━━━━━━━━━━━━━\u001b[0m\u001b[37m\u001b[0m \u001b[1m1s\u001b[0m 100ms/step - loss: 0.0181 - val_loss: 0.0270 - learning_rate: 4.6875e-07\n",
      "Epoch 164/250\n",
      "\u001b[1m13/13\u001b[0m \u001b[32m━━━━━━━━━━━━━━━━━━━━\u001b[0m\u001b[37m\u001b[0m \u001b[1m1s\u001b[0m 101ms/step - loss: 0.0180 - val_loss: 0.0270 - learning_rate: 4.6875e-07\n",
      "Epoch 165/250\n",
      "\u001b[1m13/13\u001b[0m \u001b[32m━━━━━━━━━━━━━━━━━━━━\u001b[0m\u001b[37m\u001b[0m \u001b[1m1s\u001b[0m 105ms/step - loss: 0.0180 - val_loss: 0.0270 - learning_rate: 4.6875e-07\n",
      "Epoch 166/250\n",
      "\u001b[1m13/13\u001b[0m \u001b[32m━━━━━━━━━━━━━━━━━━━━\u001b[0m\u001b[37m\u001b[0m \u001b[1m1s\u001b[0m 100ms/step - loss: 0.0180 - val_loss: 0.0270 - learning_rate: 4.6875e-07\n",
      "Epoch 167/250\n",
      "\u001b[1m13/13\u001b[0m \u001b[32m━━━━━━━━━━━━━━━━━━━━\u001b[0m\u001b[37m\u001b[0m \u001b[1m1s\u001b[0m 100ms/step - loss: 0.0180 - val_loss: 0.0270 - learning_rate: 4.6875e-07\n",
      "Epoch 168/250\n",
      "\u001b[1m13/13\u001b[0m \u001b[32m━━━━━━━━━━━━━━━━━━━━\u001b[0m\u001b[37m\u001b[0m \u001b[1m1s\u001b[0m 100ms/step - loss: 0.0181 - val_loss: 0.0270 - learning_rate: 4.6875e-07\n",
      "Epoch 169/250\n",
      "\u001b[1m12/13\u001b[0m \u001b[32m━━━━━━━━━━━━━━━━━━\u001b[0m\u001b[37m━━\u001b[0m \u001b[1m0s\u001b[0m 97ms/step - loss: 0.0181\n",
      "Epoch 169: ReduceLROnPlateau reducing learning rate to 2.343749940791895e-07.\n",
      "\u001b[1m13/13\u001b[0m \u001b[32m━━━━━━━━━━━━━━━━━━━━\u001b[0m\u001b[37m\u001b[0m \u001b[1m1s\u001b[0m 100ms/step - loss: 0.0181 - val_loss: 0.0270 - learning_rate: 4.6875e-07\n",
      "Epoch 170/250\n",
      "\u001b[1m13/13\u001b[0m \u001b[32m━━━━━━━━━━━━━━━━━━━━\u001b[0m\u001b[37m\u001b[0m \u001b[1m1s\u001b[0m 100ms/step - loss: 0.0180 - val_loss: 0.0270 - learning_rate: 2.3437e-07\n",
      "Epoch 171/250\n",
      "\u001b[1m13/13\u001b[0m \u001b[32m━━━━━━━━━━━━━━━━━━━━\u001b[0m\u001b[37m\u001b[0m \u001b[1m1s\u001b[0m 101ms/step - loss: 0.0181 - val_loss: 0.0270 - learning_rate: 2.3437e-07\n",
      "Epoch 172/250\n",
      "\u001b[1m13/13\u001b[0m \u001b[32m━━━━━━━━━━━━━━━━━━━━\u001b[0m\u001b[37m\u001b[0m \u001b[1m1s\u001b[0m 105ms/step - loss: 0.0180 - val_loss: 0.0270 - learning_rate: 2.3437e-07\n",
      "Epoch 173/250\n",
      "\u001b[1m13/13\u001b[0m \u001b[32m━━━━━━━━━━━━━━━━━━━━\u001b[0m\u001b[37m\u001b[0m \u001b[1m1s\u001b[0m 100ms/step - loss: 0.0181 - val_loss: 0.0270 - learning_rate: 2.3437e-07\n",
      "Epoch 174/250\n",
      "\u001b[1m13/13\u001b[0m \u001b[32m━━━━━━━━━━━━━━━━━━━━\u001b[0m\u001b[37m\u001b[0m \u001b[1m1s\u001b[0m 101ms/step - loss: 0.0180 - val_loss: 0.0270 - learning_rate: 2.3437e-07\n",
      "Epoch 175/250\n",
      "\u001b[1m13/13\u001b[0m \u001b[32m━━━━━━━━━━━━━━━━━━━━\u001b[0m\u001b[37m\u001b[0m \u001b[1m1s\u001b[0m 100ms/step - loss: 0.0180 - val_loss: 0.0270 - learning_rate: 2.3437e-07\n",
      "Epoch 176/250\n",
      "\u001b[1m13/13\u001b[0m \u001b[32m━━━━━━━━━━━━━━━━━━━━\u001b[0m\u001b[37m\u001b[0m \u001b[1m1s\u001b[0m 100ms/step - loss: 0.0180 - val_loss: 0.0270 - learning_rate: 2.3437e-07\n",
      "Epoch 177/250\n",
      "\u001b[1m13/13\u001b[0m \u001b[32m━━━━━━━━━━━━━━━━━━━━\u001b[0m\u001b[37m\u001b[0m \u001b[1m1s\u001b[0m 100ms/step - loss: 0.0180 - val_loss: 0.0270 - learning_rate: 2.3437e-07\n",
      "Epoch 178/250\n",
      "\u001b[1m13/13\u001b[0m \u001b[32m━━━━━━━━━━━━━━━━━━━━\u001b[0m\u001b[37m\u001b[0m \u001b[1m1s\u001b[0m 100ms/step - loss: 0.0181 - val_loss: 0.0270 - learning_rate: 2.3437e-07\n",
      "Epoch 179/250\n",
      "\u001b[1m12/13\u001b[0m \u001b[32m━━━━━━━━━━━━━━━━━━\u001b[0m\u001b[37m━━\u001b[0m \u001b[1m0s\u001b[0m 96ms/step - loss: 0.0181\n",
      "Epoch 179: ReduceLROnPlateau reducing learning rate to 1.1718749703959475e-07.\n",
      "\u001b[1m13/13\u001b[0m \u001b[32m━━━━━━━━━━━━━━━━━━━━\u001b[0m\u001b[37m\u001b[0m \u001b[1m1s\u001b[0m 100ms/step - loss: 0.0181 - val_loss: 0.0270 - learning_rate: 2.3437e-07\n",
      "Epoch 180/250\n",
      "\u001b[1m13/13\u001b[0m \u001b[32m━━━━━━━━━━━━━━━━━━━━\u001b[0m\u001b[37m\u001b[0m \u001b[1m1s\u001b[0m 101ms/step - loss: 0.0181 - val_loss: 0.0270 - learning_rate: 1.1719e-07\n",
      "Epoch 181/250\n",
      "\u001b[1m13/13\u001b[0m \u001b[32m━━━━━━━━━━━━━━━━━━━━\u001b[0m\u001b[37m\u001b[0m \u001b[1m1s\u001b[0m 103ms/step - loss: 0.0180 - val_loss: 0.0270 - learning_rate: 1.1719e-07\n",
      "Epoch 182/250\n",
      "\u001b[1m13/13\u001b[0m \u001b[32m━━━━━━━━━━━━━━━━━━━━\u001b[0m\u001b[37m\u001b[0m \u001b[1m1s\u001b[0m 101ms/step - loss: 0.0181 - val_loss: 0.0270 - learning_rate: 1.1719e-07\n",
      "Epoch 183/250\n",
      "\u001b[1m13/13\u001b[0m \u001b[32m━━━━━━━━━━━━━━━━━━━━\u001b[0m\u001b[37m\u001b[0m \u001b[1m1s\u001b[0m 101ms/step - loss: 0.0180 - val_loss: 0.0270 - learning_rate: 1.1719e-07\n",
      "Epoch 184/250\n",
      "\u001b[1m13/13\u001b[0m \u001b[32m━━━━━━━━━━━━━━━━━━━━\u001b[0m\u001b[37m\u001b[0m \u001b[1m1s\u001b[0m 100ms/step - loss: 0.0180 - val_loss: 0.0270 - learning_rate: 1.1719e-07\n",
      "Epoch 185/250\n",
      "\u001b[1m13/13\u001b[0m \u001b[32m━━━━━━━━━━━━━━━━━━━━\u001b[0m\u001b[37m\u001b[0m \u001b[1m1s\u001b[0m 100ms/step - loss: 0.0180 - val_loss: 0.0270 - learning_rate: 1.1719e-07\n",
      "Epoch 186/250\n",
      "\u001b[1m13/13\u001b[0m \u001b[32m━━━━━━━━━━━━━━━━━━━━\u001b[0m\u001b[37m\u001b[0m \u001b[1m1s\u001b[0m 100ms/step - loss: 0.0180 - val_loss: 0.0270 - learning_rate: 1.1719e-07\n",
      "Epoch 187/250\n",
      "\u001b[1m13/13\u001b[0m \u001b[32m━━━━━━━━━━━━━━━━━━━━\u001b[0m\u001b[37m\u001b[0m \u001b[1m1s\u001b[0m 100ms/step - loss: 0.0180 - val_loss: 0.0270 - learning_rate: 1.1719e-07\n",
      "Epoch 188/250\n",
      "\u001b[1m13/13\u001b[0m \u001b[32m━━━━━━━━━━━━━━━━━━━━\u001b[0m\u001b[37m\u001b[0m \u001b[1m1s\u001b[0m 100ms/step - loss: 0.0180 - val_loss: 0.0270 - learning_rate: 1.1719e-07\n",
      "Epoch 189/250\n",
      "\u001b[1m12/13\u001b[0m \u001b[32m━━━━━━━━━━━━━━━━━━\u001b[0m\u001b[37m━━\u001b[0m \u001b[1m0s\u001b[0m 97ms/step - loss: 0.0181\n",
      "Epoch 189: ReduceLROnPlateau reducing learning rate to 5.859374851979737e-08.\n",
      "\u001b[1m13/13\u001b[0m \u001b[32m━━━━━━━━━━━━━━━━━━━━\u001b[0m\u001b[37m\u001b[0m \u001b[1m1s\u001b[0m 100ms/step - loss: 0.0180 - val_loss: 0.0270 - learning_rate: 1.1719e-07\n",
      "Epoch 190/250\n",
      "\u001b[1m13/13\u001b[0m \u001b[32m━━━━━━━━━━━━━━━━━━━━\u001b[0m\u001b[37m\u001b[0m \u001b[1m1s\u001b[0m 101ms/step - loss: 0.0180 - val_loss: 0.0270 - learning_rate: 5.8594e-08\n",
      "Epoch 191/250\n",
      "\u001b[1m13/13\u001b[0m \u001b[32m━━━━━━━━━━━━━━━━━━━━\u001b[0m\u001b[37m\u001b[0m \u001b[1m1s\u001b[0m 100ms/step - loss: 0.0181 - val_loss: 0.0270 - learning_rate: 5.8594e-08\n",
      "Epoch 192/250\n",
      "\u001b[1m13/13\u001b[0m \u001b[32m━━━━━━━━━━━━━━━━━━━━\u001b[0m\u001b[37m\u001b[0m \u001b[1m1s\u001b[0m 101ms/step - loss: 0.0180 - val_loss: 0.0270 - learning_rate: 5.8594e-08\n",
      "Epoch 193/250\n",
      "\u001b[1m13/13\u001b[0m \u001b[32m━━━━━━━━━━━━━━━━━━━━\u001b[0m\u001b[37m\u001b[0m \u001b[1m1s\u001b[0m 101ms/step - loss: 0.0180 - val_loss: 0.0270 - learning_rate: 5.8594e-08\n",
      "Epoch 194/250\n",
      "\u001b[1m13/13\u001b[0m \u001b[32m━━━━━━━━━━━━━━━━━━━━\u001b[0m\u001b[37m\u001b[0m \u001b[1m1s\u001b[0m 105ms/step - loss: 0.0180 - val_loss: 0.0270 - learning_rate: 5.8594e-08\n",
      "Epoch 195/250\n",
      "\u001b[1m13/13\u001b[0m \u001b[32m━━━━━━━━━━━━━━━━━━━━\u001b[0m\u001b[37m\u001b[0m \u001b[1m1s\u001b[0m 100ms/step - loss: 0.0180 - val_loss: 0.0270 - learning_rate: 5.8594e-08\n",
      "Epoch 196/250\n",
      "\u001b[1m13/13\u001b[0m \u001b[32m━━━━━━━━━━━━━━━━━━━━\u001b[0m\u001b[37m\u001b[0m \u001b[1m1s\u001b[0m 100ms/step - loss: 0.0180 - val_loss: 0.0270 - learning_rate: 5.8594e-08\n",
      "Epoch 197/250\n",
      "\u001b[1m13/13\u001b[0m \u001b[32m━━━━━━━━━━━━━━━━━━━━\u001b[0m\u001b[37m\u001b[0m \u001b[1m1s\u001b[0m 100ms/step - loss: 0.0180 - val_loss: 0.0270 - learning_rate: 5.8594e-08\n",
      "Epoch 198/250\n",
      "\u001b[1m13/13\u001b[0m \u001b[32m━━━━━━━━━━━━━━━━━━━━\u001b[0m\u001b[37m\u001b[0m \u001b[1m1s\u001b[0m 101ms/step - loss: 0.0180 - val_loss: 0.0270 - learning_rate: 5.8594e-08\n",
      "Epoch 199/250\n",
      "\u001b[1m12/13\u001b[0m \u001b[32m━━━━━━━━━━━━━━━━━━\u001b[0m\u001b[37m━━\u001b[0m \u001b[1m0s\u001b[0m 97ms/step - loss: 0.0181\n",
      "Epoch 199: ReduceLROnPlateau reducing learning rate to 2.9296874259898686e-08.\n",
      "\u001b[1m13/13\u001b[0m \u001b[32m━━━━━━━━━━━━━━━━━━━━\u001b[0m\u001b[37m\u001b[0m \u001b[1m1s\u001b[0m 100ms/step - loss: 0.0181 - val_loss: 0.0270 - learning_rate: 5.8594e-08\n",
      "Epoch 200/250\n",
      "\u001b[1m13/13\u001b[0m \u001b[32m━━━━━━━━━━━━━━━━━━━━\u001b[0m\u001b[37m\u001b[0m \u001b[1m1s\u001b[0m 100ms/step - loss: 0.0180 - val_loss: 0.0270 - learning_rate: 2.9297e-08\n",
      "Epoch 201/250\n",
      "\u001b[1m13/13\u001b[0m \u001b[32m━━━━━━━━━━━━━━━━━━━━\u001b[0m\u001b[37m\u001b[0m \u001b[1m1s\u001b[0m 101ms/step - loss: 0.0180 - val_loss: 0.0270 - learning_rate: 2.9297e-08\n",
      "Epoch 202/250\n",
      "\u001b[1m13/13\u001b[0m \u001b[32m━━━━━━━━━━━━━━━━━━━━\u001b[0m\u001b[37m\u001b[0m \u001b[1m1s\u001b[0m 101ms/step - loss: 0.0180 - val_loss: 0.0270 - learning_rate: 2.9297e-08\n",
      "Epoch 203/250\n",
      "\u001b[1m13/13\u001b[0m \u001b[32m━━━━━━━━━━━━━━━━━━━━\u001b[0m\u001b[37m\u001b[0m \u001b[1m1s\u001b[0m 101ms/step - loss: 0.0180 - val_loss: 0.0270 - learning_rate: 2.9297e-08\n",
      "Epoch 204/250\n",
      "\u001b[1m13/13\u001b[0m \u001b[32m━━━━━━━━━━━━━━━━━━━━\u001b[0m\u001b[37m\u001b[0m \u001b[1m1s\u001b[0m 100ms/step - loss: 0.0180 - val_loss: 0.0270 - learning_rate: 2.9297e-08\n",
      "Epoch 205/250\n",
      "\u001b[1m13/13\u001b[0m \u001b[32m━━━━━━━━━━━━━━━━━━━━\u001b[0m\u001b[37m\u001b[0m \u001b[1m1s\u001b[0m 101ms/step - loss: 0.0181 - val_loss: 0.0270 - learning_rate: 2.9297e-08\n",
      "Epoch 206/250\n",
      "\u001b[1m13/13\u001b[0m \u001b[32m━━━━━━━━━━━━━━━━━━━━\u001b[0m\u001b[37m\u001b[0m \u001b[1m1s\u001b[0m 102ms/step - loss: 0.0180 - val_loss: 0.0270 - learning_rate: 2.9297e-08\n",
      "Epoch 207/250\n",
      "\u001b[1m13/13\u001b[0m \u001b[32m━━━━━━━━━━━━━━━━━━━━\u001b[0m\u001b[37m\u001b[0m \u001b[1m1s\u001b[0m 101ms/step - loss: 0.0180 - val_loss: 0.0270 - learning_rate: 2.9297e-08\n",
      "Epoch 208/250\n",
      "\u001b[1m13/13\u001b[0m \u001b[32m━━━━━━━━━━━━━━━━━━━━\u001b[0m\u001b[37m\u001b[0m \u001b[1m1s\u001b[0m 101ms/step - loss: 0.0180 - val_loss: 0.0270 - learning_rate: 2.9297e-08\n",
      "Epoch 209/250\n",
      "\u001b[1m12/13\u001b[0m \u001b[32m━━━━━━━━━━━━━━━━━━\u001b[0m\u001b[37m━━\u001b[0m \u001b[1m0s\u001b[0m 97ms/step - loss: 0.0180\n",
      "Epoch 209: ReduceLROnPlateau reducing learning rate to 1.4648437129949343e-08.\n",
      "\u001b[1m13/13\u001b[0m \u001b[32m━━━━━━━━━━━━━━━━━━━━\u001b[0m\u001b[37m\u001b[0m \u001b[1m1s\u001b[0m 101ms/step - loss: 0.0180 - val_loss: 0.0270 - learning_rate: 2.9297e-08\n",
      "Epoch 210/250\n",
      "\u001b[1m13/13\u001b[0m \u001b[32m━━━━━━━━━━━━━━━━━━━━\u001b[0m\u001b[37m\u001b[0m \u001b[1m1s\u001b[0m 101ms/step - loss: 0.0180 - val_loss: 0.0270 - learning_rate: 1.4648e-08\n",
      "Epoch 211/250\n",
      "\u001b[1m13/13\u001b[0m \u001b[32m━━━━━━━━━━━━━━━━━━━━\u001b[0m\u001b[37m\u001b[0m \u001b[1m1s\u001b[0m 101ms/step - loss: 0.0180 - val_loss: 0.0270 - learning_rate: 1.4648e-08\n",
      "Epoch 212/250\n",
      "\u001b[1m13/13\u001b[0m \u001b[32m━━━━━━━━━━━━━━━━━━━━\u001b[0m\u001b[37m\u001b[0m \u001b[1m1s\u001b[0m 101ms/step - loss: 0.0180 - val_loss: 0.0270 - learning_rate: 1.4648e-08\n",
      "Epoch 213/250\n",
      "\u001b[1m13/13\u001b[0m \u001b[32m━━━━━━━━━━━━━━━━━━━━\u001b[0m\u001b[37m\u001b[0m \u001b[1m1s\u001b[0m 104ms/step - loss: 0.0181 - val_loss: 0.0270 - learning_rate: 1.4648e-08\n",
      "Epoch 214/250\n",
      "\u001b[1m13/13\u001b[0m \u001b[32m━━━━━━━━━━━━━━━━━━━━\u001b[0m\u001b[37m\u001b[0m \u001b[1m1s\u001b[0m 101ms/step - loss: 0.0181 - val_loss: 0.0270 - learning_rate: 1.4648e-08\n",
      "Epoch 215/250\n",
      "\u001b[1m13/13\u001b[0m \u001b[32m━━━━━━━━━━━━━━━━━━━━\u001b[0m\u001b[37m\u001b[0m \u001b[1m1s\u001b[0m 101ms/step - loss: 0.0180 - val_loss: 0.0270 - learning_rate: 1.4648e-08\n",
      "Epoch 216/250\n",
      "\u001b[1m13/13\u001b[0m \u001b[32m━━━━━━━━━━━━━━━━━━━━\u001b[0m\u001b[37m\u001b[0m \u001b[1m1s\u001b[0m 100ms/step - loss: 0.0180 - val_loss: 0.0270 - learning_rate: 1.4648e-08\n",
      "Epoch 217/250\n",
      "\u001b[1m13/13\u001b[0m \u001b[32m━━━━━━━━━━━━━━━━━━━━\u001b[0m\u001b[37m\u001b[0m \u001b[1m1s\u001b[0m 100ms/step - loss: 0.0181 - val_loss: 0.0270 - learning_rate: 1.4648e-08\n",
      "Epoch 218/250\n",
      "\u001b[1m13/13\u001b[0m \u001b[32m━━━━━━━━━━━━━━━━━━━━\u001b[0m\u001b[37m\u001b[0m \u001b[1m1s\u001b[0m 100ms/step - loss: 0.0180 - val_loss: 0.0270 - learning_rate: 1.4648e-08\n",
      "Epoch 219/250\n",
      "\u001b[1m12/13\u001b[0m \u001b[32m━━━━━━━━━━━━━━━━━━\u001b[0m\u001b[37m━━\u001b[0m \u001b[1m0s\u001b[0m 97ms/step - loss: 0.0180\n",
      "Epoch 219: ReduceLROnPlateau reducing learning rate to 7.324218564974672e-09.\n",
      "\u001b[1m13/13\u001b[0m \u001b[32m━━━━━━━━━━━━━━━━━━━━\u001b[0m\u001b[37m\u001b[0m \u001b[1m1s\u001b[0m 101ms/step - loss: 0.0180 - val_loss: 0.0270 - learning_rate: 1.4648e-08\n",
      "Epoch 220/250\n",
      "\u001b[1m13/13\u001b[0m \u001b[32m━━━━━━━━━━━━━━━━━━━━\u001b[0m\u001b[37m\u001b[0m \u001b[1m1s\u001b[0m 101ms/step - loss: 0.0180 - val_loss: 0.0270 - learning_rate: 7.3242e-09\n",
      "Epoch 221/250\n",
      "\u001b[1m13/13\u001b[0m \u001b[32m━━━━━━━━━━━━━━━━━━━━\u001b[0m\u001b[37m\u001b[0m \u001b[1m1s\u001b[0m 100ms/step - loss: 0.0180 - val_loss: 0.0270 - learning_rate: 7.3242e-09\n",
      "Epoch 222/250\n",
      "\u001b[1m13/13\u001b[0m \u001b[32m━━━━━━━━━━━━━━━━━━━━\u001b[0m\u001b[37m\u001b[0m \u001b[1m1s\u001b[0m 100ms/step - loss: 0.0180 - val_loss: 0.0270 - learning_rate: 7.3242e-09\n",
      "Epoch 223/250\n",
      "\u001b[1m13/13\u001b[0m \u001b[32m━━━━━━━━━━━━━━━━━━━━\u001b[0m\u001b[37m\u001b[0m \u001b[1m1s\u001b[0m 101ms/step - loss: 0.0180 - val_loss: 0.0270 - learning_rate: 7.3242e-09\n",
      "Epoch 224/250\n",
      "\u001b[1m13/13\u001b[0m \u001b[32m━━━━━━━━━━━━━━━━━━━━\u001b[0m\u001b[37m\u001b[0m \u001b[1m1s\u001b[0m 101ms/step - loss: 0.0180 - val_loss: 0.0270 - learning_rate: 7.3242e-09\n",
      "Epoch 225/250\n",
      "\u001b[1m13/13\u001b[0m \u001b[32m━━━━━━━━━━━━━━━━━━━━\u001b[0m\u001b[37m\u001b[0m \u001b[1m1s\u001b[0m 101ms/step - loss: 0.0180 - val_loss: 0.0270 - learning_rate: 7.3242e-09\n",
      "Epoch 226/250\n",
      "\u001b[1m13/13\u001b[0m \u001b[32m━━━━━━━━━━━━━━━━━━━━\u001b[0m\u001b[37m\u001b[0m \u001b[1m1s\u001b[0m 100ms/step - loss: 0.0180 - val_loss: 0.0270 - learning_rate: 7.3242e-09\n",
      "Epoch 227/250\n",
      "\u001b[1m13/13\u001b[0m \u001b[32m━━━━━━━━━━━━━━━━━━━━\u001b[0m\u001b[37m\u001b[0m \u001b[1m1s\u001b[0m 100ms/step - loss: 0.0181 - val_loss: 0.0270 - learning_rate: 7.3242e-09\n",
      "Epoch 228/250\n",
      "\u001b[1m13/13\u001b[0m \u001b[32m━━━━━━━━━━━━━━━━━━━━\u001b[0m\u001b[37m\u001b[0m \u001b[1m1s\u001b[0m 101ms/step - loss: 0.0180 - val_loss: 0.0270 - learning_rate: 7.3242e-09\n",
      "Epoch 229/250\n",
      "\u001b[1m12/13\u001b[0m \u001b[32m━━━━━━━━━━━━━━━━━━\u001b[0m\u001b[37m━━\u001b[0m \u001b[1m0s\u001b[0m 97ms/step - loss: 0.0181\n",
      "Epoch 229: ReduceLROnPlateau reducing learning rate to 3.662109282487336e-09.\n",
      "\u001b[1m13/13\u001b[0m \u001b[32m━━━━━━━━━━━━━━━━━━━━\u001b[0m\u001b[37m\u001b[0m \u001b[1m1s\u001b[0m 101ms/step - loss: 0.0180 - val_loss: 0.0270 - learning_rate: 7.3242e-09\n",
      "Epoch 230/250\n",
      "\u001b[1m13/13\u001b[0m \u001b[32m━━━━━━━━━━━━━━━━━━━━\u001b[0m\u001b[37m\u001b[0m \u001b[1m1s\u001b[0m 101ms/step - loss: 0.0180 - val_loss: 0.0270 - learning_rate: 3.6621e-09\n",
      "Epoch 231/250\n",
      "\u001b[1m13/13\u001b[0m \u001b[32m━━━━━━━━━━━━━━━━━━━━\u001b[0m\u001b[37m\u001b[0m \u001b[1m1s\u001b[0m 102ms/step - loss: 0.0180 - val_loss: 0.0270 - learning_rate: 3.6621e-09\n",
      "Epoch 232/250\n",
      "\u001b[1m13/13\u001b[0m \u001b[32m━━━━━━━━━━━━━━━━━━━━\u001b[0m\u001b[37m\u001b[0m \u001b[1m1s\u001b[0m 101ms/step - loss: 0.0180 - val_loss: 0.0270 - learning_rate: 3.6621e-09\n",
      "Epoch 233/250\n",
      "\u001b[1m13/13\u001b[0m \u001b[32m━━━━━━━━━━━━━━━━━━━━\u001b[0m\u001b[37m\u001b[0m \u001b[1m1s\u001b[0m 101ms/step - loss: 0.0180 - val_loss: 0.0270 - learning_rate: 3.6621e-09\n",
      "Epoch 234/250\n",
      "\u001b[1m13/13\u001b[0m \u001b[32m━━━━━━━━━━━━━━━━━━━━\u001b[0m\u001b[37m\u001b[0m \u001b[1m1s\u001b[0m 101ms/step - loss: 0.0180 - val_loss: 0.0270 - learning_rate: 3.6621e-09\n",
      "Epoch 235/250\n",
      "\u001b[1m13/13\u001b[0m \u001b[32m━━━━━━━━━━━━━━━━━━━━\u001b[0m\u001b[37m\u001b[0m \u001b[1m1s\u001b[0m 100ms/step - loss: 0.0180 - val_loss: 0.0270 - learning_rate: 3.6621e-09\n",
      "Epoch 236/250\n",
      "\u001b[1m13/13\u001b[0m \u001b[32m━━━━━━━━━━━━━━━━━━━━\u001b[0m\u001b[37m\u001b[0m \u001b[1m1s\u001b[0m 100ms/step - loss: 0.0180 - val_loss: 0.0270 - learning_rate: 3.6621e-09\n",
      "Epoch 237/250\n",
      "\u001b[1m13/13\u001b[0m \u001b[32m━━━━━━━━━━━━━━━━━━━━\u001b[0m\u001b[37m\u001b[0m \u001b[1m1s\u001b[0m 100ms/step - loss: 0.0180 - val_loss: 0.0270 - learning_rate: 3.6621e-09\n",
      "Epoch 238/250\n",
      "\u001b[1m13/13\u001b[0m \u001b[32m━━━━━━━━━━━━━━━━━━━━\u001b[0m\u001b[37m\u001b[0m \u001b[1m1s\u001b[0m 100ms/step - loss: 0.0181 - val_loss: 0.0270 - learning_rate: 3.6621e-09\n",
      "Epoch 239/250\n",
      "\u001b[1m12/13\u001b[0m \u001b[32m━━━━━━━━━━━━━━━━━━\u001b[0m\u001b[37m━━\u001b[0m \u001b[1m0s\u001b[0m 96ms/step - loss: 0.0181\n",
      "Epoch 239: ReduceLROnPlateau reducing learning rate to 1.831054641243668e-09.\n",
      "\u001b[1m13/13\u001b[0m \u001b[32m━━━━━━━━━━━━━━━━━━━━\u001b[0m\u001b[37m\u001b[0m \u001b[1m1s\u001b[0m 100ms/step - loss: 0.0180 - val_loss: 0.0270 - learning_rate: 3.6621e-09\n",
      "Epoch 240/250\n",
      "\u001b[1m13/13\u001b[0m \u001b[32m━━━━━━━━━━━━━━━━━━━━\u001b[0m\u001b[37m\u001b[0m \u001b[1m1s\u001b[0m 100ms/step - loss: 0.0180 - val_loss: 0.0270 - learning_rate: 1.8311e-09\n",
      "Epoch 241/250\n",
      "\u001b[1m13/13\u001b[0m \u001b[32m━━━━━━━━━━━━━━━━━━━━\u001b[0m\u001b[37m\u001b[0m \u001b[1m1s\u001b[0m 100ms/step - loss: 0.0180 - val_loss: 0.0270 - learning_rate: 1.8311e-09\n",
      "Epoch 242/250\n",
      "\u001b[1m13/13\u001b[0m \u001b[32m━━━━━━━━━━━━━━━━━━━━\u001b[0m\u001b[37m\u001b[0m \u001b[1m1s\u001b[0m 100ms/step - loss: 0.0180 - val_loss: 0.0270 - learning_rate: 1.8311e-09\n",
      "Epoch 243/250\n",
      "\u001b[1m13/13\u001b[0m \u001b[32m━━━━━━━━━━━━━━━━━━━━\u001b[0m\u001b[37m\u001b[0m \u001b[1m1s\u001b[0m 100ms/step - loss: 0.0180 - val_loss: 0.0270 - learning_rate: 1.8311e-09\n",
      "Epoch 244/250\n",
      "\u001b[1m13/13\u001b[0m \u001b[32m━━━━━━━━━━━━━━━━━━━━\u001b[0m\u001b[37m\u001b[0m \u001b[1m1s\u001b[0m 100ms/step - loss: 0.0180 - val_loss: 0.0270 - learning_rate: 1.8311e-09\n",
      "Epoch 245/250\n",
      "\u001b[1m13/13\u001b[0m \u001b[32m━━━━━━━━━━━━━━━━━━━━\u001b[0m\u001b[37m\u001b[0m \u001b[1m1s\u001b[0m 104ms/step - loss: 0.0180 - val_loss: 0.0270 - learning_rate: 1.8311e-09\n",
      "Epoch 246/250\n",
      "\u001b[1m13/13\u001b[0m \u001b[32m━━━━━━━━━━━━━━━━━━━━\u001b[0m\u001b[37m\u001b[0m \u001b[1m1s\u001b[0m 101ms/step - loss: 0.0180 - val_loss: 0.0270 - learning_rate: 1.8311e-09\n",
      "Epoch 247/250\n",
      "\u001b[1m13/13\u001b[0m \u001b[32m━━━━━━━━━━━━━━━━━━━━\u001b[0m\u001b[37m\u001b[0m \u001b[1m1s\u001b[0m 101ms/step - loss: 0.0180 - val_loss: 0.0270 - learning_rate: 1.8311e-09\n",
      "Epoch 248/250\n",
      "\u001b[1m13/13\u001b[0m \u001b[32m━━━━━━━━━━━━━━━━━━━━\u001b[0m\u001b[37m\u001b[0m \u001b[1m1s\u001b[0m 101ms/step - loss: 0.0180 - val_loss: 0.0270 - learning_rate: 1.8311e-09\n",
      "Epoch 249/250\n",
      "\u001b[1m12/13\u001b[0m \u001b[32m━━━━━━━━━━━━━━━━━━\u001b[0m\u001b[37m━━\u001b[0m \u001b[1m0s\u001b[0m 97ms/step - loss: 0.0181\n",
      "Epoch 249: ReduceLROnPlateau reducing learning rate to 9.15527320621834e-10.\n",
      "\u001b[1m13/13\u001b[0m \u001b[32m━━━━━━━━━━━━━━━━━━━━\u001b[0m\u001b[37m\u001b[0m \u001b[1m1s\u001b[0m 101ms/step - loss: 0.0180 - val_loss: 0.0270 - learning_rate: 1.8311e-09\n",
      "Epoch 250/250\n",
      "\u001b[1m13/13\u001b[0m \u001b[32m━━━━━━━━━━━━━━━━━━━━\u001b[0m\u001b[37m\u001b[0m \u001b[1m1s\u001b[0m 100ms/step - loss: 0.0180 - val_loss: 0.0270 - learning_rate: 9.1553e-10\n"
>>>>>>> a862dd9ab583ce5ccad0da723023802a42f8c4a4
     ]
    }
   ],
   "source": [
    "# Train the model\n",
    "history = model_builder.train_model(\n",
    "    train_dataset, val_dataset, epochs=250, callbacks_list=[lr_scheduler]\n",
    ")\n",
    "\n",
    "\n"
   ]
  },
  {
   "cell_type": "code",
   "execution_count": 13,
   "metadata": {},
   "outputs": [
    {
     "name": "stderr",
     "output_type": "stream",
     "text": [
      "/home/m3-learning/anaconda3/envs/electrondetection/lib/python3.11/site-packages/keras/src/engine/training.py:3079: UserWarning: You are saving your model as an HDF5 file via `model.save()`. This file format is considered legacy. We recommend using instead the native Keras format, e.g. `model.save('my_model.keras')`.\n",
      "  saving_api.save_model(\n"
     ]
    }
   ],
   "source": [
    "# model_builder.model.save('/home/m3-learning/Documents/Research Data/Electron Detection/Weights/Weights for Fixed/5 only/5_overfit.h5')\n",
    "# loadedmodel = tf.keras.models.load_model('/home/m3-learning/Documents/Research Data/Electron Detection/Weights/Weights for Fixed/5 only/5_overfit.keras')"
   ]
  },
  {
   "cell_type": "code",
   "execution_count": 11,
   "metadata": {},
   "outputs": [
    {
     "data": {
      "image/png": "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",
      "text/plain": [
       "<Figure size 1200x600 with 1 Axes>"
      ]
     },
     "metadata": {},
     "output_type": "display_data"
    }
   ],
   "source": [
    "\n",
    "\n",
    "\n",
    "# Extract the losses from the history object\n",
    "train_loss = history.history['loss']\n",
    "val_loss = history.history['val_loss']\n",
    "\n",
    "\n",
    "train_loss_x_midpoints = history.history.get('x_midpoints_reshape_loss', train_loss)\n",
    "val_loss_x_midpoints = history.history.get('val_x_midpoints_reshape_loss', val_loss)\n",
    "\n",
    "plt.figure(figsize=(12, 6))\n",
    "plt.subplot(1, 2,1)\n",
    "plt.plot(train_loss_x_midpoints, label='Train Loss x_midpoints_reshape')\n",
    "plt.plot(val_loss_x_midpoints, label='Validation Loss x_midpoints_reshape')\n",
    "plt.xlabel('Epochs')\n",
    "plt.yscale('log')\n",
    "\n",
    "plt.ylabel('Loss')\n",
    "plt.title('Training and Validation Loss ')\n",
    "plt.legend()\n",
    "\n",
    "plt.tight_layout()\n",
    "plt.show()\n"
   ]
  },
  {
   "cell_type": "code",
   "execution_count": 12,
   "metadata": {},
   "outputs": [
    {
     "name": "stdout",
     "output_type": "stream",
     "text": [
      "Processing batch 1, batch shape: (800, 64, 64)\n",
      "25/25 [==============================] - 1s 9ms/step\n",
      "Processing batch 2, batch shape: (800, 64, 64)\n",
      "25/25 [==============================] - 0s 9ms/step\n",
      "Processing batch 3, batch shape: (800, 64, 64)\n",
      "25/25 [==============================] - 0s 9ms/step\n",
      "Processing batch 4, batch shape: (800, 64, 64)\n",
      "25/25 [==============================] - 0s 8ms/step\n",
      "Processing batch 5, batch shape: (800, 64, 64)\n",
      "25/25 [==============================] - 0s 9ms/step\n",
      "Processing batch 6, batch shape: (800, 64, 64)\n",
      "25/25 [==============================] - 0s 9ms/step\n",
      "Processing batch 7, batch shape: (800, 64, 64)\n",
      "25/25 [==============================] - 0s 8ms/step\n",
      "Processing batch 8, batch shape: (800, 64, 64)\n",
      "25/25 [==============================] - 0s 9ms/step\n",
      "Processing batch 9, batch shape: (800, 64, 64)\n",
      "25/25 [==============================] - 0s 9ms/step\n",
      "Processing batch 10, batch shape: (800, 64, 64)\n",
      "25/25 [==============================] - 0s 9ms/step\n",
      "Processing batch 11, batch shape: (800, 64, 64)\n",
      "25/25 [==============================] - 0s 9ms/step\n",
      "Processing batch 12, batch shape: (800, 64, 64)\n",
      "25/25 [==============================] - 0s 8ms/step\n",
      "Processing batch 13, batch shape: (800, 64, 64)\n",
      "25/25 [==============================] - 0s 9ms/step\n",
      "Processing batch 14, batch shape: (800, 64, 64)\n",
      "25/25 [==============================] - 0s 8ms/step\n",
      "Processing batch 15, batch shape: (800, 64, 64)\n",
      "25/25 [==============================] - 0s 9ms/step\n",
      "Processing batch 16, batch shape: (800, 64, 64)\n",
      "25/25 [==============================] - 0s 8ms/step\n",
      "Processing batch 17, batch shape: (800, 64, 64)\n",
      "25/25 [==============================] - 0s 8ms/step\n",
      "Processing batch 18, batch shape: (800, 64, 64)\n",
      "25/25 [==============================] - 0s 9ms/step\n",
      "Processing batch 19, batch shape: (800, 64, 64)\n",
      "25/25 [==============================] - 0s 9ms/step\n",
      "Processing batch 20, batch shape: (800, 64, 64)\n",
      "25/25 [==============================] - 0s 8ms/step\n",
      "Processing batch 21, batch shape: (800, 64, 64)\n",
      "25/25 [==============================] - 0s 8ms/step\n",
      "Processing batch 22, batch shape: (800, 64, 64)\n",
      "25/25 [==============================] - 0s 9ms/step\n",
      "Processing batch 23, batch shape: (800, 64, 64)\n",
      "25/25 [==============================] - 0s 9ms/step\n",
      "Processing batch 24, batch shape: (800, 64, 64)\n",
      "25/25 [==============================] - 0s 8ms/step\n",
      "Processing batch 25, batch shape: (800, 64, 64)\n",
      "25/25 [==============================] - 0s 9ms/step\n",
      "Processing batch 26, batch shape: (800, 64, 64)\n",
      "25/25 [==============================] - 0s 9ms/step\n",
      "Processing batch 27, batch shape: (800, 64, 64)\n",
      "25/25 [==============================] - 0s 9ms/step\n",
      "Processing batch 28, batch shape: (800, 64, 64)\n",
      "25/25 [==============================] - 0s 9ms/step\n",
      "Processing batch 29, batch shape: (800, 64, 64)\n",
      "25/25 [==============================] - 0s 9ms/step\n",
      "Processing batch 30, batch shape: (800, 64, 64)\n",
      "25/25 [==============================] - 0s 9ms/step\n",
      "Processing batch 31, batch shape: (600, 64, 64)\n",
      "19/19 [==============================] - 1s 25ms/step\n"
     ]
    }
   ],
   "source": [
    "import numpy as np\n",
    "import matplotlib.pyplot as plt\n",
    "import tensorflow as tf\n",
    "\n",
    "# Define the function for visualizing midpoints\n",
    "def visualize_midpoints(image, midpoints, title=\"Predicted Midpoint Visualization\"):\n",
    "    \"\"\"\n",
    "    Visualizes midpoints on an image without using a probability vector.\n",
    "\n",
    "    Parameters:\n",
    "    - image: A 3D tensor representing the image.\n",
    "    - midpoints: A 2D tensor representing the midpoint coordinates (x, y).\n",
    "    - title: The title of the plot.\n",
    "\n",
    "    Returns:\n",
    "    None (displays the image with midpoints).\n",
    "    \"\"\"\n",
    "    # Convert to NumPy arrays for easier handling\n",
    "    image_np = image\n",
    "    midpoints_np = midpoints\n",
    "\n",
    "    # Denormalize image if necessary (adjust based on your normalization method)\n",
    "    denormalized_image = image_np  # Modify if normalization was applied during training\n",
    "\n",
    "    # Visualize the image\n",
    "    plt.figure(figsize=(4, 4))\n",
    "    plt.imshow(denormalized_image, cmap='gray')\n",
    "    plt.title(title)\n",
    "\n",
    "    # Plot midpoints directly, only if they are not (0, 0)\n",
    "    for i, (x, y) in enumerate(midpoints_np):\n",
    "        if x >= 3 and y >= 3:  # Only plot if the point is not (0, 0)\n",
    "            plt.scatter(x, y, color='red', s=5)\n",
    "\n",
    "    plt.show()\n",
    "\n",
    "# Create the validation dataset\n",
    "# val_dataset = tf.data.Dataset.from_tensor_slices((val_images, val_midpoints))\n",
    "# val_dataset = val_dataset.batch(800)\n",
    "train_dataset = tf.data.Dataset.from_tensor_slices((train_images, train_midpoints))\n",
    "train_dataset = train_dataset.batch(800)\n",
    "\n",
    "# Initialize lists to collect the data\n",
    "all_images = []\n",
    "all_true_midpoints = []\n",
    "all_pred_midpoints = []\n",
    "\n",
    "# Loop through each batch in the validation dataset, predict, and collect results\n",
    "# for i, (data_batch, midpoints_batch) in enumerate(val_dataset):\n",
    "for i, (data_batch, midpoints_batch) in enumerate(train_dataset):\n",
    "    print(f\"Processing batch {i + 1}, batch shape: {data_batch.shape}\")\n",
    "    \n",
    "    # Get the model predictions\n",
    "    predictions = model_builder.model.predict(data_batch)\n",
    "\n",
    "    # Extend the lists to store data from each batch\n",
    "    all_images.extend(data_batch.numpy())  # Store all images\n",
    "    all_true_midpoints.extend(midpoints_batch.numpy())  # Store all true midpoints\n",
    "    all_pred_midpoints.extend(predictions)  # Store all predicted midpoints\n",
    "\n",
    "# Convert lists to arrays for easier indexing\n",
    "all_images = np.array(all_images)\n",
    "all_true_midpoints = np.array(all_true_midpoints)\n",
    "all_pred_midpoints = np.array(all_pred_midpoints)\n"
   ]
  },
  {
   "cell_type": "code",
   "execution_count": 20,
   "metadata": {},
   "outputs": [
    {
     "data": {
      "image/png": "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",
      "text/plain": [
       "<Figure size 400x400 with 1 Axes>"
      ]
     },
     "metadata": {},
     "output_type": "display_data"
    },
    {
     "data": {
      "image/png": "iVBORw0KGgoAAAANSUhEUgAAAWMAAAF2CAYAAAC72fnJAAAAOXRFWHRTb2Z0d2FyZQBNYXRwbG90bGliIHZlcnNpb24zLjkuMSwgaHR0cHM6Ly9tYXRwbG90bGliLm9yZy/TGe4hAAAACXBIWXMAAA9hAAAPYQGoP6dpAAA9RklEQVR4nO3dfVhU1b4H8O/wMgMIDIjKy1WJyiI1tbCItCdLkqseOyanTO1GZacitNS6p+w8pXa7YfZiWYJZXe3eMjt2j5WVmYcUTx40pbzVqUiNlJOCnsoBNUBh3T/Mydmz0MXee5g1+P08zzw1e/Zes/bL/Niu315rOYQQAkREFFRhwa4AERExGBMRaYHBmIhIAwzGREQaYDAmItIAgzERkQYYjImINMBgTESkAQZjIiINMBhTQDkcDsyePTvY1Tipm266CbGxsR3+vUuXLoXD4cB33313ynXPOOMM3HTTTQGtz0033YQzzjgjoN9BbWMw1kB1dTWmTJmCc845BzExMYiJiUHfvn1RVFSEzz77LNjVC6hhw4bB4XCc8mU1oB8+fBizZ8/G+vXrban3iY7vQ58+faSfr1271rsfb7zxhu3fr4P33ntP+z+6uosIdgVOd++88w7Gjx+PiIgITJo0CQMHDkRYWBi+/vpr/PnPf0ZpaSmqq6uRnp4e7KoGxB//+Efceuut3vdbtmzBggUL8MADD+C8887zLh8wYICl7zl8+DDmzJkD4FjwtFtUVBR27NiBjz/+GBdffLHPZ6+++iqioqLQ2Njos/zf/u3fcP3118PlctleHzNeeOEFtLa2mtr2vffew8KFCxmQLWAwDqKdO3fi+uuvR3p6OsrKypCamurz+WOPPYaSkhKEhZ38HzCHDh1Cly5dAlnVgLnqqqt83kdFRWHBggW46qqrTho0ddvns846C0ePHsVrr73mE4wbGxuxcuVKjB49Gv/7v//rs014eDjCw8M7uqptioyMDHYVTmtspgiiefPm4dChQ1iyZIlfIAaAiIgI3HXXXejVq5d32fH2zZ07d2LUqFGIi4vDpEmTABwLUPfccw969eoFl8uFc889F0888QROHJjvu+++g8PhwNKlS/2+z9gcMHv2bDgcDuzYsQM33XQTEhIS4Ha7cfPNN+Pw4cM+2zY1NWH69Ono3r074uLicPXVV+Mf//iHxSPkW48vv/wSEydORGJiIoYOHQrg2F2uLGif2P753XffoXv37gCAOXPmtNn08f3332Ps2LGIjY1F9+7dce+996KlpUW5nhMmTMDrr7/uc3e5atUqHD58GNddd53f+rI2YyEEHnnkEfTs2RMxMTG44oor8Pe//73NbTds2IDbb78dSUlJiI+Px4033oiffvrJb/2SkhL069cPLpcLaWlpKCoqwoEDB3zWMbYZH79WnnjiCSxevBhnnXUWXC4XLrroImzZssVnu4ULFwKAT9PSccuXL0dWVhbi4uIQHx+P888/H88888wpj+fphnfGQfTOO+/g7LPPRnZ2dru2O3r0KPLy8jB06FA88cQTiImJgRACV199NdatW4fJkydj0KBBWLNmDf793/8d33//PebPn2+6ntdddx0yMjJQXFyMTz75BC+++CJ69OiBxx57zLvOrbfeildeeQUTJ07EpZdeig8//BCjR482/Z0y1157Lfr06YNHH30U7Rn5tXv37igtLUVhYSGuueYajBs3DoBv00dLSwvy8vKQnZ2NJ554An/5y1/w5JNP4qyzzkJhYaHS90ycONHbLn3llVcCAJYtW4bhw4ejR48eSmU89NBDeOSRRzBq1CiMGjUKn3zyCUaMGIHm5mbp+lOmTEFCQgJmz56NqqoqlJaWYteuXVi/fr03IM6ePRtz5sxBbm4uCgsLvett2bIFGzduPOUd8bJly9DQ0IDbb78dDocD8+bNw7hx4/Dtt98iMjISt99+O/bs2YO1a9fif/7nf3y2Xbt2LSZMmIDhw4d7r5evvvoKGzduxN133610TE4bgoLC4/EIAGLs2LF+n/30009i//793tfhw4e9nxUUFAgA4v777/fZ5s033xQAxCOPPOKz/He/+51wOBxix44dQgghqqurBQCxZMkSv+8FIGbNmuV9P2vWLAFA3HLLLT7rXXPNNSIpKcn7ftu2bQKAuPPOO33Wmzhxol+Zp7JixQoBQKxbt86vHhMmTPBb//LLLxeXX3653/KCggKRnp7ufb9///4263L8mD788MM+yy+44AKRlZV1yjpffvnlol+/fkIIIQYPHiwmT54shDh2Hp1Op3j55ZfFunXrBACxYsUK73ZLliwRAER1dbUQQoh9+/YJp9MpRo8eLVpbW73rPfDAAwKAKCgo8Ns2KytLNDc3e5fPmzdPABBvvfWWT5kjRowQLS0t3vWee+45AUD813/9V5vH7Pi1kpSUJH788Ufv8rfeeksAEKtWrfIuKyoqErJwcvfdd4v4+Hhx9OjRUx7H0x2bKYKkvr4eAKSPVA0bNgzdu3f3vo7/E/BExru19957D+Hh4bjrrrt8lt9zzz0QQmD16tWm63rHHXf4vL/sssvwww8/ePfhvffeAwC/7542bZrp71Sph91k+/ntt9+2q4yJEyfiz3/+M5qbm/HGG28gPDwc11xzjdK2f/nLX9Dc3IypU6f6/DP/ZMfxtttu87mzLSwsREREhPecHC9z2rRpPrmH3//+94iPj8e77757ynqNHz8eiYmJ3veXXXYZACgdm4SEBBw6dAhr16495bqnOwbjIImLiwMAHDx40O+z559/HmvXrsUrr7wi3TYiIgI9e/b0WbZr1y6kpaV5yz3u+BMJu3btMl3X3r17+7w//sM83ja5a9cuhIWF4ayzzvJZ79xzzzX9nTIZGRm2lneiqKgob7vycYmJidL215O5/vrr4fF4sHr1arz66qv4zW9+43dO2nL8HBkfkevevbtPMDyRcd3Y2FikpqZ626GPl2k8F06nE2eeeabSdXGq838yd955J8455xyMHDkSPXv2xC233IL333//lNudjhiMg8TtdiM1NRVffPGF32fZ2dnIzc3FkCFDpNu6XK5TPmHRlhPvuE50skRVWxl/0cEzdkVHR/stM7M/MnY91ZCamophw4bhySefxIYNGzBx4kRbyg0mK+e/R48e2LZtG95++21vTmPkyJEoKCiwu5ohj8E4iEaPHu19NtWq9PR07NmzBw0NDT7Lv/76a+/nwK93NcZMupU75/T0dLS2tmLnzp0+y6uqqkyXqSoxMdFvXwD//WkraAfCxIkT8de//hXx8fEYNWqU8nbHz9H27dt9lu/fv7/Nu1DjugcPHsTevXu9T0UcL9N4Lpqbm219fv1kx9fpdGLMmDEoKSnBzp07cfvtt+O///u/sWPHDlu+u7NgMA6iP/zhD4iJicEtt9yCuro6v8/bc+c5atQotLS04LnnnvNZPn/+fDgcDowcORIAEB8fj27dumHDhg0+65WUlJjYg2OOl71gwQKf5U8//bTpMlWdddZZ+Prrr7F//37vsv/7v//Dxo0bfdaLiYkB4P9HKBB+97vfYdasWSgpKYHT6VTeLjc3F5GRkXj22Wd9zv3JjuPixYtx5MgR7/vS0lIcPXrUe05yc3PhdDqxYMECnzJfeukleDwe2554Of7Mt/H4/vDDDz7vw8LCvE+xNDU12fLdnQUfbQuiPn36YNmyZZgwYQLOPfdcbw88IQSqq6uxbNkyhIWF+bUPy4wZMwZXXHEF/vjHP+K7777DwIED8cEHH+Ctt97CtGnTfNpzb731VsydOxe33norBg8ejA0bNuCbb74xvR+DBg3ChAkTUFJSAo/Hg0svvRRlZWUdcudzyy234KmnnkJeXh4mT56Mffv2YdGiRejXr583wQgca+Lo27cvXn/9dZxzzjno2rUr+vfvj/79+9teJ7fbbaon2vFnm4uLi/Gb3/wGo0aNwqefforVq1ejW7du0m2am5sxfPhwXHfddaiqqkJJSQmGDh2Kq6++2lvmzJkzMWfOHPzrv/4rrr76au96F110EW644QYru+qVlZUF4FgSNy8vD+Hh4bj++utx66234scff8SVV16Jnj17YteuXXj22WcxaNAgnx6WBD7apoMdO3aIwsJCcfbZZ4uoqCgRHR0tMjMzxR133CG2bdvms25BQYHo0qWLtJyGhgYxffp0kZaWJiIjI0WfPn3E448/7vOYlBBCHD58WEyePFm43W4RFxcnrrvuOrFv3742H23bv3+/z/bGR7KEEOLnn38Wd911l0hKShJdunQRY8aMETU1NbY+2masx3GvvPKKOPPMM4XT6RSDBg0Sa9as8XtMSwgh/va3v4msrCzhdDp96tXWMT3+vady4qNtbVF5tE0IIVpaWsScOXNEamqqiI6OFsOGDRNffPGFSE9Plz7aVl5eLm677TaRmJgoYmNjxaRJk8QPP/zg9/3PPfecyMzMFJGRkSI5OVkUFhaKn376yWedth5te/zxx/3KM57Xo0ePiqlTp4ru3bsLh8PhPW5vvPGGGDFihOjRo4dwOp2id+/e4vbbbxd79+496fE6HTmE6OAsDBFZtnTpUtx8883YsmULBg8eHOzqkA3YZkxEpAEGYyIiDTAYExFpgG3GREQa4J0xEZEGAhaMFy5ciDPOOANRUVHIzs62pZcZEVFnFZBmitdffx033ngjFi1ahOzsbDz99NNYsWIFqqqqTjmua2trK/bs2YO4uLgO7cJKRGQ3IQQaGhqQlpZ26vFkAvHw8sUXXyyKioq871taWkRaWpooLi4+5bbHOwrwxRdffHWWV01NzSljn+3doZubm1FZWYmZM2d6l4WFhSE3NxcVFRWn3F51uEFVsr9GZiddlImI8D+ER48eta18namMHKd6rGWzTZw45sJxp/PxNivQv4FgMF4vsmtFVUccH5W4Znsw/uc//4mWlhYkJyf7LE9OTvaOIHaipqYmnwFDjKOOWSVr6pAtEyZba4JRvtmy7GZnM5JqWbo2XYXaeTIuk9VVdZ9UzomV8mV0uPbac35VviPoT1MUFxfD7XZ7XydOvklEdLqwPRh369YN4eHhfkNC1tXVISUlxW/9mTNnwuPxeF81NTV2V4mISHu2N1M4nU5kZWWhrKwMY8eOBXCs/aWsrAxTpkzxW9/lcsHlcpn6LmO7kaydp70zPpysfFm7lGyZbAxb2T9pZNuabQtTbXM1ztpg5fiY3Vb2T7a2Zj82svOYqVI5Zqpt2bL2SZXjaKXJwOx5stLMorKtlfJVrxc7Geur+ptTFZDxjGfMmIGCggIMHjwYF198MZ5++mkcOnQIN998cyC+jogo5AUkGI8fPx779+/HQw89hNraWgwaNAjvv/++X1KPiIiO0W5sivr6erjdbqV1dWimkDldminMsvvJAx2aKWTHX5dmikD/xHV+kkSFbMJVlXPSnmYKj8eD+Pj4k5YX9KcpiIgohObAk/31UrkDioqK8lvW2NhoWx1kf0GtJBfM3tWpbtfRd8J23zXJyjPuu93faTxmKnVQLUvG7L9yVMuXsVJWqD9Db/aYqZwTIYRyBxLeGRMRaYDBmIhIAwzGREQaCJk2Y7MZZ1n7sOxpB1k7r0o7oKws2XaytjCVdjor7Wp2tinKqNTNSl1lbW1mOxNYOY4qT2vY2QHASvmq4yzY2TZrdt+tjENh3DYY7c+qcUQV74yJiDTAYExEpAEGYyIiDTAYExFpIGQSeCpkDfaqjeyyBFJ0dLTP+4MHDyqVJWN2NC07OysA9naHtvNhf7PdhFVZOY4qySg7u2Cb7eDUFtmIcsbyrBxru7ufG6kkv2X1D3RSz+6R43hnTESkAQZjIiINMBgTEWmAwZiISAMhncAzNtDLkkCqjeyyBIAxYafaS8zOZJTdU7sEugeekaz+Zns7qn6nnWMjA/7jEsvKt3OkNdVzpJqgCnSCTYXdvUHtTH7rMnoc74yJiDTAYExEpAEGYyIiDTAYExFpIKQTeMZGdtWEgNmh71QnorQzYSKb1DLQQ2PKmJ2+ykoPRVkSxc5efzLBmPbKWDfVfbQzyRToJJaV344uCTYVnHaJiCjEMRgTEWmAwZiISAMMxkREGtA6gXdiw32gkwkyKsP0BWP4QFlCQDWppzKfm4xKsk4m0Ik5GVliSHbMgjHsolmB7v0ZjH2087cT6EQ64H9tyIYmVemt2RbeGRMRaYDBmIhIAwzGREQa0LrN+MT2FrNteWY7KwDmO1Ko1lWlnUu1LUy1rirtaGY7xQDmOzDImO3cotpxQMbOEffMtpebnaKrPeuZHf1O1ymzZJ2jVH87qvU31sPKdSbDO2MiIg0wGBMRaYDBmIhIAwzGREQa0DqB195OH7KEjyxZZ2W0KCPVxn9ZWXY+lG7nSG6yY62a1DMeD7un1jGbyFWd/inQyToVss4EdndgUKmbajJK5ZgFujON6nRTsuvYzmNrZZ94Z0xEpAEGYyIiDbQ7GG/YsAFjxoxBWloaHA4H3nzzTZ/PhRB46KGHkJqaiujoaOTm5mL79u121ZeIqFNqdzA+dOgQBg4ciIULF0o/nzdvHhYsWIBFixZh8+bN6NKlC/Ly8kwPNENEdDpwCAstzg6HAytXrsTYsWMBHLsrTktLwz333IN7770XAODxeJCcnIylS5fi+uuvP2WZ9fX1cLvdZqvkR9YDr6mpyW+Z2V5Edicm7Ewa2lkH2T6Z7d1o9zEzJi9lx0c1QetyufyWGfdJNbFldp9kyUZZDzPV8lV7zRnJRoULpamegqGtaZc8Hg/i4+NPuq2tbcbV1dWora1Fbm6ud5nb7UZ2djYqKirs/Coiok7F1kfbamtrAQDJyck+y5OTk72fGTU1NfncqdbX19tZJSKikBD0pymKi4vhdru9r169egW7SkREHc7WYJySkgIAqKur81leV1fn/cxo5syZ8Hg83ldNTY2dVSIiCgm2NlNkZGQgJSUFZWVlGDRoEIBjzQ6bN29GYWGhdBuXyyVNmoSFhfk08JtNJqhuZzYBduedd/ota+tJEyOVRI1qXc0O2ylLDMl6gMnKlyXrjD2cZL3c7E5wGo+H6rmUJbFUprRSPf6qjNuq9ghTnV5KxrgPsh6cVhKEKtuqlm+2d2mgk+t2J9LbHYwPHjyIHTt2eN9XV1dj27Zt6Nq1K3r37o1p06bhkUceQZ8+fZCRkYEHH3wQaWlp3icuiIjIX7uD8datW3HFFVd438+YMQMAUFBQgKVLl+IPf/gDDh06hNtuuw0HDhzA0KFD8f7770sfgyIiomPaHYyHDRt20lt9h8OBhx9+GA8//LClihERnU60HrUtVIS1tmJEZSXO2rMHO9PSsAiAfV0wiOh0YKkHXiC0pweeynxrqkM/mm3s3717N+Kffhrx8+fDIQSEw4GHHQ78pyHpYHaYPjvn07NCNYmikuxSpbrvZpNndg5VaSVZZOe8gYFm51Ctdgp0r0jV72yrfJUeeLwztoFzyxY4fjkJDiFwaZDrQ0ShJ+idPjqD5osugvjlr6RwOPA3C485EdHpiXfGNqifMgXAsTvk5osuwtwFC4JcIyIKNQzGdoiIQP20ad63Lc8+G7y6EFFI6vTBWDW5YLZhPyMjw/R3qiRDVHv52JmsszJHYDCSOWbnR5Ttk2w91V5tZqnMG6har0And3UZvtXISjLWbKLY7kQr24yJiDTAYExEpAEGYyIiDYRMm7HZdq9At2FaKd/s6F9W2nSNZO1eqm2pMsZ2TF06MKgea7OjgVlps1T5TivXmWxkPpXzaSU3Ybbzj9k2byvt+qrXqMp6VtqVeWdMRKQBBmMiIg0wGBMRaYDBmIhIAyGTwFNJHNg9ypfxAXfZA+8yqsk0Wd2My2SJDyvJELOJFdWOCMbvtDLKV6CTf6rXhnE9O0d7A9SmwlKtq+o1GuiOLHYmzlWOrZX9sXN6JivXLO+MiYg0wGBMRKQBBmMiIg0wGBMRaSBkEngqVJMXZpMLVpI0qg37xoSXLDHhcrn8ljU2NiqVb9x3Kwk2O6ddKiws9FvWq1cvv2UPPPCA3zKVXk+q+6myrZ0j5FkpT1ZXOxNnZntdAmrXu52jyZlNxra1LBh4Z0xEpAEGYyIiDTAYU4cIB/AggDW//FftH8BEp49O1WZM+noAwGwc++uf+8uy/whabYj04xC6tF7/or6+Hm6322+5SmO/akLAStJKRVRUlN8yWZJD9p0qQ1Da2WPIivb0blwDYMQJ7z8AkGdTPcwOWxjo42i2R2igpzaSsftYGMuT/Tabm5uVypL9nozHw0qvV1ndZIzf0Z444vF4EB8ff9Ly2UxBHeIjAMf/zLT+8p6IfsVmCuoQj/7y36E4FogfPcm6RKcjBmPqEC1gGzHRybCZgohIA9reGYeFhfk0wKv0zJGtE4yknmpvOLNJE9XEitPp9FtmTJpYSXLIyreTat2MQ1qq9uKSlSXbJ+N1YPcQoNHR0T7vZfUPdAJPNWlotlebarJOpqmpSek7zVJNrqsOvWsW74yJiDTAYExEpAEGYyIiDWjbZqwyjYrKCGGq07GYbZOzu03a+IC7rP05JibGb9nhw4f9lqm006m2vZkdTUu237Jlsrqq1s04TZGV6bdk9TCeY9VrRfWcy86dkZW2fdlvwLgs0G3SMlZG0rOT2RyA3VNX8c64E+H4D0ShS9s7Y2o/jv9AFLradWdcXFyMiy66CHFxcejRowfGjh2Lqqoqn3UaGxtRVFSEpKQkxMbGIj8/H3V1dbZWmuSG4tcTGvbLeyIKDe0KxuXl5SgqKsKmTZuwdu1aHDlyBCNGjMChQ4e860yfPh2rVq3CihUrUF5ejj179mDcuHG2V5z8cfwHohAmLNi3b58AIMrLy4UQQhw4cEBERkaKFStWeNf56quvBABRUVGhVKbH4xEATL3Cw8P9Xg6Hw+8l21a2ntntzNYfgIiLi/N5qX5neHi4cIaFiVkOh/gAELMcDhFuoR6d7RUZGen3CnadAvGy83q08nvS4WX3OTcei/Zs6/F4Thn7LLUZezweAEDXrl0BAJWVlThy5Ahyc3O962RmZqJ3796oqKjAJZdcYuXr6BRaHA48ckLWPRgZciIyx3Qwbm1txbRp0zBkyBD0798fAFBbWwun04mEhASfdZOTk1FbWystp6mpyae7Y319vdkqERGFLNOPthUVFeGLL77A8uXLLVWguLgYbrfb+5LNCExE1NmZCsZTpkzBO++8g3Xr1qFnz57e5SkpKWhubsaBAwd81q+rq0NKSoq0rJkzZ8Lj8XhfNTU1ZqpERBTS2tVMIYTA1KlTsXLlSqxfvx4ZGRk+n2dlZSEyMhJlZWXIz88HAFRVVWH37t3IycmRlulyueByuU753SojJqmOtGSlh5bKdlaojPgm+05d24dlU+ZYGdXO7JREZnsQyuphHCUO8O8FCNh/bRhZGWlQZaonWQ8zXfZdZaotWb2sMB5bu6eqalcwLioqwrJly/DWW28hLi7O2w7sdrsRHR0Nt9uNyZMnY8aMGejatSvi4+MxdepU5OTkMHlHRHQS7QrGpaWlAIBhw4b5LF+yZAluuukmAMD8+fMRFhaG/Px8NDU1IS8vDyUlJbZUloioswqZ2aHNNhmoDgitsm1HHCrjQC9W/nmtA12aKaxgM8WvdNl3ld+mLrN/A5wdmogoZITMQEFm/6Kp/iVX+U7V4TJlVP+KqpSnMp1SsBjv1mR3wVbueFXu/FTvGM1OIaR6zs3euapeZ7I7V7P/EpSVpXp9Bno6IhmVeGDlLljl2pCVbzx3QgjleMM7YyIiDTAYExFpgMGYiEgDDMZERBoImQSejMoceLLGc1mCRCUBZiVZp7qeStLB7ONLquVbeRzQbFl2Pp4mK8tK8lWFnY+ZqdbLzse0ZGXJEsVmk6oyqonoQJ87GbPH1hhv2lMO74yJiDTAYExEpAEGYyIiDYRMm7Gs7VFlFCVZZwI726VU2wpl7WOy9iTjw/dW2uhk5cfExPi8P3z4sOmyZDq6azKgVjdZ7sDO7rKyThOqzLa9y7az0natsp2d51e1o5LZ9mHZsZCx0iHIzDpt4Z0xEZEGGIyJiDTAYExEpAEGYyIiDYRMAs9s47lqwsHOZJ2MLFkhS+oZE0FWkkyybU+cibstwRgzWJVK0kpWVzuTXVam7Qr0uNmy+pvdTzsTW4GmkuBvz7bB2CfeGRMRaYDBmIhIAwzGREQaYDAmItJAyCTw7GS2t52VXlYyZqdKUk3IqPTwkwl0ss7uaaPMnhezCR7V5I7Z9ezsRWdlW9UR91R+T4FOklkpS3VblUSxFbwzJiLSAIMxEZEGGIyJiDTAYExEpIFOlcCTJT5kvclUh+QzJiZk29ndG0tFMHrDqSaVVJJddk+Zo3Ic58yZ47ds1qxZfstUhmFVPf529nxTpTqMrDHpKTuGqlMxqZzPYPRosztpaDyfsuMq+z7Z8K0yvDMmItIAgzERkQYYjImINNCp2oyJTsbR0oLL/vpX9Nq1CzXp6QgHoMdYdESAQ+gw/t0J6uvr4Xa7/ZbrMsydnezuiWZktqehLuXLmL0OfvzxR0TNm4eoxx6DQwgIhwOzhMB/KHxnoHteqczVpnPSVkUwfr92f6dKj8SICN/72+MJPI/Hg/j4+JNuy2YKOm1EbNoExy8/RocQGBrk+hCdiMGYThtHL7kE4pe7G+Fw4KMg14foRGwzptNG44wZAI7dIR+95BI8OndukGtE9Cu2GQcR24zbz0qbsVHXrl2VvpNtxtbrwTbjU7cZa31nfOLOyw5iVFSUz/vGxsZ2l3uy8u0kC1wyxgAtC26qdVXt+aNCNfAGOnCp7Lvs/CYnJ5v+TuM+qA4tqXqezJavSuV6lwVe2dCkdu+7XToi8Jo5Zu2pA9uMiYg0wGBMRKSBdgXj0tJSDBgwAPHx8YiPj0dOTg5Wr17t/byxsRFFRUVISkpCbGws8vPzUVdXZ3uliYg6m3Yl8FatWoXw8HD06dMHQgi8/PLLePzxx/Hpp5+iX79+KCwsxLvvvoulS5fC7XZjypQpCAsLw8aNG5Ur1FYCz05mExN2t0vJ2mGN7byhluQINJU2S53rr0J15DU7R3eTlS9bJstDmG3Ht7JPZqfCsnK9W7n2VBJ4EBYlJiaKF198URw4cEBERkaKFStWeD/76quvBABRUVGhXJ7H4xEAAvoKDw/3e6ls53A4/F5W6hEZGen3srP8YOxTMOobSvU3u49mr1nV75CVr3J9qh5vu/fJ7Dm3cr1YufY8Hs8pY5/pNuOWlhYsX74chw4dQk5ODiorK3HkyBHk5uZ618nMzETv3r1RUVHRZjlNTU2or6/3eRERnW7aHYw///xzxMbGwuVy4Y477sDKlSvRt29f1NbWwul0IiEhwWf95ORk1NbWtllecXEx3G6399WrV6927wQRUahrdzA+99xzsW3bNmzevBmFhYUoKCjAl19+aboCM2fOhMfj8b5qampMl0VEFKra3enD6XTi7LPPBgBkZWVhy5YteOaZZzB+/Hg0NzfjwIEDPnfHdXV1SElJabM8l8sFl8vltzwyMtKnwdxs5wdZsk41gafSgUH1YXnV6Z+MSQK7Ew7GbWVlWUm2GI+H7FjIqO6Tan3NMvsgv0ovurYYj6OsfCvJupiYGL9lhw8fPmX5smWq0y6pXGeya0O1c5Hq9WLXdrJt7eyhCNjwnHFrayuampqQlZWFyMhIlJWVeT+rqqrC7t27kZOTY/VriIg6tXbdGc+cORMjR45E79690dDQgGXLlmH9+vVYs2YN3G43Jk+ejBkzZqBr166Ij4/H1KlTkZOTg0suuSRQ9Sci6hTaFYz37duHG2+8EXv37oXb7caAAQOwZs0aXHXVVQCA+fPnIywsDPn5+WhqakJeXh5KSkoCUnEios5E21HbOrrNWDZaWqDbjFWmupexs81YdTtd2oxlzHYAkNGhzdhuKm3Gqsy2GcvIrjPjqGdtla+D9rQZh/SobcYTYDZJo5qYkDEGICtlqTL7B0ZGJRCqXlCqI3gFY6hHlcSKrP52JsoCvd9W9kkWeI3nTpY4k92gmB3iNdDDxaqyMuqcmZszIYTyDQkHCiIi0gCDMRGRBhiMiYg0wGBMRKQBbRN4ERERp3yawk6yhn2z0xYFOlkR6GRRoIfVtJKMUkk4BmOOOln97XwywOyTN20xHttAJ9NUyw/079zKdaxyXQW1Bx4REVnHYExEpAEGYyIiDTAYExFpQNsEnjF5ppJUUk08BTpBZWcyxO5h+ow9rVQTJqq9/gKd5NChp5vqNRXoZJRqF3XVYSl1YPf1rut3yvDOmIhIAwzGREQaYDAmItKAtm3GRirtdLJ1Qqm9TMZKG6BKRxYrHQfMtqsFeiopK/Wws63Q7LWnuo+qdVUdNczIzt+OlX0KdI5H9fioDA9rpV68MyYi0gCDMRGRBhiMiYg0wGBMRKSBkEngmaXaWSGUknqqdTU7dYyVBKFKAkN1NDNZ+SrTAwU64SMjK1826p/ZOQ6tdLpRSfRZ6bSiUjfVZGOgk55WOngY17OS/JbhnTERkQYYjImINMBgTESkAQZjIiINhHQCzzhqlWpDvNlknZUeSbJtZT14jPtg9xROxvJlCQ0ryTqVUeFky1SPrcq+qybr7BzRLyoqym+ZrP5me/jJRmgLRtJZdnzs7Ilmdp9Uv89KDz/jb0V2ToxJ2/YcB94ZExFpgMGYiEgDDMZERBpgMCYi0kDIJPBUeyAZNTY22lYH1cSWlW2NCTs7p3CSsZLQsHOqoVDq7SUju87s7KGlWi+zCUjVKZzs7tWmA7PJP9XfjireGRMRaYDBmIhIAwzGREQaYDAmItJAyCTwzA4DqNo4bzYJIUt8qM6pJatboBN2KuxM0tid3LEzMWQ2KWalh59Zqte2nd+peu5UrndZ/VWHUlVhJRlrNm7YPVQr74yJiDTAYExEpAFLwXju3LlwOByYNm2ad1ljYyOKioqQlJSE2NhY5Ofno66uzmo9iYg6NdNtxlu2bMHzzz+PAQMG+CyfPn063n33XaxYsQJutxtTpkzBuHHjsHHjRsuVPRXVB9dlzLZF2v1wu52dGgJN1mZmPAeq7efBoFJ/IPD5CrNTMdnZacXKqHBm20lVp6VSKd/KCHZm6y87ZsZlQgjpfkrLM1OJgwcPYtKkSXjhhReQmJjoXe7xePDSSy/hqaeewpVXXomsrCwsWbIEf/vb37Bp0yYzX0VEdFowFYyLioowevRo5Obm+iyvrKzEkSNHfJZnZmaid+/eqKiokJbV1NSE+vp6nxcR0emm3c0Uy5cvxyeffIItW7b4fVZbWwun04mEhASf5cnJyaitrZWWV1xcjDlz5rS3GkREnUq77oxrampw991349VXX5XObGDGzJkz4fF4vK+amhpbyiUiCiXtujOurKzEvn37cOGFF3qXtbS0YMOGDXjuueewZs0aNDc348CBAz53x3V1dUhJSZGW6XK54HK5TvndKg37skSLapJD5aF0Kw+Ry6gkDqwk68wmhqzUI9DJLhVWOprYmRxVrYdx362MBGiWaqLV7Ih+dp5fu8nOk+x4qEzzZuX6aVcwHj58OD7//HOfZTfffDMyMzNx3333oVevXoiMjERZWRny8/MBAFVVVdi9ezdycnJMV5KIqLNrVzCOi4tD//79fZZ16dIFSUlJ3uWTJ0/GjBkz0LVrV8THx2Pq1KnIycnBJZdcYl+tiYg6GdvHppg/fz7CwsKQn5+PpqYm5OXloaSkxO6vISLqVBxCs8ac+vp6uN1uv+Vm2xlDrc3Y2H6lS5uxnXRpM7azHrp0IDHL7mN2urYZt8Xj8SA+Pv6k64TMqG0qJ1N2UFUDr6x847Yd8SMxOwKWnSN4Wflh2lkv2R9S2fFRmQ5HtW5mycoy+4fUSk9Ss6wEXh2mXbLSG9FsXe3ebw4URESkAQZjIiINMBgTEWmAwZiISAMhk8BTIWs8j4mJ8VvW1NSktK2RamJFdT2zCQA7E09WnjYJ9LRCsnqoDDEqo7pdoHvgyRKQxuNoJYFndj+tXAfBSDga62GlN6LqtW3cJ9WnplTxzpiISAMMxkREGmAwJiLSAIMxEZEGOlUCT+bw4cNK66kk01SHGdRluEaVZJEuSRqVLrWAfJ9Uut4GOqFk53x0VhJDZvdT9dq2MleenQLde1LGeI5V57ZTxTtjIiINMBgTEWmAwZiISAMMxkREGgiZBJ7T6fRb1tzcbGo71bmrVMYWttIzzc5ebap1U9mnQCfrdBkC1CxZ+arJHJXrWHZdqx4zs78Tu5PTOrD7OjCeY7uHz+WdMRGRBhiMiYg0wGBMRKSBkGkzVm1HU9lOlcooTVbajVQ6OtjdfquybaDnPrN7n4zfaaUslTZXK+WbvR5VO8VYud51IOs8I2uPV/nd2d2+Heh5/HhnTESkAQZjIiINMBgTEWmAwZiISAMhk8BTSdbJEkMyZhv2ZQ34sgfLVUe2CnSyyM5OE6r7pPKddk8rZPYYmU2AybaLiPD/KQV6NDPVpJ7K8Q50ckpVMEaAU6WSnFZZpy28MyYi0gCDMRGRBhiMiYg0wGBMRKSBkEngme1xozJymeq2qtP5qEwNBJjvLWUliWV2n1RGtZOtpzp1kio7e1WZTSTKjpmVxJPZpI/dPUIDSZasVk0Amx2JTsZK8tW4ntmegW3hnTERkQYYjImINMBgTESkAQZjIiINhEwCzyy7h7g0kg35J2v8lyUOVBIwsnUCPfWN2V5cMrJjaCWBp0L1nNjJSjJNZT0r5dt5vZg9tlaG9rRzWFAr8UBlP41JbSGE8vXOO2MiIg0wGBMRaaBdwXj27NlwOBw+r8zMTO/njY2NKCoqQlJSEmJjY5Gfn4+6ujrbK01E1Nm0+864X79+2Lt3r/f10UcfeT+bPn06Vq1ahRUrVqC8vBx79uzBuHHjbK0wEVFn1O4EXkREBFJSUvyWezwevPTSS1i2bBmuvPJKAMCSJUtw3nnnYdOmTbjkkkus11ZDsl44VpItUVFRPu8bGxuVtlP9TpV6qPZIUvlOs70dZWWpUk3W2TkXn5WeYyo98FSHyzR7zGJiYvyWbd26FTh6FN0WL0Z0ZSV+zspC6nPPIbDp446ner0Yr2XVnqqq2n1nvH37dqSlpeHMM8/EpEmTsHv3bgBAZWUljhw5gtzcXO+6mZmZ6N27NyoqKtosr6mpCfX19T4vItJDt8WL0W3hQsRWVKDbwoV4INgV6sTaFYyzs7OxdOlSvP/++ygtLUV1dTUuu+wyNDQ0oLa2Fk6nEwkJCT7bJCcno7a2ts0yi4uL4Xa7va9evXqZ2hEisl90ZSUcv9xtO4TA0CDXpzNrVzPFyJEjvf8/YMAAZGdnIz09HX/6058QHR1tqgIzZ87EjBkzvO/r6+sZkIk08XNWFrps2gSHEBAOBz7SdCCizsBSp4+EhAScc8452LFjB6666io0NzfjwIEDPnfHdXV10jbm41wuF1wul6nvNz6ArjqKkupD2GZH07LyYLlqG7GRavunSruXnSOQqbahBWO0Mdl1IOvUYLyuVOuq0j7cnvLs2k6mqanJb1nfvn0RDuABAEMBfCQEHrXtG+1lZ54GkP8OA93ZytJzxgcPHsTOnTuRmpqKrKwsREZGoqyszPt5VVUVdu/ejZycHMsVJaKO1wLgPwDk/fLfzpa800m77ozvvfdejBkzBunp6dizZw9mzZqF8PBwTJgwAW63G5MnT8aMGTPQtWtXxMfHY+rUqcjJyem0T1IQEdmlXcH4H//4ByZMmIAffvgB3bt3x9ChQ7Fp0yZ0794dADB//nyEhYUhPz8fTU1NyMvLQ0lJSUAqTkTUmTiEZlMD1NfXw+12K61rts1YtX3JzNTcba0XaKrP86q0GauS7buRZpeXD9kxk7W9m20zltHlejGyMnuMDjqizdgKj8eD+Pj4k64TMqO2yQ622USTrFODLJAbf5iyhI/dPySzSUPVH45xPSsjnAU6iKjWzRhIVM+T6pRZZvfTzum9VMmOmWyfVK6XYPzhUD1mxv20knQO9Ih+qjhQEBGRBhiMiYg0wGBMRKQBBmMiIg1om8CLiIjwSSDIGtnNNuKrrmdMfMiSF7KEg5UkUEdn1mWJS12o9pQ0m/W3c3op1emxVJJiVpKqqk8UGXVEclqF6rk07qeVp0HsvH6M2nMMeWdMRKQBBmMiIg0wGBMRaYDBmIhIA9om8FQSSypJDStdHe1MfKgmZexMCqgki+zu2mvcT9kwkqoC3R1XtVee2bLMrmclqarDcJwdwVhflV56gFoPzrbKO1UdrOKdMRGRBhiMiYg0wGBMRKQBBmMiIg1om8ADfBNEZhvL7RyX1ErPqEAPS2l2uEMrwyTK1rOSsNOBlXNsF9WenqrJRpUkttnxsFXXs3vcbJVrVPW8qfaUNPbOtDvBzDtjIiINMBgTEWmAwZiISANatxkH6kF0s+1vsofxVduzAj3PlpWOJkZW2pHtbCtUZbajjJ1TecnY2Y5v5TiqXGd2j3Bm53nXZaqnQF/LvDMmItIAgzERkQYYjImINMBgTESkAa0TeCcKRjJE1rBvpDo1UFNTk98ylX1yOp1+61jpWGF2qirVBKTx2KqeNyudGnQYqcxK0tO4rcvl8ltHdv3ImN0nWbJXRmX6M8D/d6F6Ls0eRyvXj+pv2Fg3s1N0tYV3xkREGmAwJiLSAIMxEZEGGIyJiDQQMgm8iAj/qprtLaXa2G9s2LeS8DGbzFFN1sn2yezxkSVRVHsLmk0Qqk6bI+sFqcOUQXZeG6oJJSsJJOM5ttLz0M5ei6o9SY3XQaAThLL1OGobEVEnxGBMRKQBBmMiIg0wGBMRaSBkEnhmkwSyxnnVBImd0xbZOZ2Pld5GgSwLCPwURcFI1hnPnSyJaGdvLCtJT1Vme7XJ9lNWX+PvQpaAl5GVpXI8VK9jHZK9beGdMRGRBhiMiYg00O5g/P333+OGG25AUlISoqOjcf7552Pr1q3ez4UQeOihh5Camoro6Gjk5uZi+/bttlaaiKizaVcw/umnnzBkyBBERkZi9erV+PLLL/Hkk08iMTHRu868efOwYMECLFq0CJs3b0aXLl2Ql5dn6xRDRESdjmiH++67TwwdOrTNz1tbW0VKSop4/PHHvcsOHDggXC6XeO2115S+w+PxCAB+r/DwcL+XbD2zL4fDYdvLznpFRkb6vVSPhaxuZrez87iqbhvocx6M60dl21Da72AdW+M6TqfT7xXo89me7/R4PKeMfe26M3777bcxePBgXHvttejRowcuuOACvPDCC97Pq6urUVtbi9zcXO8yt9uN7OxsVFRUSMtsampCfX29z4uI6HTTrmD87bfforS0FH369MGaNWtQWFiIu+66Cy+//DIAoLa2FgCQnJzss11ycrL3M6Pi4mK43W7vq1evXmb2g4gopLUrGLe2tuLCCy/Eo48+igsuuAC33XYbfv/732PRokWmKzBz5kx4PB7vq6amxnRZREShql3BODU1FX379vVZdt5552H37t0AgJSUFABAXV2dzzp1dXXez4xcLhfi4+N9XkREp5t29cAbMmQIqqqqfJZ98803SE9PBwBkZGQgJSUFZWVlGDRoEACgvr4emzdvRmFhoaWKqgyxqNITCIC0F45smbFXj91D5skY90nWW9BKD0KVfZBtp8rOecJU99Ms2bUho3I8rAzxauV4q7AybGSokF1Tge4da2UuSpl2BePp06fj0ksvxaOPPorrrrsOH3/8MRYvXozFixcDOLbz06ZNwyOPPII+ffogIyMDDz74INLS0jB27FhbK05E1KkoPW92glWrVon+/fsLl8slMjMzxeLFi30+b21tFQ8++KBITk4WLpdLDB8+XFRVVSmX39ajbbKX8ZEv2Tp2Plqlup2Vl8pjbIF+nM7Ky87HtAK9n3Y+qih7BNFsvex+tE3n68Wu+lv5ndh57tp6qTza5hBCr3+v1NfXw+12K61rZzOFTCg1U+hyGu1spgj0P6/tbKbQdSAoIPSbKVTqLztmqr8TO89dWzwezynzYSEzapuMygFTveiioqL8lhl7Ddr9I5ExjgimWn/ZBSsLhMZ9kLV7Wbk4jfXtiD9gKlTPnWqANrJyI2D2j75qXe0cUU7G7O9Ctp2MSlnBGGnQ7j9yHCiIiEgDDMZERBpgMCYi0gCDMRGRBkImgaeSoFJtxJclDlSG+AzGUwBWOq3I6quyD3Z2tpDVX7WDhGyfVJJWqsfCbLJOleo5N3u8VRNzZpNpqte72QShSkeu9tTDLNm+y5YZk912P5HCO2MiIg0wGBMRaYDBmIhIA9q1GbfVDqPaTmrlO+xipXwdekbZWQc7z5vVbQNZlhU6XMen8zmx+xpV/Q4j7YJxQ0OD8rpmEx+BHg0s1AX6+Bh7GZI5dp4nK2XZeT6DcW1YGRlRVUNDwymHedBubIrW1lbs2bMHcXFxaGhoQK9evVBTUxOS4xzX19ez/kHE+gdXqNcfsL4PQgg0NDQgLS1N+tTJibS7Mw4LC0PPnj0B/ProUagPOs/6BxfrH1yhXn/A2j6oDnzGBB4RkQYYjImINKB1MHa5XJg1axZcLlewq2IK6x9crH9whXr9gY7dB+0SeEREpyOt74yJiE4XDMZERBpgMCYi0gCDMRGRBrQNxgsXLsQZZ5yBqKgoZGdn4+OPPw52ldq0YcMGjBkzBmlpaXA4HHjzzTd9PhdC4KGHHkJqaiqio6ORm5uL7du3B6eyBsXFxbjooosQFxeHHj16YOzYsaiqqvJZp7GxEUVFRUhKSkJsbCzy8/NRV1cXpBr7Ki0txYABA7wP5efk5GD16tXez3Wuu8zcuXPhcDgwbdo07zLd92H27NlwOBw+r8zMTO/nutcfAL7//nvccMMNSEpKQnR0NM4//3xs3brV+3lH/Ia1DMavv/46ZsyYgVmzZuGTTz7BwIEDkZeXh3379gW7alKHDh3CwIEDsXDhQunn8+bNw4IFC7Bo0SJs3rwZXbp0QV5entKA9oFWXl6OoqIibNq0CWvXrsWRI0cwYsQIHDp0yLvO9OnTsWrVKqxYsQLl5eXYs2cPxo0bF8Ra/6pnz56YO3cuKisrsXXrVlx55ZX47W9/i7///e8A9K670ZYtW/D8889jwIABPstDYR/69euHvXv3el8fffSR9zPd6//TTz9hyJAhiIyMxOrVq/Hll1/iySefRGJionedDvkNCw1dfPHFoqioyPu+paVFpKWlieLi4iDWSg0AsXLlSu/71tZWkZKSIh5//HHvsgMHDgiXyyVee+21INTw5Pbt2ycAiPLyciHEsbpGRkaKFStWeNf56quvBABRUVERrGqeVGJionjxxRdDqu4NDQ2iT58+Yu3ateLyyy8Xd999txAiNI7/rFmzxMCBA6WfhUL977vvPjF06NA2P++o37B2d8bNzc2orKxEbm6ud1lYWBhyc3NRUVERxJqZU11djdraWp/9cbvdyM7O1nJ/PB4PAKBr164AgMrKShw5csSn/pmZmejdu7d29W9pacHy5ctx6NAh5OTkhFTdi4qKMHr0aJ+6AqFz/Ldv3460tDSceeaZmDRpEnbv3g0gNOr/9ttvY/Dgwbj22mvRo0cPXHDBBXjhhRe8n3fUb1i7YPzPf/4TLS0tSE5O9lmenJyM2traINXKvON1DoX9aW1txbRp0zBkyBD0798fwLH6O51OJCQk+KyrU/0///xzxMbGwuVy4Y477sDKlSvRt2/fkKg7ACxfvhyffPIJiouL/T4LhX3Izs7G0qVL8f7776O0tBTV1dW47LLL0NDQEBL1//bbb1FaWoo+ffpgzZo1KCwsxF133YWXX34ZQMf9hrUbtY2Cp6ioCF988YVPe18oOPfcc7Ft2zZ4PB688cYbKCgoQHl5ebCrpaSmpgZ333031q5di6ioqGBXx5SRI0d6/3/AgAHIzs5Geno6/vSnPyE6OjqINVPT2tqKwYMH49FHHwUAXHDBBfjiiy+waNEiFBQUdFg9tLsz7tatG8LDw/2yrXV1dUhJSQlSrcw7Xmfd92fKlCl45513sG7dOu8QpsCx+jc3N+PAgQM+6+tUf6fTibPPPhtZWVkoLi7GwIED8cwzz4RE3SsrK7Fv3z5ceOGFiIiIQEREBMrLy7FgwQJEREQgOTlZ+30wSkhIwDnnnIMdO3aExDlITU1F3759fZadd9553qaWjvoNaxeMnU4nsrKyUFZW5l3W2tqKsrIy5OTkBLFm5mRkZCAlJcVnf+rr67F582Yt9kcIgSlTpmDlypX48MMPkZGR4fN5VlYWIiMjfepfVVWF3bt3a1F/mdbWVjQ1NYVE3YcPH47PP/8c27Zt874GDx6MSZMmef9f930wOnjwIHbu3InU1NSQOAdDhgzxe5zzm2++QXp6OoAO/A3blgq00fLly4XL5RJLly4VX375pbjttttEQkKCqK2tDXbVpBoaGsSnn34qPv30UwFAPPXUU+LTTz8Vu3btEkIIMXfuXJGQkCDeeust8dlnn4nf/va3IiMjQ/z8889BrrkQhYWFwu12i/Xr14u9e/d6X4cPH/auc8cdd4jevXuLDz/8UGzdulXk5OSInJycINb6V/fff78oLy8X1dXV4rPPPhP333+/cDgc4oMPPhBC6F33tpz4NIUQ+u/DPffcI9avXy+qq6vFxo0bRW5urujWrZvYt2+fEEL/+n/88cciIiJC/Od//qfYvn27ePXVV0VMTIx45ZVXvOt0xG9Yy2AshBDPPvus6N27t3A6neLiiy8WmzZtCnaV2rRu3ToBwO9VUFAghDj2aMyDDz4okpOThcvlEsOHDxdVVVXBrfQvZPUGIJYsWeJd5+effxZ33nmnSExMFDExMeKaa64Re/fuDV6lT3DLLbeI9PR04XQ6Rffu3cXw4cO9gVgIveveFmMw1n0fxo8fL1JTU4XT6RT/8i//IsaPHy927Njh/Vz3+gshxKpVq0T//v2Fy+USmZmZYvHixT6fd8RvmENoEhFpQLs2YyKi0xGDMRGRBhiMiYg0wGBMRKQBBmMiIg0wGBMRaYDBmIhIAwzGREQaYDAmItIAgzERkQYYjImINMBgTESkgf8Hn5mm6i6TKpAAAAAASUVORK5CYII=",
      "text/plain": [
       "<Figure size 400x400 with 1 Axes>"
      ]
     },
     "metadata": {},
     "output_type": "display_data"
    }
   ],
   "source": [
    "# Select an index to visualize from the entire dataset\n",
    "index_to_visualize = np.random.randint(0, len(all_images))\n",
    "\n",
    "# Visualize the selected image with predicted and true midpoints\n",
    "visualize_midpoints(all_images[index_to_visualize], all_pred_midpoints[index_to_visualize, 0, :, :] * 64, title=\"Predicted Midpoints\")\n",
    "visualize_midpoints(all_images[index_to_visualize], all_true_midpoints[index_to_visualize, 0, :, :] * 64, title=\"Ground Truth Midpoints\")"
   ]
  },
  {
   "cell_type": "code",
   "execution_count": 38,
   "metadata": {},
   "outputs": [
    {
     "data": {
      "image/png": "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",
      "text/plain": [
       "<Figure size 500x500 with 1 Axes>"
      ]
     },
     "metadata": {},
     "output_type": "display_data"
    },
    {
     "data": {
      "image/png": "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",
      "text/plain": [
       "<Figure size 500x500 with 1 Axes>"
      ]
     },
     "metadata": {},
     "output_type": "display_data"
    }
   ],
   "source": [
    "import numpy as np\n",
    "import matplotlib.pyplot as plt\n",
    "\n",
    "# Initialize variables to track the min and max MSE\n",
    "min_mse = float('inf')\n",
    "max_mse = float('-inf')\n",
    "min_mse_index = -1\n",
    "max_mse_index = -1\n",
    "\n",
    "# Loop through each prediction to calculate the MSE\n",
    "for i in range(len(all_pred_midpoints)):\n",
    "    mse = np.mean((all_pred_midpoints[i] - all_true_midpoints[i]) ** 2)\n",
    "    \n",
    "    if mse < min_mse:\n",
    "        min_mse = mse\n",
    "        min_mse_index = i\n",
    "    \n",
    "    if mse > max_mse:\n",
    "        max_mse = mse\n",
    "        max_mse_index = i\n",
    "\n",
    "\n",
    "# Function to plot an image with its centers\n",
    "def plot_image_with_centers(image, true_center, predicted_center, title):\n",
    "    plt.figure(figsize=(5, 5))\n",
    "    plt.imshow(image.squeeze(), cmap='gray')  # Display the image\n",
    "\n",
    "    # Plot the actual center (Groundtruth)\n",
    "    plt.scatter(true_center[:, 0], true_center[:, 1], color='green', label='Groundtruth', s=10)\n",
    "\n",
    "    # Plot the predicted center\n",
    "    plt.scatter(predicted_center[:, 0], predicted_center[:, 1], color='red', label='Predictions', s=10)\n",
    "\n",
    "    plt.title(title)\n",
    "    plt.legend()\n",
    "    plt.show()\n",
    "\n",
    "\n",
    "\n",
    "\n",
    "\n",
    "\n",
    "# Plotting the image with the least MSE\n",
    "plot_image_with_centers(all_images[min_mse_index],\n",
    "                        all_true_midpoints[min_mse_index][0] * 64,  \n",
    "                        all_pred_midpoints[min_mse_index][0] * 64,  \n",
    "                        f'Image with Least MSE. MSE: {min_mse:.4f}')\n",
    "\n",
    "# Plotting the image with the largest MSE\n",
    "plot_image_with_centers(all_images[max_mse_index],\n",
    "                        all_true_midpoints[max_mse_index][0] * 64, \n",
    "                        all_pred_midpoints[max_mse_index][0] * 64,  \n",
    "                        f'Image with Largest MSE. MSE: {max_mse:.4f}')\n",
    "\n",
    "\n"
   ]
  }
 ],
 "metadata": {
  "kernelspec": {
   "display_name": "electrondetection",
   "language": "python",
   "name": "python3"
  },
  "language_info": {
   "codemirror_mode": {
    "name": "ipython",
    "version": 3
   },
   "file_extension": ".py",
   "mimetype": "text/x-python",
   "name": "python",
   "nbconvert_exporter": "python",
   "pygments_lexer": "ipython3",
   "version": "3.11.5"
  }
 },
 "nbformat": 4,
 "nbformat_minor": 2
}
