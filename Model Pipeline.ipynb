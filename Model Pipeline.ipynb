{
 "cells": [
  {
   "cell_type": "markdown",
   "metadata": {},
   "source": [
    "Uncomment and run this block if using a remote server and set the GPU to use"
   ]
  },
  {
   "cell_type": "code",
   "execution_count": null,
   "metadata": {},
   "outputs": [],
   "source": [
    "# import os\n",
    "# import tensorflow as tf\n",
    "\n",
    "# # Set CUDA device order and visible devices\n",
    "# os.environ[\"CUDA_DEVICE_ORDER\"] = \"PCI_BUS_ID\"\n",
    "# os.environ[\"CUDA_VISIBLE_DEVICES\"] = \"0,1,2,3,4,5,6,7,8,9\"\n",
    "\n",
    "# # Set the device\n",
    "# device = '/cpu:0'\n",
    "# if tf.config.experimental.list_physical_devices('GPU'):\n",
    "#     try:\n",
    "#         # Restrict TensorFlow to only use the second GPU\n",
    "#         gpus = tf.config.experimental.list_physical_devices('GPU')\n",
    "#         if gpus:\n",
    "#             tf.config.experimental.set_visible_devices(gpus[9], 'GPU')\n",
    "#             device = '/gpu:9'\n",
    "#     except RuntimeError as e:\n",
    "#         print(e)\n",
    "\n",
    "# print(\"device\", device)\n"
   ]
  },
  {
   "cell_type": "markdown",
   "metadata": {},
   "source": [
    "Run this block only when working on local computer else comment this out and run the first block instead"
   ]
  },
  {
   "cell_type": "code",
   "execution_count": 1,
   "metadata": {},
   "outputs": [
    {
     "name": "stderr",
     "output_type": "stream",
     "text": [
      "2024-08-25 15:01:17.324991: I tensorflow/core/util/port.cc:111] oneDNN custom operations are on. You may see slightly different numerical results due to floating-point round-off errors from different computation orders. To turn them off, set the environment variable `TF_ENABLE_ONEDNN_OPTS=0`.\n",
      "2024-08-25 15:01:17.358476: E tensorflow/compiler/xla/stream_executor/cuda/cuda_dnn.cc:9342] Unable to register cuDNN factory: Attempting to register factory for plugin cuDNN when one has already been registered\n",
      "2024-08-25 15:01:17.358504: E tensorflow/compiler/xla/stream_executor/cuda/cuda_fft.cc:609] Unable to register cuFFT factory: Attempting to register factory for plugin cuFFT when one has already been registered\n",
      "2024-08-25 15:01:17.358526: E tensorflow/compiler/xla/stream_executor/cuda/cuda_blas.cc:1518] Unable to register cuBLAS factory: Attempting to register factory for plugin cuBLAS when one has already been registered\n",
      "2024-08-25 15:01:17.364747: I tensorflow/core/platform/cpu_feature_guard.cc:182] This TensorFlow binary is optimized to use available CPU instructions in performance-critical operations.\n",
      "To enable the following instructions: AVX2 AVX512F AVX512_VNNI FMA, in other operations, rebuild TensorFlow with the appropriate compiler flags.\n",
      "2024-08-25 15:01:18.275088: W tensorflow/compiler/tf2tensorrt/utils/py_utils.cc:38] TF-TRT Warning: Could not find TensorRT\n",
      "2024-08-25 15:01:20.228723: I tensorflow/core/common_runtime/gpu/gpu_device.cc:1886] Created device /job:localhost/replica:0/task:0/device:GPU:0 with 21553 MB memory:  -> device: 0, name: NVIDIA GeForce RTX 3090, pci bus id: 0000:68:00.0, compute capability: 8.6\n"
     ]
    }
   ],
   "source": [
    "\n",
    "import tensorflow as tf\n",
    "import numpy as np\n",
    "import h5py\n",
    "from tensorflow.keras import layers, models, optimizers\n",
    "import matplotlib.pyplot as plt\n",
    "from sklearn.model_selection import train_test_split\n",
    "\n",
    "\n",
    "# Configure Keras to use GPU\n",
    "config = tf.compat.v1.ConfigProto()\n",
    "config.gpu_options.allow_growth = True\n",
    "sess = tf.compat.v1.Session(config=config)\n",
    "tf.compat.v1.keras.backend.set_session(sess)"
   ]
  },
  {
   "cell_type": "code",
   "execution_count": 2,
   "metadata": {},
   "outputs": [],
   "source": [
    "\n",
    "\n",
    "# Load HDF5 data\n",
    "# h5_filename = '/home/da886/ElectronCountingProject/Small Building Blocks/Data Generated/150K_3electronsOnly.h5'#### i used this for training and saved it under weekend steps weights\n",
    "# with h5py.File(h5_filename, 'r') as f:\n",
    "#     images = np.array(f['images'][:100000])\n",
    "#     centers = np.array(f['centers_training'][:100000])\n",
    "h5_filename = '/home/m3-learning/Documents/Research Data/Electron Detection/Data Generated/100KImages_3 electrons_only.h5'\n",
    "with h5py.File(h5_filename, 'r') as f:\n",
    "    images = np.array(f['images'][:50000])\n",
    "    centers = np.array(f['centers_training'][:50000])\n"
   ]
  },
  {
   "cell_type": "code",
   "execution_count": 3,
   "metadata": {},
   "outputs": [
    {
     "data": {
      "image/png": "[encoded data removed]",
      "text/plain": [
       "<Figure size 640x480 with 2 Axes>"
      ]
     },
     "metadata": {},
     "output_type": "display_data"
    }
   ],
   "source": [
    "a = np.random.randint(0, len(images))\n",
    "# a =2\n",
    "image = images[a]\n",
    "centerss = centers[a]\n",
    "\n",
    "# Plot the image with valid centers\n",
    "plt.imshow(image, )\n",
    "valid_centers = centerss[centerss[:, 0] == 1]\n",
    "for center in valid_centers:\n",
    "    plt.scatter(center[1], center[2], c='red', marker='x')  # Note: center[1] is x and center[2] is y\n",
    "plt.title('Image with Valid Centers Marked')\n",
    "plt.colorbar()\n",
    "plt.show()\n"
   ]
  },
  {
   "cell_type": "code",
   "execution_count": 4,
   "metadata": {},
   "outputs": [],
   "source": [
    "\n",
    "\n",
    "# Function to sort centers from top-left to bottom-right\n",
    "def sort_centers(centers):\n",
    "    # Sort by y first, then by x\n",
    "    return centers[np.lexsort((centers[:, 0], centers[:, 1]))]\n",
    "\n",
    "# Sort the centers for each image\n",
    "sorted_centers = np.array([sort_centers(image_centers[:, 1:]) for image_centers in centers])\n"
   ]
  },
  {
   "cell_type": "code",
   "execution_count": 5,
   "metadata": {},
   "outputs": [
    {
     "data": {
      "text/plain": [
       "array([[54.000645, 15.      ],\n",
       "       [36.12607 , 17.672152],\n",
       "       [54.      , 48.      ]], dtype=float32)"
      ]
     },
     "execution_count": 5,
     "metadata": {},
     "output_type": "execute_result"
    }
   ],
   "source": [
    "k= np.random.randint(0, len(sorted_centers))\n",
    "sorted_centers[k]"
   ]
  },
  {
   "cell_type": "code",
   "execution_count": 6,
   "metadata": {},
   "outputs": [
    {
     "name": "stderr",
     "output_type": "stream",
     "text": [
      "2024-08-25 15:01:33.204387: I tensorflow/core/common_runtime/gpu/gpu_device.cc:1886] Created device /job:localhost/replica:0/task:0/device:GPU:0 with 21553 MB memory:  -> device: 0, name: NVIDIA GeForce RTX 3090, pci bus id: 0000:68:00.0, compute capability: 8.6\n"
     ]
    }
   ],
   "source": [
    "\n",
    "# normalized_images = (images+1e-9)/9.26\n",
    "normalized_images = (images)/np.max(images)\n",
    "normalized_centers = sorted_centers /  64\n",
    "normalized_midpoints =normalized_centers\n",
    "normalized_midpoints = tf.expand_dims(normalized_midpoints,axis =1)\n",
    "normalized_midpoints_np = normalized_midpoints.numpy()"
   ]
  },
  {
   "cell_type": "markdown",
   "metadata": {},
   "source": [
    "Range for input images"
   ]
  },
  {
   "cell_type": "code",
   "execution_count": 7,
   "metadata": {},
   "outputs": [
    {
     "data": {
      "text/plain": [
       "(1.0, 0.0)"
      ]
     },
     "execution_count": 7,
     "metadata": {},
     "output_type": "execute_result"
    }
   ],
   "source": [
    "np.max(normalized_images), np.min(normalized_images)"
   ]
  },
  {
   "cell_type": "markdown",
   "metadata": {},
   "source": [
    "Range for labels"
   ]
  },
  {
   "cell_type": "code",
   "execution_count": 8,
   "metadata": {},
   "outputs": [
    {
     "data": {
      "text/plain": [
       "(0.95097446, 0.03568606)"
      ]
     },
     "execution_count": 8,
     "metadata": {},
     "output_type": "execute_result"
    }
   ],
   "source": [
    "np.max(normalized_centers), np.min(normalized_centers)"
   ]
  },
  {
   "cell_type": "code",
   "execution_count": 9,
   "metadata": {},
   "outputs": [],
   "source": [
    "# Perform the random split\n",
    "train_images, val_images, train_midpoints, val_midpoints = train_test_split(\n",
    "    normalized_images, normalized_midpoints_np, train_size=0.8, random_state=42\n",
    ")"
   ]
  },
  {
   "cell_type": "code",
   "execution_count": 10,
   "metadata": {},
   "outputs": [],
   "source": [
    "train_dataset = tf.data.Dataset.from_tensor_slices((train_images, train_midpoints))\n",
    "val_dataset = tf.data.Dataset.from_tensor_slices((val_images, val_midpoints))"
   ]
  },
  {
   "cell_type": "code",
   "execution_count": 11,
   "metadata": {},
   "outputs": [
    {
     "data": {
      "text/plain": [
       "((40000, 64, 64), (10000, 64, 64), (40000, 1, 3, 2))"
      ]
     },
     "execution_count": 11,
     "metadata": {},
     "output_type": "execute_result"
    }
   ],
   "source": [
    "train_images.shape,val_images.shape,train_midpoints.shape"
   ]
  },
  {
   "cell_type": "code",
   "execution_count": 12,
   "metadata": {},
   "outputs": [],
   "source": [
    "batch_size = 300\n",
    "train_dataset = train_dataset.shuffle(buffer_size=2000,reshuffle_each_iteration= True).batch(batch_size)\n",
    "val_dataset = val_dataset.shuffle(buffer_size=2000).batch(batch_size)"
   ]
  },
  {
   "cell_type": "markdown",
   "metadata": {},
   "source": [
    "Example of what goes inside the model"
   ]
  },
  {
   "cell_type": "code",
   "execution_count": 16,
   "metadata": {},
   "outputs": [
    {
     "data": {
      "image/png": "[encoded data removed]",
      "text/plain": [
       "<Figure size 640x480 with 1 Axes>"
      ]
     },
     "metadata": {},
     "output_type": "display_data"
    }
   ],
   "source": [
    "\n",
    "sample_image, sample_midpoints = next(iter(train_dataset))\n",
    "\n",
    "\n",
    "# Convert TensorFlow tensors to NumPy arrays (if they are tensors)\n",
    "sample_image = np.array(sample_image[2])\n",
    "sample_midpoints = np.array(sample_midpoints[2])\n",
    "\n",
    "# # Transpose the image and correctly swap the midpoints\n",
    "\n",
    "transposed_image = sample_image.T\n",
    "transposed_midpoints_corrected = sample_midpoints[:,:, [1, 0]]  # Correctly swap x and y coordinates\n",
    "\n",
    "# Plot the transposed image with corrected midpoints\n",
    "plt.imshow(transposed_image, cmap='gray')\n",
    "plt.scatter(transposed_midpoints_corrected[:,:, 0] * 64, transposed_midpoints_corrected[:,:, 1] * 64, c='red', marker='o')\n",
    "plt.title('Transposed Image with Corrected Midpoints')\n",
    "plt.show()\n"
   ]
  },
  {
   "cell_type": "code",
   "execution_count": 19,
   "metadata": {},
   "outputs": [
    {
     "data": {
      "text/plain": [
       "<tf.Tensor: shape=(50000, 1, 3, 2), dtype=float32, numpy=\n",
       "array([[[[0.46875   , 0.47058076],\n",
       "         [0.6016305 , 0.609375  ],\n",
       "         [0.23067334, 0.703125  ]]],\n",
       "\n",
       "\n",
       "       [[[0.59375   , 0.2167689 ],\n",
       "         [0.78125   , 0.40625   ],\n",
       "         [0.796875  , 0.7522598 ]]],\n",
       "\n",
       "\n",
       "       [[[0.671875  , 0.19363853],\n",
       "         [0.328125  , 0.359375  ],\n",
       "         [0.765625  , 0.6253409 ]]],\n",
       "\n",
       "\n",
       "       ...,\n",
       "\n",
       "\n",
       "       [[[0.5       , 0.265625  ],\n",
       "         [0.34207755, 0.509535  ],\n",
       "         [0.6271775 , 0.7332962 ]]],\n",
       "\n",
       "\n",
       "       [[[0.7412793 , 0.08286951],\n",
       "         [0.453125  , 0.703125  ],\n",
       "         [0.59375   , 0.819175  ]]],\n",
       "\n",
       "\n",
       "       [[[0.5101178 , 0.203125  ],\n",
       "         [0.84375   , 0.765625  ],\n",
       "         [0.3125    , 0.7846703 ]]]], dtype=float32)>"
      ]
     },
     "execution_count": 19,
     "metadata": {},
     "output_type": "execute_result"
    }
   ],
   "source": [
    "normalized_midpoints "
   ]
  },
  {
   "cell_type": "markdown",
   "metadata": {},
   "source": [
    "Model Architecture"
   ]
  },
  {
   "cell_type": "code",
   "execution_count": 17,
   "metadata": {},
   "outputs": [],
   "source": [
    "from tensorflow.keras import layers\n",
    "\n",
    "\n",
    "input_shape = (64, 64, 1)\n",
    "num_classes = 3\n",
    "num_coordinates = 2\n",
    "\n",
    "\n",
    "x_input = layers.Input(shape=input_shape)\n",
    "#Layer 1\n",
    "x = layers.Conv2D(64, kernel_size=3, padding='same', activation='relu')(x_input)\n",
    "x = layers.MaxPool2D()(x)\n",
    "x = layers.BatchNormalization()(x) \n",
    "x = layers.Conv2D(64, kernel_size=3, padding='same', activation='relu')(x)\n",
    "\n",
    "#Layer 2\n",
    "x = layers.Conv2D(128, kernel_size=3, padding='same', activation='relu')(x)\n",
    "x = layers.Conv2D(128, kernel_size=3, padding='same', activation='relu')(x)\n",
    "x = layers.BatchNormalization()(x) \n",
    "x = layers.Dropout(0.2)(x)\n",
    "#Layer 3\n",
    "x = layers.Conv2D(256, kernel_size=3, padding='same', activation='relu')(x)\n",
    "x = layers.Conv2D(256, kernel_size=3, padding='same', activation='relu')(x)\n",
    "x = layers.BatchNormalization()(x) \n",
    "x = layers.Dropout(0.2)(x)\n",
    "#Layer 4\n",
    "x = layers.Conv2D(512, kernel_size=3, padding='same', activation='relu')(x)\n",
    "x = layers.MaxPool2D()(x)\n",
    "x = layers.BatchNormalization()(x)\n",
    "x = layers.Dropout(0.3)(x)\n",
    "x = layers.Conv2D(512, kernel_size=3, padding='same', activation='relu')(x)\n",
    "x = layers.MaxPool2D()(x)\n",
    "x = layers.BatchNormalization()(x)\n",
    "x = layers.Conv2D(512, kernel_size=3, padding='same', activation='relu')(x)\n",
    "x = layers.MaxPool2D()(x)\n",
    "x = layers.BatchNormalization()(x)\n",
    "x = layers.Dropout(0.3)(x)\n",
    "#Layer 5\n",
    "x = layers.Conv2D(256, kernel_size=5, padding='same', activation='relu')(x)\n",
    "x = layers.MaxPool2D()(x)\n",
    "x = layers.BatchNormalization()(x) \n",
    "x = layers.Dropout(0.3)(x)\n",
    "\n",
    "x = layers.Flatten()(x)\n",
    "\n",
    "\n",
    "# Bounding box output\n",
    "x_midpoints = layers.Dense(num_classes * num_coordinates, activation='sigmoid', name='x_midpoints')(x)\n",
    "x_midpoints_reshape = layers.Reshape((-1, num_classes, num_coordinates), name='x_midpoints_reshape')(x_midpoints)\n",
    "\n",
    "\n",
    "\n",
    "\n",
    "model = tf.keras.models.Model(x_input, x_midpoints_reshape)\n",
    "optimizer = tf.keras.optimizers.Adam(learning_rate=1e-3) \n",
    "\n"
   ]
  },
  {
   "cell_type": "markdown",
   "metadata": {},
   "source": [
    "Example to show model and loss function works"
   ]
  },
  {
   "cell_type": "code",
   "execution_count": 18,
   "metadata": {},
   "outputs": [
    {
     "name": "stderr",
     "output_type": "stream",
     "text": [
      "2024-08-25 15:02:14.487788: I tensorflow/compiler/xla/stream_executor/cuda/cuda_dnn.cc:442] Loaded cuDNN version 8907\n"
     ]
    },
    {
     "name": "stdout",
     "output_type": "stream",
     "text": [
      "1250/1250 [==============================] - 11s 8ms/step\n",
      "313/313 [==============================] - 3s 8ms/step\n"
     ]
    }
   ],
   "source": [
    "train_outputs = model.predict(train_images)\n",
    "val_outputs = model.predict(val_images)"
   ]
  },
  {
   "cell_type": "markdown",
   "metadata": {},
   "source": [
    "Loss Function"
   ]
  },
  {
   "cell_type": "code",
   "execution_count": 20,
   "metadata": {},
   "outputs": [],
   "source": [
    "import tensorflow as tf\n",
    "\n",
    "class DynamicExponentCallback(tf.keras.callbacks.Callback):\n",
    "    def __init__(self, initial_exponent=3, increment=0.5, update_frequency=10):\n",
    "        super().__init__()\n",
    "        self.exponent = initial_exponent\n",
    "        self.increment = increment\n",
    "        self.update_frequency = update_frequency\n",
    "\n",
    "    def on_epoch_end(self, epoch, logs=None):\n",
    "        if (epoch + 1) % self.update_frequency == 0:\n",
    "            self.exponent += self.increment\n",
    "            print(f\"\\nEpoch {epoch + 1}: Increasing exponent to {self.exponent}\")\n",
    "            self.model.loss = self.custom_loss(self.exponent)\n",
    "\n",
    "    def custom_loss(self, exponent):\n",
    "        def loss(y_true, y_pred):\n",
    "            diff = tf.abs(y_true - y_pred)\n",
    "            powered_diff = tf.pow(diff, exponent)\n",
    "            return tf.reduce_mean(powered_diff)\n",
    "        return loss\n"
   ]
  },
  {
   "cell_type": "code",
   "execution_count": 21,
   "metadata": {},
   "outputs": [
    {
     "data": {
      "text/plain": [
       "(<tf.Tensor: shape=(), dtype=float32, numpy=0.011660902>,\n",
       " <tf.Tensor: shape=(), dtype=float32, numpy=0.011723156>)"
      ]
     },
     "execution_count": 21,
     "metadata": {},
     "output_type": "execute_result"
    }
   ],
   "source": [
    "dynamic_exponent_callback = DynamicExponentCallback(initial_exponent=3, increment=1, update_frequency=10)\n",
    "loss=dynamic_exponent_callback.custom_loss(3)\n",
    "tl =loss(train_outputs,train_midpoints)\n",
    "vl = loss(val_outputs,val_midpoints)\n",
    "\n",
    "tl,vl"
   ]
  },
  {
   "cell_type": "code",
   "execution_count": 22,
   "metadata": {},
   "outputs": [],
   "source": [
    "from tensorflow.keras import layers, callbacks\n",
    "# Custom callback to save the model every 10 epochs\n",
    "class CustomModelCheckpoint(callbacks.Callback):\n",
    "    def __init__(self, save_freq, save_path):\n",
    "        super(CustomModelCheckpoint, self).__init__()\n",
    "        self.save_freq = save_freq\n",
    "        self.save_path = save_path\n",
    "\n",
    "    def on_epoch_end(self, epoch, logs=None):\n",
    "        if (epoch + 1) % self.save_freq == 0:\n",
    "            self.model.save(self.save_path.format(epoch=epoch + 1))\n",
    "            print(f\"Model saved at epoch {epoch + 1}\")\n",
    "\n",
    "save_freq = 200  # Save every 10 epochs\n",
    "save_path = \"/home/da886/ElectronCountingProject/weights for custom loss/customlossmodel_epoch_{epoch:02d}.h5\"\n",
    "checkpoint_callback = CustomModelCheckpoint(save_freq=save_freq, save_path=save_path)\n",
    "\n",
    "# Define the ReduceLROnPlateau callback\n",
    "lr_scheduler = tf.keras.callbacks.ReduceLROnPlateau(\n",
    "    monitor='val_loss',       # Monitor the validation loss\n",
    "    factor=0.5,               # Factor by which the learning rate will be reduced\n",
    "    patience=5,               # Number of epochs with no improvement after which learning rate will be reduced\n",
    "    verbose=1,                # Verbosity mode, 1: output logs\n",
    "    mode='min',               # Min mode, as we want to reduce the LR when the monitored quantity stops decreasing\n",
    "    min_lr=5e-14               # Lower bound on the learning rate\n",
    ")"
   ]
  },
  {
   "cell_type": "code",
   "execution_count": 23,
   "metadata": {},
   "outputs": [],
   "source": [
    "# Define and compile your model initially with the initial exponent\n",
    "\n",
    "dynamic_exponent_callback = DynamicExponentCallback(initial_exponent=3, increment=1, update_frequency=10)\n",
    "model.compile(optimizer=optimizer, loss=dynamic_exponent_callback.custom_loss(3))\n",
    "\n",
    "\n"
   ]
  },
  {
   "cell_type": "code",
   "execution_count": 24,
   "metadata": {},
   "outputs": [
    {
     "name": "stdout",
     "output_type": "stream",
     "text": [
      "Epoch 1/60\n"
     ]
    },
    {
     "name": "stderr",
     "output_type": "stream",
     "text": [
      "2024-08-25 15:04:14.259515: E tensorflow/core/grappler/optimizers/meta_optimizer.cc:961] layout failed: INVALID_ARGUMENT: Size of values 0 does not match size of permutation 4 @ fanin shape inmodel/dropout/dropout/SelectV2-2-TransposeNHWCToNCHW-LayoutOptimizer\n",
      "2024-08-25 15:04:17.301449: I tensorflow/compiler/xla/service/service.cc:168] XLA service 0x7d8b581771e0 initialized for platform CUDA (this does not guarantee that XLA will be used). Devices:\n",
      "2024-08-25 15:04:17.301474: I tensorflow/compiler/xla/service/service.cc:176]   StreamExecutor device (0): NVIDIA GeForce RTX 3090, Compute Capability 8.6\n",
      "2024-08-25 15:04:17.305411: I tensorflow/compiler/mlir/tensorflow/utils/dump_mlir_util.cc:269] disabling MLIR crash reproducer, set env var `MLIR_CRASH_REPRODUCER_DIRECTORY` to enable.\n",
      "2024-08-25 15:04:17.431644: I ./tensorflow/compiler/jit/device_compiler.h:186] Compiled cluster using XLA!  This line is logged at most once for the lifetime of the process.\n"
     ]
    },
    {
     "name": "stdout",
     "output_type": "stream",
     "text": [
      "  6/134 [>.............................] - ETA: 30s - loss: 0.0539WARNING:tensorflow:Callback method `on_train_batch_end` is slow compared to the batch time (batch time: 0.0853s vs `on_train_batch_end` time: 0.1241s). Check your callbacks.\n",
      "134/134 [==============================] - 50s 279ms/step - loss: 0.0076 - val_loss: 0.0222 - lr: 0.0010\n",
      "Epoch 2/60\n",
      "134/134 [==============================] - 36s 270ms/step - loss: 0.0031 - val_loss: 0.0055 - lr: 0.0010\n",
      "Epoch 3/60\n",
      "134/134 [==============================] - 35s 264ms/step - loss: 0.0028 - val_loss: 0.0218 - lr: 0.0010\n",
      "Epoch 4/60\n",
      "134/134 [==============================] - 34s 252ms/step - loss: 0.0024 - val_loss: 0.0098 - lr: 0.0010\n",
      "Epoch 5/60\n",
      "134/134 [==============================] - 34s 255ms/step - loss: 0.0019 - val_loss: 0.0099 - lr: 0.0010\n",
      "Epoch 6/60\n",
      "134/134 [==============================] - 35s 260ms/step - loss: 0.0029 - val_loss: 0.0044 - lr: 0.0010\n",
      "Epoch 7/60\n",
      "134/134 [==============================] - 34s 256ms/step - loss: 0.0028 - val_loss: 0.0060 - lr: 0.0010\n",
      "Epoch 8/60\n",
      "134/134 [==============================] - 34s 254ms/step - loss: 0.0025 - val_loss: 0.0057 - lr: 0.0010\n",
      "Epoch 9/60\n",
      "134/134 [==============================] - 34s 252ms/step - loss: 0.0022 - val_loss: 0.0024 - lr: 0.0010\n",
      "Epoch 10/60\n",
      "134/134 [==============================] - ETA: 0s - loss: 0.0020\n",
      "Epoch 10: Increasing exponent to 4\n",
      "134/134 [==============================] - 33s 249ms/step - loss: 0.0020 - val_loss: 0.0123 - lr: 0.0010\n",
      "Epoch 11/60\n",
      "134/134 [==============================] - 34s 253ms/step - loss: 0.0019 - val_loss: 0.0013 - lr: 0.0010\n",
      "Epoch 12/60\n",
      "134/134 [==============================] - 34s 251ms/step - loss: 0.0018 - val_loss: 0.0012 - lr: 0.0010\n",
      "Epoch 13/60\n",
      "134/134 [==============================] - 33s 250ms/step - loss: 0.0017 - val_loss: 0.0020 - lr: 0.0010\n",
      "Epoch 14/60\n",
      "134/134 [==============================] - 33s 249ms/step - loss: 0.0017 - val_loss: 0.0022 - lr: 0.0010\n",
      "Epoch 15/60\n",
      "134/134 [==============================] - 33s 249ms/step - loss: 0.0029 - val_loss: 0.0235 - lr: 0.0010\n",
      "Epoch 16/60\n",
      "134/134 [==============================] - ETA: 0s - loss: 0.0022\n",
      "Epoch 16: ReduceLROnPlateau reducing learning rate to 0.0005000000237487257.\n",
      "134/134 [==============================] - 34s 254ms/step - loss: 0.0022 - val_loss: 0.0027 - lr: 0.0010\n",
      "Epoch 17/60\n",
      "134/134 [==============================] - 34s 251ms/step - loss: 0.0019 - val_loss: 0.0013 - lr: 5.0000e-04\n",
      "Epoch 18/60\n",
      "134/134 [==============================] - 33s 246ms/step - loss: 0.0018 - val_loss: 0.0016 - lr: 5.0000e-04\n",
      "Epoch 19/60\n",
      "134/134 [==============================] - 34s 251ms/step - loss: 0.0017 - val_loss: 0.0015 - lr: 5.0000e-04\n",
      "Epoch 20/60\n",
      "134/134 [==============================] - ETA: 0s - loss: 0.0017\n",
      "Epoch 20: Increasing exponent to 5\n",
      "134/134 [==============================] - 34s 252ms/step - loss: 0.0017 - val_loss: 0.0022 - lr: 5.0000e-04\n",
      "Epoch 21/60\n",
      "134/134 [==============================] - ETA: 0s - loss: 0.0016\n",
      "Epoch 21: ReduceLROnPlateau reducing learning rate to 0.0002500000118743628.\n",
      "134/134 [==============================] - 33s 248ms/step - loss: 0.0016 - val_loss: 0.0012 - lr: 5.0000e-04\n",
      "Epoch 22/60\n",
      "134/134 [==============================] - 34s 252ms/step - loss: 0.0015 - val_loss: 0.0020 - lr: 2.5000e-04\n",
      "Epoch 23/60\n",
      "134/134 [==============================] - 34s 251ms/step - loss: 0.0015 - val_loss: 0.0013 - lr: 2.5000e-04\n",
      "Epoch 24/60\n",
      "134/134 [==============================] - 34s 254ms/step - loss: 0.0014 - val_loss: 0.0013 - lr: 2.5000e-04\n",
      "Epoch 25/60\n",
      "134/134 [==============================] - 33s 249ms/step - loss: 0.0014 - val_loss: 0.0010 - lr: 2.5000e-04\n",
      "Epoch 26/60\n",
      "134/134 [==============================] - 33s 248ms/step - loss: 0.0013 - val_loss: 0.0011 - lr: 2.5000e-04\n",
      "Epoch 27/60\n",
      "134/134 [==============================] - 34s 253ms/step - loss: 0.0012 - val_loss: 0.0011 - lr: 2.5000e-04\n",
      "Epoch 28/60\n",
      "134/134 [==============================] - 33s 247ms/step - loss: 9.6024e-04 - val_loss: 9.5940e-04 - lr: 2.5000e-04\n",
      "Epoch 29/60\n",
      "134/134 [==============================] - 34s 250ms/step - loss: 9.1077e-04 - val_loss: 9.4593e-04 - lr: 2.5000e-04\n",
      "Epoch 30/60\n",
      "134/134 [==============================] - ETA: 0s - loss: 9.0680e-04\n",
      "Epoch 30: Increasing exponent to 6\n",
      "134/134 [==============================] - 33s 250ms/step - loss: 9.0680e-04 - val_loss: 9.5882e-04 - lr: 2.5000e-04\n",
      "Epoch 31/60\n",
      "134/134 [==============================] - 34s 251ms/step - loss: 8.9413e-04 - val_loss: 9.5098e-04 - lr: 2.5000e-04\n",
      "Epoch 32/60\n",
      "134/134 [==============================] - 34s 252ms/step - loss: 8.7846e-04 - val_loss: 9.3283e-04 - lr: 2.5000e-04\n",
      "Epoch 33/60\n",
      "134/134 [==============================] - 34s 251ms/step - loss: 8.6870e-04 - val_loss: 9.3743e-04 - lr: 2.5000e-04\n",
      "Epoch 34/60\n",
      "134/134 [==============================] - ETA: 0s - loss: 8.5448e-04\n",
      "Epoch 34: ReduceLROnPlateau reducing learning rate to 0.0001250000059371814.\n",
      "134/134 [==============================] - 34s 253ms/step - loss: 8.5448e-04 - val_loss: 9.3233e-04 - lr: 2.5000e-04\n",
      "Epoch 35/60\n",
      "134/134 [==============================] - 33s 250ms/step - loss: 8.1748e-04 - val_loss: 9.0455e-04 - lr: 1.2500e-04\n",
      "Epoch 36/60\n",
      "134/134 [==============================] - 34s 253ms/step - loss: 8.1152e-04 - val_loss: 9.0224e-04 - lr: 1.2500e-04\n",
      "Epoch 37/60\n",
      "134/134 [==============================] - 34s 253ms/step - loss: 8.0454e-04 - val_loss: 9.0846e-04 - lr: 1.2500e-04\n",
      "Epoch 38/60\n",
      "134/134 [==============================] - 34s 253ms/step - loss: 8.0205e-04 - val_loss: 9.1509e-04 - lr: 1.2500e-04\n",
      "Epoch 39/60\n",
      "134/134 [==============================] - ETA: 0s - loss: 7.9467e-04\n",
      "Epoch 39: ReduceLROnPlateau reducing learning rate to 6.25000029685907e-05.\n",
      "134/134 [==============================] - 34s 253ms/step - loss: 7.9467e-04 - val_loss: 9.1307e-04 - lr: 1.2500e-04\n",
      "Epoch 40/60\n",
      "134/134 [==============================] - ETA: 0s - loss: 7.8266e-04\n",
      "Epoch 40: Increasing exponent to 7\n",
      "134/134 [==============================] - 34s 252ms/step - loss: 7.8266e-04 - val_loss: 9.0832e-04 - lr: 6.2500e-05\n",
      "Epoch 41/60\n",
      "134/134 [==============================] - 33s 250ms/step - loss: 7.6957e-04 - val_loss: 9.0215e-04 - lr: 6.2500e-05\n",
      "Epoch 42/60\n",
      "134/134 [==============================] - 33s 249ms/step - loss: 7.7009e-04 - val_loss: 9.0141e-04 - lr: 6.2500e-05\n",
      "Epoch 43/60\n",
      "134/134 [==============================] - 34s 250ms/step - loss: 7.6311e-04 - val_loss: 9.0351e-04 - lr: 6.2500e-05\n",
      "Epoch 44/60\n",
      "134/134 [==============================] - ETA: 0s - loss: 7.6140e-04\n",
      "Epoch 44: ReduceLROnPlateau reducing learning rate to 3.125000148429535e-05.\n",
      "134/134 [==============================] - 33s 246ms/step - loss: 7.6140e-04 - val_loss: 9.0402e-04 - lr: 6.2500e-05\n",
      "Epoch 45/60\n",
      "134/134 [==============================] - 30s 223ms/step - loss: 7.5003e-04 - val_loss: 8.9928e-04 - lr: 3.1250e-05\n",
      "Epoch 46/60\n",
      "134/134 [==============================] - 30s 223ms/step - loss: 7.4780e-04 - val_loss: 8.9945e-04 - lr: 3.1250e-05\n",
      "Epoch 47/60\n",
      "134/134 [==============================] - 30s 223ms/step - loss: 7.4381e-04 - val_loss: 8.9729e-04 - lr: 3.1250e-05\n",
      "Epoch 48/60\n",
      "134/134 [==============================] - 30s 223ms/step - loss: 7.3759e-04 - val_loss: 8.9907e-04 - lr: 3.1250e-05\n",
      "Epoch 49/60\n",
      "134/134 [==============================] - ETA: 0s - loss: 7.3843e-04\n",
      "Epoch 49: ReduceLROnPlateau reducing learning rate to 1.5625000742147677e-05.\n",
      "134/134 [==============================] - 30s 223ms/step - loss: 7.3843e-04 - val_loss: 8.9948e-04 - lr: 3.1250e-05\n",
      "Epoch 50/60\n",
      "134/134 [==============================] - ETA: 0s - loss: 7.3458e-04\n",
      "Epoch 50: Increasing exponent to 8\n",
      "134/134 [==============================] - 30s 223ms/step - loss: 7.3458e-04 - val_loss: 8.9787e-04 - lr: 1.5625e-05\n",
      "Epoch 51/60\n",
      "134/134 [==============================] - 30s 223ms/step - loss: 7.4253e-04 - val_loss: 8.9521e-04 - lr: 1.5625e-05\n",
      "Epoch 52/60\n",
      "134/134 [==============================] - 30s 223ms/step - loss: 7.2629e-04 - val_loss: 8.9893e-04 - lr: 1.5625e-05\n",
      "Epoch 53/60\n",
      "134/134 [==============================] - 30s 223ms/step - loss: 7.2936e-04 - val_loss: 8.9717e-04 - lr: 1.5625e-05\n",
      "Epoch 54/60\n",
      "134/134 [==============================] - ETA: 0s - loss: 7.2508e-04\n",
      "Epoch 54: ReduceLROnPlateau reducing learning rate to 7.812500371073838e-06.\n",
      "134/134 [==============================] - 30s 223ms/step - loss: 7.2508e-04 - val_loss: 8.9769e-04 - lr: 1.5625e-05\n",
      "Epoch 55/60\n",
      "134/134 [==============================] - 30s 223ms/step - loss: 7.2607e-04 - val_loss: 8.9891e-04 - lr: 7.8125e-06\n",
      "Epoch 56/60\n",
      "134/134 [==============================] - 30s 223ms/step - loss: 7.2479e-04 - val_loss: 8.9989e-04 - lr: 7.8125e-06\n",
      "Epoch 57/60\n",
      "134/134 [==============================] - 30s 223ms/step - loss: 7.2233e-04 - val_loss: 9.0060e-04 - lr: 7.8125e-06\n",
      "Epoch 58/60\n",
      "134/134 [==============================] - 31s 232ms/step - loss: 7.1910e-04 - val_loss: 9.0054e-04 - lr: 7.8125e-06\n",
      "Epoch 59/60\n",
      "134/134 [==============================] - ETA: 0s - loss: 7.1945e-04\n",
      "Epoch 59: ReduceLROnPlateau reducing learning rate to 3.906250185536919e-06.\n",
      "134/134 [==============================] - 33s 249ms/step - loss: 7.1945e-04 - val_loss: 9.0003e-04 - lr: 7.8125e-06\n",
      "Epoch 60/60\n",
      "134/134 [==============================] - ETA: 0s - loss: 7.1763e-04\n",
      "Epoch 60: Increasing exponent to 9\n",
      "134/134 [==============================] - 34s 253ms/step - loss: 7.1763e-04 - val_loss: 9.0067e-04 - lr: 3.9063e-06\n"
     ]
    }
   ],
   "source": [
    "# history = model.fit(train_dataset, epochs=1700, validation_data=val_dataset,callbacks=[checkpoint_callback,lr_scheduler])\n",
    "history = model.fit(train_dataset, epochs=60, validation_data=val_dataset,callbacks=[dynamic_exponent_callback,lr_scheduler])\n",
    "# history = model_custom.fit(train_dataset, epochs=150, validation_data=val_dataset)"
   ]
  },
  {
   "cell_type": "code",
   "execution_count": 25,
   "metadata": {},
   "outputs": [
    {
     "name": "stdout",
     "output_type": "stream",
     "text": [
      "dict_keys(['loss', 'val_loss', 'lr'])\n"
     ]
    },
    {
     "data": {
      "image/png": "[encoded data removed]",
      "text/plain": [
       "<Figure size 1200x600 with 1 Axes>"
      ]
     },
     "metadata": {},
     "output_type": "display_data"
    }
   ],
   "source": [
    "\n",
    "\n",
    "# Print the available keys in the history\n",
    "print(history.history.keys())\n",
    "\n",
    "# Extract the losses from the history object\n",
    "train_loss = history.history['loss']\n",
    "val_loss = history.history['val_loss']\n",
    "\n",
    "# If there are specific losses for x_prob and x_midpoints, extract them\n",
    "train_loss_x_prob = history.history.get('x_prob_reshape_loss', train_loss)\n",
    "val_loss_x_prob = history.history.get('val_x_prob_reshape_loss', val_loss)\n",
    "train_loss_x_midpoints = history.history.get('x_midpoints_reshape_loss', train_loss)\n",
    "val_loss_x_midpoints = history.history.get('val_x_midpoints_reshape_loss', val_loss)\n",
    "\n",
    "\n",
    "# Plot the training and validation losses\n",
    "plt.figure(figsize=(12, 6))\n",
    "\n",
    "# Plotting x_prob_reshape loss\n",
    "plt.subplot(1, 2,1)\n",
    "plt.plot(train_loss_x_prob, label='Train Loss ')\n",
    "plt.plot(val_loss_x_prob, label='Validation Loss ')\n",
    "plt.xlabel('Epochs')\n",
    "plt.yscale('log')\n",
    "\n",
    "plt.ylabel('Loss')\n",
    "plt.title('Training and Validation Loss ')\n",
    "plt.legend()\n",
    "\n",
    "# # Plotting x_midpoints_reshape loss\n",
    "# plt.subplot(1, 2, 2)\n",
    "# plt.plot(train_loss_x_midpoints, label='Train Loss x_midpoints_reshape')\n",
    "# plt.plot(val_loss_x_midpoints, label='Validation Loss x_midpoints_reshape')\n",
    "# plt.xlabel('Epochs')\n",
    "# plt.ylabel('Loss')\n",
    "# plt.title('Training and Validation Loss for x_midpoints_reshape')\n",
    "# plt.legend()\n",
    "\n",
    "plt.tight_layout()\n",
    "plt.show()\n"
   ]
  },
  {
   "cell_type": "code",
   "execution_count": 18,
   "metadata": {},
   "outputs": [
    {
     "ename": "TypeError",
     "evalue": "Error when deserializing class 'InputLayer' using config={'batch_shape': [None, 64, 64, 1], 'dtype': 'float32', 'sparse': False, 'name': 'input_layer'}.\n\nException encountered: Unrecognized keyword arguments: ['batch_shape']",
     "output_type": "error",
     "traceback": [
      "\u001b[0;31m---------------------------------------------------------------------------\u001b[0m",
      "\u001b[0;31mTypeError\u001b[0m                                 Traceback (most recent call last)",
      "Cell \u001b[0;32mIn[18], line 2\u001b[0m\n\u001b[1;32m      1\u001b[0m \u001b[38;5;66;03m# u =tf.keras.models.load_model(\"/home/da886/ElectronCountingProject/weekend steps custom loss weights/customlossmodel.keras\",safe_mode=False) \u001b[39;00m\n\u001b[0;32m----> 2\u001b[0m u \u001b[38;5;241m=\u001b[39m\u001b[43mtf\u001b[49m\u001b[38;5;241;43m.\u001b[39;49m\u001b[43mkeras\u001b[49m\u001b[38;5;241;43m.\u001b[39;49m\u001b[43mmodels\u001b[49m\u001b[38;5;241;43m.\u001b[39;49m\u001b[43mload_model\u001b[49m\u001b[43m(\u001b[49m\u001b[38;5;124;43m\"\u001b[39;49m\u001b[38;5;124;43m/home/m3-learning/Documents/customlossmodel08_21.h5\u001b[39;49m\u001b[38;5;124;43m\"\u001b[39;49m\u001b[43m,\u001b[49m\u001b[43msafe_mode\u001b[49m\u001b[38;5;241;43m=\u001b[39;49m\u001b[38;5;28;43;01mFalse\u001b[39;49;00m\u001b[43m)\u001b[49m\n",
      "File \u001b[0;32m~/anaconda3/envs/electrondetection/lib/python3.11/site-packages/keras/src/saving/saving_api.py:262\u001b[0m, in \u001b[0;36mload_model\u001b[0;34m(filepath, custom_objects, compile, safe_mode, **kwargs)\u001b[0m\n\u001b[1;32m    254\u001b[0m     \u001b[38;5;28;01mreturn\u001b[39;00m saving_lib\u001b[38;5;241m.\u001b[39mload_model(\n\u001b[1;32m    255\u001b[0m         filepath,\n\u001b[1;32m    256\u001b[0m         custom_objects\u001b[38;5;241m=\u001b[39mcustom_objects,\n\u001b[1;32m    257\u001b[0m         \u001b[38;5;28mcompile\u001b[39m\u001b[38;5;241m=\u001b[39m\u001b[38;5;28mcompile\u001b[39m,\n\u001b[1;32m    258\u001b[0m         safe_mode\u001b[38;5;241m=\u001b[39msafe_mode,\n\u001b[1;32m    259\u001b[0m     )\n\u001b[1;32m    261\u001b[0m \u001b[38;5;66;03m# Legacy case.\u001b[39;00m\n\u001b[0;32m--> 262\u001b[0m \u001b[38;5;28;01mreturn\u001b[39;00m \u001b[43mlegacy_sm_saving_lib\u001b[49m\u001b[38;5;241;43m.\u001b[39;49m\u001b[43mload_model\u001b[49m\u001b[43m(\u001b[49m\n\u001b[1;32m    263\u001b[0m \u001b[43m    \u001b[49m\u001b[43mfilepath\u001b[49m\u001b[43m,\u001b[49m\u001b[43m \u001b[49m\u001b[43mcustom_objects\u001b[49m\u001b[38;5;241;43m=\u001b[39;49m\u001b[43mcustom_objects\u001b[49m\u001b[43m,\u001b[49m\u001b[43m \u001b[49m\u001b[38;5;28;43mcompile\u001b[39;49m\u001b[38;5;241;43m=\u001b[39;49m\u001b[38;5;28;43mcompile\u001b[39;49m\u001b[43m,\u001b[49m\u001b[43m \u001b[49m\u001b[38;5;241;43m*\u001b[39;49m\u001b[38;5;241;43m*\u001b[39;49m\u001b[43mkwargs\u001b[49m\n\u001b[1;32m    264\u001b[0m \u001b[43m\u001b[49m\u001b[43m)\u001b[49m\n",
      "File \u001b[0;32m~/anaconda3/envs/electrondetection/lib/python3.11/site-packages/keras/src/utils/traceback_utils.py:70\u001b[0m, in \u001b[0;36mfilter_traceback.<locals>.error_handler\u001b[0;34m(*args, **kwargs)\u001b[0m\n\u001b[1;32m     67\u001b[0m     filtered_tb \u001b[38;5;241m=\u001b[39m _process_traceback_frames(e\u001b[38;5;241m.\u001b[39m__traceback__)\n\u001b[1;32m     68\u001b[0m     \u001b[38;5;66;03m# To get the full stack trace, call:\u001b[39;00m\n\u001b[1;32m     69\u001b[0m     \u001b[38;5;66;03m# `tf.debugging.disable_traceback_filtering()`\u001b[39;00m\n\u001b[0;32m---> 70\u001b[0m     \u001b[38;5;28;01mraise\u001b[39;00m e\u001b[38;5;241m.\u001b[39mwith_traceback(filtered_tb) \u001b[38;5;28;01mfrom\u001b[39;00m \u001b[38;5;28;01mNone\u001b[39;00m\n\u001b[1;32m     71\u001b[0m \u001b[38;5;28;01mfinally\u001b[39;00m:\n\u001b[1;32m     72\u001b[0m     \u001b[38;5;28;01mdel\u001b[39;00m filtered_tb\n",
      "File \u001b[0;32m~/anaconda3/envs/electrondetection/lib/python3.11/site-packages/keras/src/engine/base_layer.py:870\u001b[0m, in \u001b[0;36mLayer.from_config\u001b[0;34m(cls, config)\u001b[0m\n\u001b[1;32m    868\u001b[0m     \u001b[38;5;28;01mreturn\u001b[39;00m \u001b[38;5;28mcls\u001b[39m(\u001b[38;5;241m*\u001b[39m\u001b[38;5;241m*\u001b[39mconfig)\n\u001b[1;32m    869\u001b[0m \u001b[38;5;28;01mexcept\u001b[39;00m \u001b[38;5;167;01mException\u001b[39;00m \u001b[38;5;28;01mas\u001b[39;00m e:\n\u001b[0;32m--> 870\u001b[0m     \u001b[38;5;28;01mraise\u001b[39;00m \u001b[38;5;167;01mTypeError\u001b[39;00m(\n\u001b[1;32m    871\u001b[0m         \u001b[38;5;124mf\u001b[39m\u001b[38;5;124m\"\u001b[39m\u001b[38;5;124mError when deserializing class \u001b[39m\u001b[38;5;124m'\u001b[39m\u001b[38;5;132;01m{\u001b[39;00m\u001b[38;5;28mcls\u001b[39m\u001b[38;5;241m.\u001b[39m\u001b[38;5;18m__name__\u001b[39m\u001b[38;5;132;01m}\u001b[39;00m\u001b[38;5;124m'\u001b[39m\u001b[38;5;124m using \u001b[39m\u001b[38;5;124m\"\u001b[39m\n\u001b[1;32m    872\u001b[0m         \u001b[38;5;124mf\u001b[39m\u001b[38;5;124m\"\u001b[39m\u001b[38;5;124mconfig=\u001b[39m\u001b[38;5;132;01m{\u001b[39;00mconfig\u001b[38;5;132;01m}\u001b[39;00m\u001b[38;5;124m.\u001b[39m\u001b[38;5;130;01m\\n\u001b[39;00m\u001b[38;5;130;01m\\n\u001b[39;00m\u001b[38;5;124mException encountered: \u001b[39m\u001b[38;5;132;01m{\u001b[39;00me\u001b[38;5;132;01m}\u001b[39;00m\u001b[38;5;124m\"\u001b[39m\n\u001b[1;32m    873\u001b[0m     )\n",
      "\u001b[0;31mTypeError\u001b[0m: Error when deserializing class 'InputLayer' using config={'batch_shape': [None, 64, 64, 1], 'dtype': 'float32', 'sparse': False, 'name': 'input_layer'}.\n\nException encountered: Unrecognized keyword arguments: ['batch_shape']"
     ]
    }
   ],
   "source": [
    "# u =tf.keras.models.load_model(\"/home/da886/ElectronCountingProject/weekend steps custom loss weights/customlossmodel.keras\",safe_mode=False) \n",
    "u =tf.keras.models.load_model(\"/home/m3-learning/Documents/customlossmodel08_21.h5\",safe_mode=False)"
   ]
  },
  {
   "cell_type": "code",
   "execution_count": 44,
   "metadata": {},
   "outputs": [
    {
     "name": "stdout",
     "output_type": "stream",
     "text": [
      "13/13 [==============================] - 0s 8ms/step\n"
     ]
    }
   ],
   "source": [
    "# train_dataset = tf.data.Dataset.from_tensor_slices((train_images, train_midpoints))\n",
    "\n",
    "# train_dataset = train_dataset.batch(200)\n",
    "# inputs,targets = next(iter(train_dataset))\n",
    "# output =model.predict(inputs)\n",
    "\n",
    "val_dataset = tf.data.Dataset.from_tensor_slices((val_images, val_midpoints))\n",
    "val_dataset = val_dataset.batch(400)\n",
    "inputs,targets = next(iter(val_dataset))\n",
    "output =model.predict(inputs)"
   ]
  },
  {
   "cell_type": "code",
   "execution_count": 45,
   "metadata": {},
   "outputs": [
    {
     "data": {
      "text/plain": [
       "(array([[[23.29635 , 19.878954],\n",
       "         [36.084274, 36.940163],\n",
       "         [43.83473 , 51.67819 ]]], dtype=float32),\n",
       " <tf.Tensor: shape=(1, 3, 2), dtype=float32, numpy=\n",
       " array([[[23.004726, 19.      ],\n",
       "         [37.      , 38.      ],\n",
       "         [43.907726, 53.      ]]], dtype=float32)>)"
      ]
     },
     "execution_count": 45,
     "metadata": {},
     "output_type": "execute_result"
    }
   ],
   "source": [
    "h = np.random.randint(0,len(output))\n",
    "output[h]*64,targets[h]*64"
   ]
  },
  {
   "cell_type": "code",
   "execution_count": 46,
   "metadata": {},
   "outputs": [
    {
     "name": "stdout",
     "output_type": "stream",
     "text": [
      "MSE Loss: 3.7928787e-06\n"
     ]
    }
   ],
   "source": [
    "import tensorflow as tf\n",
    "def custom_loss(y_true, y_pred, exponent=8):\n",
    "    diff = tf.abs(y_true - y_pred)\n",
    "    powered_diff = tf.pow(diff, exponent)\n",
    "    return tf.reduce_mean(powered_diff)\n",
    "\n",
    "# # r = np.random.randint(0,100)\n",
    "# tensor1 = tf.constant(targets, dtype=tf.float64)\n",
    "\n",
    "# tensor2 = tf.constant(output, dtype=tf.float32)\n",
    "\n",
    "\n",
    "# tensor2 = tf.cast(tensor2, tf.float64)\n",
    "\n",
    "\n",
    "# mse_loss_fn = custom_mse(tensor1, tensor2)\n",
    "# mse_loss = mse_loss_fn(tensor1, tensor2)\n",
    "mse_loss_fn = custom_loss(targets, output, exponent=8)\n",
    "\n",
    "print(\"MSE Loss:\", mse_loss_fn.numpy())"
   ]
  },
  {
   "cell_type": "code",
   "execution_count": 67,
   "metadata": {},
   "outputs": [
    {
     "data": {
      "image/png": "[encoded data removed]",
      "text/plain": [
       "<Figure size 400x400 with 1 Axes>"
      ]
     },
     "metadata": {},
     "output_type": "display_data"
    },
    {
     "data": {
      "image/png": "[encoded data removed]",
      "text/plain": [
       "<Figure size 400x400 with 1 Axes>"
      ]
     },
     "metadata": {},
     "output_type": "display_data"
    }
   ],
   "source": [
    "import numpy as np\n",
    "import matplotlib.pyplot as plt\n",
    "\n",
    "def visualize_midpoints(image, midpoints):\n",
    "    \"\"\"\n",
    "    Visualizes midpoints on an image without using a probability vector.\n",
    "\n",
    "    Parameters:\n",
    "    - image: A 3D tensor representing the image.\n",
    "    - midpoints: A 2D tensor representing the midpoint coordinates (x, y).\n",
    "\n",
    "    Returns:\n",
    "    None (displays the image with midpoints).\n",
    "    \"\"\"\n",
    "    # Convert to NumPy arrays for easier handling\n",
    "    image_np = image\n",
    "    midpoints_np = midpoints\n",
    "\n",
    "    # Denormalize image if necessary (adjust based on your normalization method)\n",
    "    denormalized_image = image_np  # Modify if normalization was applied during training\n",
    "\n",
    "    # Visualize the image\n",
    "    plt.figure(figsize=(4, 4))\n",
    "    plt.imshow(denormalized_image, cmap='gray')\n",
    "    plt.title(\"Predicted Midpoint Visualization\")\n",
    "\n",
    "    # Plot midpoints directly\n",
    "    for i, (x, y) in enumerate(midpoints_np):\n",
    "        plt.scatter(x, y, color='red', s=5)\n",
    "\n",
    "    plt.show()\n",
    "\n",
    "def visualize_midpoints2(image, midpoints):\n",
    "    \"\"\"\n",
    "    Visualizes ground truth midpoints on an image without using a probability vector.\n",
    "\n",
    "    Parameters:\n",
    "    - image: A 3D tensor representing the image.\n",
    "    - midpoints: A 2D tensor representing the midpoint coordinates (x, y).\n",
    "\n",
    "    Returns:\n",
    "    None (displays the image with midpoints).\n",
    "    \"\"\"\n",
    "    # Convert to NumPy arrays for easier handling\n",
    "    image_np = image\n",
    "    midpoints_np = midpoints\n",
    "\n",
    "    # Denormalize image if necessary (adjust based on your normalization method)\n",
    "    denormalized_image = image_np  # Modify if normalization was applied during training\n",
    "\n",
    "    # Visualize the image\n",
    "    plt.figure(figsize=(4, 4))\n",
    "    plt.imshow(denormalized_image, cmap='gray')\n",
    "    plt.title(\"Ground Truth Midpoint Visualization\")\n",
    "\n",
    "    # Plot midpoints directly\n",
    "    for i, (x, y) in enumerate(midpoints_np):\n",
    "        plt.scatter(x, y, color='red', s=5)\n",
    "\n",
    "    plt.show()\n",
    "\n",
    "# Example usage with random data\n",
    "t = np.random.randint(0, 200)\n",
    "# t=5\n",
    "\n",
    "visualize_midpoints(tf.convert_to_tensor(inputs[t]), tf.convert_to_tensor(output[t,0,:,:])*64)\n",
    "visualize_midpoints2(tf.convert_to_tensor(inputs[t]), tf.convert_to_tensor(targets[t,0,:,:])*64)\n"
   ]
  }
 ],
 "metadata": {
  "kernelspec": {
   "display_name": "electrondetection",
   "language": "python",
   "name": "python3"
  },
  "language_info": {
   "codemirror_mode": {
    "name": "ipython",
    "version": 3
   },
   "file_extension": ".py",
   "mimetype": "text/x-python",
   "name": "python",
   "nbconvert_exporter": "python",
   "pygments_lexer": "ipython3",
   "version": "3.11.9"
  }
 },
 "nbformat": 4,
 "nbformat_minor": 2
}
