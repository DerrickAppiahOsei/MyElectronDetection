{
 "cells": [
  {
   "cell_type": "markdown",
   "metadata": {},
   "source": [
    "Uncomment and run this block if using a remote server and set the GPU to use"
   ]
  },
  {
   "cell_type": "code",
   "execution_count": null,
   "metadata": {},
   "outputs": [],
   "source": [
    "# import os\n",
    "# import tensorflow as tf\n",
    "\n",
    "# # Set CUDA device order and visible devices\n",
    "# os.environ[\"CUDA_DEVICE_ORDER\"] = \"PCI_BUS_ID\"\n",
    "# os.environ[\"CUDA_VISIBLE_DEVICES\"] = \"0,1,2,3,4,5,6,7,8,9\"\n",
    "\n",
    "# # Set the device\n",
    "# device = '/cpu:0'\n",
    "# if tf.config.experimental.list_physical_devices('GPU'):\n",
    "#     try:\n",
    "#         # Restrict TensorFlow to only use the second GPU\n",
    "#         gpus = tf.config.experimental.list_physical_devices('GPU')\n",
    "#         if gpus:\n",
    "#             tf.config.experimental.set_visible_devices(gpus[9], 'GPU')\n",
    "#             device = '/gpu:9'\n",
    "#     except RuntimeError as e:\n",
    "#         print(e)\n",
    "\n",
    "# print(\"device\", device)\n"
   ]
  },
  {
   "cell_type": "markdown",
   "metadata": {},
   "source": [
    "Run this block only when working on local computer else comment this out and run the first block instead"
   ]
  },
  {
   "cell_type": "code",
   "execution_count": 1,
   "metadata": {},
   "outputs": [
    {
     "name": "stderr",
     "output_type": "stream",
     "text": [
      "2024-08-27 15:41:15.094489: I tensorflow/core/util/port.cc:111] oneDNN custom operations are on. You may see slightly different numerical results due to floating-point round-off errors from different computation orders. To turn them off, set the environment variable `TF_ENABLE_ONEDNN_OPTS=0`.\n",
      "2024-08-27 15:41:15.494578: E tensorflow/compiler/xla/stream_executor/cuda/cuda_dnn.cc:9342] Unable to register cuDNN factory: Attempting to register factory for plugin cuDNN when one has already been registered\n",
      "2024-08-27 15:41:15.494643: E tensorflow/compiler/xla/stream_executor/cuda/cuda_fft.cc:609] Unable to register cuFFT factory: Attempting to register factory for plugin cuFFT when one has already been registered\n",
      "2024-08-27 15:41:15.496307: E tensorflow/compiler/xla/stream_executor/cuda/cuda_blas.cc:1518] Unable to register cuBLAS factory: Attempting to register factory for plugin cuBLAS when one has already been registered\n",
      "2024-08-27 15:41:15.658754: I tensorflow/core/platform/cpu_feature_guard.cc:182] This TensorFlow binary is optimized to use available CPU instructions in performance-critical operations.\n",
      "To enable the following instructions: AVX2 AVX512F AVX512_VNNI FMA, in other operations, rebuild TensorFlow with the appropriate compiler flags.\n",
      "2024-08-27 15:41:17.315098: W tensorflow/compiler/tf2tensorrt/utils/py_utils.cc:38] TF-TRT Warning: Could not find TensorRT\n",
      "2024-08-27 15:41:21.689171: I tensorflow/core/common_runtime/gpu/gpu_device.cc:1886] Created device /job:localhost/replica:0/task:0/device:GPU:0 with 21582 MB memory:  -> device: 0, name: NVIDIA GeForce RTX 3090, pci bus id: 0000:68:00.0, compute capability: 8.6\n"
     ]
    }
   ],
   "source": [
    "\n",
    "import tensorflow as tf\n",
    "import numpy as np\n",
    "import h5py\n",
    "from tensorflow.keras import layers, models, optimizers\n",
    "import matplotlib.pyplot as plt\n",
    "from sklearn.model_selection import train_test_split\n",
    "\n",
    "\n",
    "# Configure Keras to use GPU\n",
    "config = tf.compat.v1.ConfigProto()\n",
    "config.gpu_options.allow_growth = True\n",
    "sess = tf.compat.v1.Session(config=config)\n",
    "tf.compat.v1.keras.backend.set_session(sess)"
   ]
  },
  {
   "cell_type": "code",
   "execution_count": 2,
   "metadata": {},
   "outputs": [],
   "source": [
    "\n",
    "\n",
    "# Load HDF5 data\n",
    "# h5_filename = '/home/da886/ElectronCountingProject/Small Building Blocks/Data Generated/150K_3electronsOnly.h5'#### i used this for training and saved it under weekend steps weights\n",
    "# with h5py.File(h5_filename, 'r') as f:\n",
    "#     images = np.array(f['images'][:100000])\n",
    "#     centers = np.array(f['centers_training'][:100000])\n",
    "h5_filename = '/home/m3-learning/Documents/Research Data/Electron Detection/Data Generated/100KImages_3 electrons_only.h5'\n",
    "with h5py.File(h5_filename, 'r') as f:\n",
    "    images = np.array(f['images'])\n",
    "    centers = np.array(f['centers_training'])\n"
   ]
  },
  {
   "cell_type": "code",
   "execution_count": 5,
   "metadata": {},
   "outputs": [
    {
     "data": {
      "image/png": "[encoded data removed]",
      "text/plain": [
       "<Figure size 640x480 with 2 Axes>"
      ]
     },
     "metadata": {},
     "output_type": "display_data"
    }
   ],
   "source": [
    "a = np.random.randint(0, len(images))\n",
    "# a =2\n",
    "image = images[a]\n",
    "centerss = centers[a]\n",
    "\n",
    "# Plot the image with valid centers\n",
    "plt.imshow(image, )\n",
    "valid_centers = centerss[centerss[:, 0] == 1]\n",
    "for center in valid_centers:\n",
    "    plt.scatter(center[1], center[2], c='red', marker='x')  # Note: center[1] is x and center[2] is y\n",
    "plt.title('Image with Valid Centers Marked')\n",
    "plt.colorbar()\n",
    "plt.show()\n"
   ]
  },
  {
   "cell_type": "code",
   "execution_count": 4,
   "metadata": {},
   "outputs": [],
   "source": [
    "\n",
    "\n",
    "# Function to sort centers from top-left to bottom-right\n",
    "def sort_centers(centers):\n",
    "    # Sort by y first, then by x\n",
    "    return centers[np.lexsort((centers[:, 0], centers[:, 1]))]\n",
    "\n",
    "# Sort the centers for each image\n",
    "sorted_centers = np.array([sort_centers(image_centers[:, 1:]) for image_centers in centers])\n"
   ]
  },
  {
   "cell_type": "code",
   "execution_count": 12,
   "metadata": {},
   "outputs": [
    {
     "data": {
      "text/plain": [
       "array([[34.      , 40.805344],\n",
       "       [24.      , 42.783684],\n",
       "       [46.31027 , 45.      ]], dtype=float32)"
      ]
     },
     "execution_count": 12,
     "metadata": {},
     "output_type": "execute_result"
    }
   ],
   "source": [
    "k= np.random.randint(0, len(sorted_centers))\n",
    "sorted_centers[k]"
   ]
  },
  {
   "cell_type": "code",
   "execution_count": 5,
   "metadata": {},
   "outputs": [
    {
     "name": "stderr",
     "output_type": "stream",
     "text": [
      "2024-08-27 12:45:13.349790: I tensorflow/core/common_runtime/gpu/gpu_device.cc:1886] Created device /job:localhost/replica:0/task:0/device:GPU:0 with 21502 MB memory:  -> device: 0, name: NVIDIA GeForce RTX 3090, pci bus id: 0000:68:00.0, compute capability: 8.6\n"
     ]
    }
   ],
   "source": [
    "\n",
    "# normalized_images = (images+1e-9)/9.26\n",
    "normalized_images = (images)/np.max(images)\n",
    "normalized_centers = sorted_centers /  64\n",
    "normalized_midpoints =normalized_centers\n",
    "normalized_midpoints = tf.expand_dims(normalized_midpoints,axis =1)\n",
    "normalized_midpoints_np = normalized_midpoints.numpy()"
   ]
  },
  {
   "cell_type": "markdown",
   "metadata": {},
   "source": [
    "Range for input images"
   ]
  },
  {
   "cell_type": "code",
   "execution_count": 8,
   "metadata": {},
   "outputs": [
    {
     "data": {
      "text/plain": [
       "(1.0, 0.0)"
      ]
     },
     "execution_count": 8,
     "metadata": {},
     "output_type": "execute_result"
    }
   ],
   "source": [
    "np.max(normalized_images), np.min(normalized_images)"
   ]
  },
  {
   "cell_type": "markdown",
   "metadata": {},
   "source": [
    "Range for labels"
   ]
  },
  {
   "cell_type": "code",
   "execution_count": 7,
   "metadata": {},
   "outputs": [
    {
     "data": {
      "text/plain": [
       "(0.95097446, 0.03568606)"
      ]
     },
     "execution_count": 7,
     "metadata": {},
     "output_type": "execute_result"
    }
   ],
   "source": [
    "np.max(normalized_centers), np.min(normalized_centers)"
   ]
  },
  {
   "cell_type": "code",
   "execution_count": 6,
   "metadata": {},
   "outputs": [],
   "source": [
    "# Perform the random split\n",
    "train_images, val_images, train_midpoints, val_midpoints = train_test_split(\n",
    "    normalized_images, normalized_midpoints_np, train_size=0.8, random_state=42\n",
    ")"
   ]
  },
  {
   "cell_type": "code",
   "execution_count": 7,
   "metadata": {},
   "outputs": [],
   "source": [
    "train_dataset = tf.data.Dataset.from_tensor_slices((train_images, train_midpoints))\n",
    "val_dataset = tf.data.Dataset.from_tensor_slices((val_images, val_midpoints))"
   ]
  },
  {
   "cell_type": "code",
   "execution_count": 11,
   "metadata": {},
   "outputs": [
    {
     "data": {
      "text/plain": [
       "((80000, 64, 64), (20000, 64, 64), (80000, 1, 3, 2))"
      ]
     },
     "execution_count": 11,
     "metadata": {},
     "output_type": "execute_result"
    }
   ],
   "source": [
    "train_images.shape,val_images.shape,train_midpoints.shape"
   ]
  },
  {
   "cell_type": "code",
   "execution_count": 8,
   "metadata": {},
   "outputs": [],
   "source": [
    "batch_size = 400\n",
    "train_dataset = train_dataset.shuffle(buffer_size=2000,reshuffle_each_iteration= True).batch(batch_size)\n",
    "val_dataset = val_dataset.shuffle(buffer_size=2000).batch(batch_size)"
   ]
  },
  {
   "cell_type": "markdown",
   "metadata": {},
   "source": [
    "Example of what goes inside the model"
   ]
  },
  {
   "cell_type": "code",
   "execution_count": 11,
   "metadata": {},
   "outputs": [
    {
     "data": {
      "image/png": "[encoded data removed]",
      "text/plain": [
       "<Figure size 640x480 with 1 Axes>"
      ]
     },
     "metadata": {},
     "output_type": "display_data"
    }
   ],
   "source": [
    "\n",
    "sample_image, sample_midpoints = next(iter(train_dataset))\n",
    "\n",
    "\n",
    "# Convert TensorFlow tensors to NumPy arrays (if they are tensors)\n",
    "sample_image = np.array(sample_image[2])\n",
    "sample_midpoints = np.array(sample_midpoints[2])\n",
    "\n",
    "# # Transpose the image and correctly swap the midpoints\n",
    "\n",
    "transposed_image = sample_image.T\n",
    "transposed_midpoints_corrected = sample_midpoints[:,:, [1, 0]]  # Correctly swap x and y coordinates\n",
    "\n",
    "# Plot the transposed image with corrected midpoints\n",
    "plt.imshow(transposed_image, cmap='gray')\n",
    "plt.scatter(transposed_midpoints_corrected[:,:, 0] * 64, transposed_midpoints_corrected[:,:, 1] * 64, c='red', marker='o')\n",
    "plt.title('Transposed Image with Corrected Midpoints')\n",
    "plt.show()\n"
   ]
  },
  {
   "cell_type": "code",
   "execution_count": 12,
   "metadata": {},
   "outputs": [
    {
     "data": {
      "text/plain": [
       "<tf.Tensor: shape=(100000, 1, 3, 2), dtype=float32, numpy=\n",
       "array([[[[0.46875   , 0.47058076],\n",
       "         [0.6016305 , 0.609375  ],\n",
       "         [0.23067334, 0.703125  ]]],\n",
       "\n",
       "\n",
       "       [[[0.59375   , 0.2167689 ],\n",
       "         [0.78125   , 0.40625   ],\n",
       "         [0.796875  , 0.7522598 ]]],\n",
       "\n",
       "\n",
       "       [[[0.671875  , 0.19363853],\n",
       "         [0.328125  , 0.359375  ],\n",
       "         [0.765625  , 0.6253409 ]]],\n",
       "\n",
       "\n",
       "       ...,\n",
       "\n",
       "\n",
       "       [[[0.390625  , 0.46875   ],\n",
       "         [0.375     , 0.703125  ],\n",
       "         [0.7426754 , 0.740809  ]]],\n",
       "\n",
       "\n",
       "       [[[0.77740455, 0.46875   ],\n",
       "         [0.7535079 , 0.7172322 ],\n",
       "         [0.80129254, 0.78774697]]],\n",
       "\n",
       "\n",
       "       [[[0.84375   , 0.375     ],\n",
       "         [0.625     , 0.4375    ],\n",
       "         [0.609375  , 0.62378347]]]], dtype=float32)>"
      ]
     },
     "execution_count": 12,
     "metadata": {},
     "output_type": "execute_result"
    }
   ],
   "source": [
    "normalized_midpoints "
   ]
  },
  {
   "cell_type": "markdown",
   "metadata": {},
   "source": [
    "Model Architecture"
   ]
  },
  {
   "cell_type": "code",
   "execution_count": 13,
   "metadata": {},
   "outputs": [],
   "source": [
    "from tensorflow.keras import layers\n",
    "\n",
    "\n",
    "input_shape = (64, 64, 1)\n",
    "num_classes = 3\n",
    "num_coordinates = 2\n",
    "\n",
    "\n",
    "x_input = layers.Input(shape=input_shape)\n",
    "#Layer 1\n",
    "x = layers.Conv2D(64, kernel_size=3, padding='same', activation='relu')(x_input)\n",
    "x = layers.MaxPool2D()(x)\n",
    "x = layers.BatchNormalization()(x) \n",
    "x = layers.Conv2D(64, kernel_size=3, padding='same', activation='relu')(x)\n",
    "\n",
    "#Layer 2\n",
    "x = layers.Conv2D(128, kernel_size=3, padding='same', activation='relu')(x)\n",
    "x = layers.Conv2D(128, kernel_size=3, padding='same', activation='relu')(x)\n",
    "x = layers.BatchNormalization()(x) \n",
    "x = layers.Dropout(0.2)(x)\n",
    "#Layer 3\n",
    "x = layers.Conv2D(256, kernel_size=3, padding='same', activation='relu')(x)\n",
    "x = layers.Conv2D(256, kernel_size=3, padding='same', activation='relu')(x)\n",
    "x = layers.BatchNormalization()(x) \n",
    "x = layers.Dropout(0.2)(x)\n",
    "#Layer 4\n",
    "x = layers.Conv2D(512, kernel_size=3, padding='same', activation='relu')(x)\n",
    "x = layers.MaxPool2D()(x)\n",
    "x = layers.BatchNormalization()(x)\n",
    "x = layers.Dropout(0.3)(x)\n",
    "x = layers.Conv2D(512, kernel_size=3, padding='same', activation='relu')(x)\n",
    "x = layers.MaxPool2D()(x)\n",
    "x = layers.BatchNormalization()(x)\n",
    "x = layers.Conv2D(512, kernel_size=3, padding='same', activation='relu')(x)\n",
    "x = layers.MaxPool2D()(x)\n",
    "x = layers.BatchNormalization()(x)\n",
    "x = layers.Dropout(0.3)(x)\n",
    "#Layer 5\n",
    "x = layers.Conv2D(256, kernel_size=5, padding='same', activation='relu')(x)\n",
    "x = layers.MaxPool2D()(x)\n",
    "x = layers.BatchNormalization()(x) \n",
    "x = layers.Dropout(0.3)(x)\n",
    "\n",
    "x = layers.Flatten()(x)\n",
    "\n",
    "\n",
    "# Bounding box output\n",
    "x_midpoints = layers.Dense(num_classes * num_coordinates, activation='sigmoid', name='x_midpoints')(x)\n",
    "x_midpoints_reshape = layers.Reshape((-1, num_classes, num_coordinates), name='x_midpoints_reshape')(x_midpoints)\n",
    "\n",
    "\n",
    "\n",
    "\n",
    "model = tf.keras.models.Model(x_input, x_midpoints_reshape)\n",
    "optimizer = tf.keras.optimizers.Adam(learning_rate=1e-3) \n",
    "\n"
   ]
  },
  {
   "cell_type": "markdown",
   "metadata": {},
   "source": [
    "Example to show model and loss function works"
   ]
  },
  {
   "cell_type": "code",
   "execution_count": 18,
   "metadata": {},
   "outputs": [
    {
     "name": "stderr",
     "output_type": "stream",
     "text": [
      "2024-08-25 15:02:14.487788: I tensorflow/compiler/xla/stream_executor/cuda/cuda_dnn.cc:442] Loaded cuDNN version 8907\n"
     ]
    },
    {
     "name": "stdout",
     "output_type": "stream",
     "text": [
      "1250/1250 [==============================] - 11s 8ms/step\n",
      "313/313 [==============================] - 3s 8ms/step\n"
     ]
    }
   ],
   "source": [
    "train_outputs = model.predict(train_images)\n",
    "val_outputs = model.predict(val_images)"
   ]
  },
  {
   "cell_type": "markdown",
   "metadata": {},
   "source": [
    "Loss Function"
   ]
  },
  {
   "cell_type": "code",
   "execution_count": 17,
   "metadata": {},
   "outputs": [],
   "source": [
    "import tensorflow as tf\n",
    "\n",
    "class DynamicExponentCallback(tf.keras.callbacks.Callback):\n",
    "    def __init__(self, initial_exponent=3, increment=1, update_frequency=7):\n",
    "        super().__init__()\n",
    "        self.exponent = initial_exponent\n",
    "        self.increment = increment\n",
    "        self.update_frequency = update_frequency\n",
    "\n",
    "    def on_epoch_end(self, epoch, logs=None):\n",
    "        if (epoch + 1) % self.update_frequency == 0:\n",
    "            self.exponent += self.increment\n",
    "            print(f\"\\nEpoch {epoch + 1}: Increasing exponent to {self.exponent}\")\n",
    "            self.model.loss = self.custom_loss(self.exponent)\n",
    "\n",
    "    def custom_loss(self, exponent):\n",
    "        def loss(y_true, y_pred):\n",
    "            diff = tf.abs(y_true - y_pred)\n",
    "            powered_diff = tf.pow(diff, exponent)\n",
    "            return tf.reduce_mean(powered_diff)\n",
    "        return loss\n"
   ]
  },
  {
   "cell_type": "code",
   "execution_count": 22,
   "metadata": {},
   "outputs": [],
   "source": [
    "dynamic_exponent_callback = DynamicExponentCallback(initial_exponent=3, increment=1, update_frequency=7)\n",
    "loss=dynamic_exponent_callback.custom_loss(3)\n",
    "tl =loss(train_outputs,train_midpoints)\n",
    "vl = loss(val_outputs,val_midpoints)\n",
    "\n",
    "tl,vl"
   ]
  },
  {
   "cell_type": "code",
   "execution_count": 23,
   "metadata": {},
   "outputs": [],
   "source": [
    "from tensorflow.keras import layers, callbacks\n",
    "# Custom callback to save the model every 10 epochs\n",
    "class CustomModelCheckpoint(callbacks.Callback):\n",
    "    def __init__(self, save_freq, save_path):\n",
    "        super(CustomModelCheckpoint, self).__init__()\n",
    "        self.save_freq = save_freq\n",
    "        self.save_path = save_path\n",
    "\n",
    "    def on_epoch_end(self, epoch, logs=None):\n",
    "        if (epoch + 1) % self.save_freq == 0:\n",
    "            self.model.save(self.save_path.format(epoch=epoch + 1))\n",
    "            print(f\"Model saved at epoch {epoch + 1}\")\n",
    "\n",
    "save_freq = 200  # Save every 10 epochs\n",
    "save_path = \"/home/da886/ElectronCountingProject/weights for custom loss/customlossmodel_epoch_{epoch:02d}.h5\"\n",
    "checkpoint_callback = CustomModelCheckpoint(save_freq=save_freq, save_path=save_path)\n",
    "\n",
    "# Define the ReduceLROnPlateau callback\n",
    "lr_scheduler = tf.keras.callbacks.ReduceLROnPlateau(\n",
    "    monitor='val_loss',       # Monitor the validation loss\n",
    "    factor=0.5,               # Factor by which the learning rate will be reduced\n",
    "    patience=5,               # Number of epochs with no improvement after which learning rate will be reduced\n",
    "    verbose=1,                # Verbosity mode, 1: output logs\n",
    "    mode='min',               # Min mode, as we want to reduce the LR when the monitored quantity stops decreasing\n",
    "    min_lr=7e-15               # Lower bound on the learning rate\n",
    ")"
   ]
  },
  {
   "cell_type": "code",
   "execution_count": 18,
   "metadata": {},
   "outputs": [],
   "source": [
    "# Define and compile your model initially with the initial exponent\n",
    "\n",
    "dynamic_exponent_callback = DynamicExponentCallback(initial_exponent=3, increment=1, update_frequency=7)\n",
    "model.compile(optimizer=optimizer, loss=dynamic_exponent_callback.custom_loss(3))\n",
    "\n",
    "\n"
   ]
  },
  {
   "cell_type": "code",
   "execution_count": 25,
   "metadata": {},
   "outputs": [
    {
     "name": "stdout",
     "output_type": "stream",
     "text": [
      "Epoch 1/60\n"
     ]
    },
    {
     "name": "stderr",
     "output_type": "stream",
     "text": [
      "2024-08-25 16:57:47.361191: E tensorflow/core/grappler/optimizers/meta_optimizer.cc:961] layout failed: INVALID_ARGUMENT: Size of values 0 does not match size of permutation 4 @ fanin shape inmodel/dropout/dropout/SelectV2-2-TransposeNHWCToNCHW-LayoutOptimizer\n",
      "2024-08-25 16:57:47.657089: I tensorflow/compiler/xla/stream_executor/cuda/cuda_dnn.cc:442] Loaded cuDNN version 8907\n",
      "2024-08-25 16:57:52.872901: I tensorflow/compiler/xla/service/service.cc:168] XLA service 0x70322424d7e0 initialized for platform CUDA (this does not guarantee that XLA will be used). Devices:\n",
      "2024-08-25 16:57:52.872947: I tensorflow/compiler/xla/service/service.cc:176]   StreamExecutor device (0): NVIDIA GeForce RTX 3090, Compute Capability 8.6\n",
      "2024-08-25 16:57:52.880494: I tensorflow/compiler/mlir/tensorflow/utils/dump_mlir_util.cc:269] disabling MLIR crash reproducer, set env var `MLIR_CRASH_REPRODUCER_DIRECTORY` to enable.\n",
      "2024-08-25 16:57:52.981919: I ./tensorflow/compiler/jit/device_compiler.h:186] Compiled cluster using XLA!  This line is logged at most once for the lifetime of the process.\n"
     ]
    },
    {
     "name": "stdout",
     "output_type": "stream",
     "text": [
      "  6/200 [..............................] - ETA: 1:04 - loss: 0.0579WARNING:tensorflow:Callback method `on_train_batch_end` is slow compared to the batch time (batch time: 0.1251s vs `on_train_batch_end` time: 0.1732s). Check your callbacks.\n",
      "200/200 [==============================] - 88s 353ms/step - loss: 0.0061 - val_loss: 0.0195 - lr: 0.0010\n",
      "Epoch 2/60\n",
      "200/200 [==============================] - 71s 353ms/step - loss: 0.0025 - val_loss: 0.0024 - lr: 0.0010\n",
      "Epoch 3/60\n",
      "200/200 [==============================] - 71s 353ms/step - loss: 0.0021 - val_loss: 0.0030 - lr: 0.0010\n",
      "Epoch 4/60\n",
      "200/200 [==============================] - 71s 357ms/step - loss: 0.0020 - val_loss: 0.0017 - lr: 0.0010\n",
      "Epoch 5/60\n",
      "200/200 [==============================] - 71s 356ms/step - loss: 0.0029 - val_loss: 0.0033 - lr: 0.0010\n",
      "Epoch 6/60\n",
      "200/200 [==============================] - 71s 353ms/step - loss: 0.0027 - val_loss: 0.0037 - lr: 0.0010\n",
      "Epoch 7/60\n",
      "200/200 [==============================] - ETA: 0s - loss: 0.0021\n",
      "Epoch 7: Increasing exponent to 4\n",
      "200/200 [==============================] - 70s 349ms/step - loss: 0.0021 - val_loss: 0.0041 - lr: 0.0010\n",
      "Epoch 8/60\n",
      "200/200 [==============================] - 70s 352ms/step - loss: 0.0019 - val_loss: 0.0093 - lr: 0.0010\n",
      "Epoch 9/60\n",
      "200/200 [==============================] - ETA: 0s - loss: 0.0018\n",
      "Epoch 9: ReduceLROnPlateau reducing learning rate to 0.0005000000237487257.\n",
      "200/200 [==============================] - 70s 352ms/step - loss: 0.0018 - val_loss: 0.0027 - lr: 0.0010\n",
      "Epoch 10/60\n",
      "200/200 [==============================] - 70s 350ms/step - loss: 0.0015 - val_loss: 0.0012 - lr: 5.0000e-04\n",
      "Epoch 11/60\n",
      "200/200 [==============================] - 71s 356ms/step - loss: 0.0015 - val_loss: 0.0012 - lr: 5.0000e-04\n",
      "Epoch 12/60\n",
      "200/200 [==============================] - 72s 361ms/step - loss: 0.0012 - val_loss: 9.5305e-04 - lr: 5.0000e-04\n",
      "Epoch 13/60\n",
      "200/200 [==============================] - 70s 348ms/step - loss: 9.9037e-04 - val_loss: 8.6861e-04 - lr: 5.0000e-04\n",
      "Epoch 14/60\n",
      "200/200 [==============================] - ETA: 0s - loss: 9.5060e-04\n",
      "Epoch 14: Increasing exponent to 5\n",
      "200/200 [==============================] - 72s 360ms/step - loss: 9.5060e-04 - val_loss: 8.5214e-04 - lr: 5.0000e-04\n",
      "Epoch 15/60\n",
      "200/200 [==============================] - 72s 358ms/step - loss: 9.3303e-04 - val_loss: 8.3099e-04 - lr: 5.0000e-04\n",
      "Epoch 16/60\n",
      "200/200 [==============================] - 71s 354ms/step - loss: 9.1430e-04 - val_loss: 8.3457e-04 - lr: 5.0000e-04\n",
      "Epoch 17/60\n",
      "200/200 [==============================] - 70s 351ms/step - loss: 9.0019e-04 - val_loss: 8.2630e-04 - lr: 5.0000e-04\n",
      "Epoch 18/60\n",
      "200/200 [==============================] - 70s 349ms/step - loss: 8.8429e-04 - val_loss: 8.2128e-04 - lr: 5.0000e-04\n",
      "Epoch 19/60\n",
      "200/200 [==============================] - ETA: 0s - loss: 8.7430e-04\n",
      "Epoch 19: ReduceLROnPlateau reducing learning rate to 0.0002500000118743628.\n",
      "200/200 [==============================] - 70s 349ms/step - loss: 8.7430e-04 - val_loss: 8.1401e-04 - lr: 5.0000e-04\n",
      "Epoch 20/60\n",
      "200/200 [==============================] - 71s 357ms/step - loss: 8.3421e-04 - val_loss: 7.9948e-04 - lr: 2.5000e-04\n",
      "Epoch 21/60\n",
      "200/200 [==============================] - ETA: 0s - loss: 8.2828e-04\n",
      "Epoch 21: Increasing exponent to 6\n",
      "200/200 [==============================] - 74s 368ms/step - loss: 8.2828e-04 - val_loss: 7.9210e-04 - lr: 2.5000e-04\n",
      "Epoch 22/60\n",
      "200/200 [==============================] - 74s 368ms/step - loss: 8.1775e-04 - val_loss: 7.8953e-04 - lr: 2.5000e-04\n",
      "Epoch 23/60\n",
      "200/200 [==============================] - 73s 367ms/step - loss: 8.1750e-04 - val_loss: 7.9460e-04 - lr: 2.5000e-04\n",
      "Epoch 24/60\n",
      "200/200 [==============================] - ETA: 0s - loss: 8.0966e-04\n",
      "Epoch 24: ReduceLROnPlateau reducing learning rate to 0.0001250000059371814.\n",
      "200/200 [==============================] - 73s 367ms/step - loss: 8.0966e-04 - val_loss: 7.8884e-04 - lr: 2.5000e-04\n",
      "Epoch 25/60\n",
      "200/200 [==============================] - 71s 357ms/step - loss: 7.8573e-04 - val_loss: 7.8853e-04 - lr: 1.2500e-04\n",
      "Epoch 26/60\n",
      "200/200 [==============================] - 62s 309ms/step - loss: 7.8458e-04 - val_loss: 7.8128e-04 - lr: 1.2500e-04\n",
      "Epoch 27/60\n",
      "200/200 [==============================] - 62s 309ms/step - loss: 7.7628e-04 - val_loss: 7.8354e-04 - lr: 1.2500e-04\n",
      "Epoch 28/60\n",
      "200/200 [==============================] - ETA: 0s - loss: 7.7584e-04\n",
      "Epoch 28: Increasing exponent to 7\n",
      "200/200 [==============================] - 62s 309ms/step - loss: 7.7584e-04 - val_loss: 7.8920e-04 - lr: 1.2500e-04\n",
      "Epoch 29/60\n",
      "200/200 [==============================] - ETA: 0s - loss: 7.7219e-04\n",
      "Epoch 29: ReduceLROnPlateau reducing learning rate to 6.25000029685907e-05.\n",
      "200/200 [==============================] - 62s 309ms/step - loss: 7.7219e-04 - val_loss: 7.7324e-04 - lr: 1.2500e-04\n",
      "Epoch 30/60\n",
      "200/200 [==============================] - 62s 309ms/step - loss: 7.6027e-04 - val_loss: 7.7197e-04 - lr: 6.2500e-05\n",
      "Epoch 31/60\n",
      "200/200 [==============================] - 62s 309ms/step - loss: 7.5166e-04 - val_loss: 7.7755e-04 - lr: 6.2500e-05\n",
      "Epoch 32/60\n",
      "200/200 [==============================] - 62s 309ms/step - loss: 7.4930e-04 - val_loss: 7.7119e-04 - lr: 6.2500e-05\n",
      "Epoch 33/60\n",
      "200/200 [==============================] - 62s 309ms/step - loss: 7.4517e-04 - val_loss: 7.7868e-04 - lr: 6.2500e-05\n",
      "Epoch 34/60\n",
      "200/200 [==============================] - ETA: 0s - loss: 7.4181e-04\n",
      "Epoch 34: ReduceLROnPlateau reducing learning rate to 3.125000148429535e-05.\n",
      "200/200 [==============================] - 62s 309ms/step - loss: 7.4181e-04 - val_loss: 7.7785e-04 - lr: 6.2500e-05\n",
      "Epoch 35/60\n",
      "200/200 [==============================] - ETA: 0s - loss: 7.3964e-04\n",
      "Epoch 35: Increasing exponent to 8\n",
      "200/200 [==============================] - 62s 309ms/step - loss: 7.3964e-04 - val_loss: 7.7189e-04 - lr: 3.1250e-05\n",
      "Epoch 36/60\n",
      "200/200 [==============================] - 62s 309ms/step - loss: 7.3400e-04 - val_loss: 7.6944e-04 - lr: 3.1250e-05\n",
      "Epoch 37/60\n",
      "200/200 [==============================] - 62s 309ms/step - loss: 7.3124e-04 - val_loss: 7.6944e-04 - lr: 3.1250e-05\n",
      "Epoch 38/60\n",
      "200/200 [==============================] - 62s 309ms/step - loss: 7.2858e-04 - val_loss: 7.7300e-04 - lr: 3.1250e-05\n",
      "Epoch 39/60\n",
      "200/200 [==============================] - ETA: 0s - loss: 7.2950e-04\n",
      "Epoch 39: ReduceLROnPlateau reducing learning rate to 1.5625000742147677e-05.\n",
      "200/200 [==============================] - 62s 309ms/step - loss: 7.2950e-04 - val_loss: 7.6835e-04 - lr: 3.1250e-05\n",
      "Epoch 40/60\n",
      "200/200 [==============================] - 62s 309ms/step - loss: 7.2352e-04 - val_loss: 7.6648e-04 - lr: 1.5625e-05\n",
      "Epoch 41/60\n",
      "200/200 [==============================] - 62s 309ms/step - loss: 7.2098e-04 - val_loss: 7.6604e-04 - lr: 1.5625e-05\n",
      "Epoch 42/60\n",
      "200/200 [==============================] - ETA: 0s - loss: 7.2228e-04\n",
      "Epoch 42: Increasing exponent to 9\n",
      "200/200 [==============================] - 62s 309ms/step - loss: 7.2228e-04 - val_loss: 7.6844e-04 - lr: 1.5625e-05\n",
      "Epoch 43/60\n",
      "200/200 [==============================] - 62s 309ms/step - loss: 7.2121e-04 - val_loss: 7.6821e-04 - lr: 1.5625e-05\n",
      "Epoch 44/60\n",
      "200/200 [==============================] - ETA: 0s - loss: 7.2165e-04\n",
      "Epoch 44: ReduceLROnPlateau reducing learning rate to 7.812500371073838e-06.\n",
      "200/200 [==============================] - 62s 309ms/step - loss: 7.2165e-04 - val_loss: 7.6714e-04 - lr: 1.5625e-05\n",
      "Epoch 45/60\n",
      "200/200 [==============================] - 62s 309ms/step - loss: 7.1891e-04 - val_loss: 7.6481e-04 - lr: 7.8125e-06\n",
      "Epoch 46/60\n",
      "200/200 [==============================] - 62s 308ms/step - loss: 7.1606e-04 - val_loss: 7.6604e-04 - lr: 7.8125e-06\n",
      "Epoch 47/60\n",
      "200/200 [==============================] - 62s 309ms/step - loss: 7.1672e-04 - val_loss: 7.6563e-04 - lr: 7.8125e-06\n",
      "Epoch 48/60\n",
      "200/200 [==============================] - 62s 308ms/step - loss: 7.1531e-04 - val_loss: 7.6544e-04 - lr: 7.8125e-06\n",
      "Epoch 49/60\n",
      "200/200 [==============================] - ETA: 0s - loss: 7.1725e-04\n",
      "Epoch 49: Increasing exponent to 10\n",
      "\n",
      "Epoch 49: ReduceLROnPlateau reducing learning rate to 3.906250185536919e-06.\n",
      "200/200 [==============================] - 62s 309ms/step - loss: 7.1725e-04 - val_loss: 7.6613e-04 - lr: 7.8125e-06\n",
      "Epoch 50/60\n",
      "200/200 [==============================] - 62s 308ms/step - loss: 7.1229e-04 - val_loss: 7.6604e-04 - lr: 3.9063e-06\n",
      "Epoch 51/60\n",
      "200/200 [==============================] - 62s 309ms/step - loss: 7.1235e-04 - val_loss: 7.6538e-04 - lr: 3.9063e-06\n",
      "Epoch 52/60\n",
      "200/200 [==============================] - 62s 309ms/step - loss: 7.1083e-04 - val_loss: 7.6576e-04 - lr: 3.9063e-06\n",
      "Epoch 53/60\n",
      "200/200 [==============================] - 62s 309ms/step - loss: 7.1672e-04 - val_loss: 7.6551e-04 - lr: 3.9063e-06\n",
      "Epoch 54/60\n",
      "200/200 [==============================] - ETA: 0s - loss: 7.1446e-04\n",
      "Epoch 54: ReduceLROnPlateau reducing learning rate to 1.9531250927684596e-06.\n",
      "200/200 [==============================] - 62s 309ms/step - loss: 7.1446e-04 - val_loss: 7.6506e-04 - lr: 3.9063e-06\n",
      "Epoch 55/60\n",
      "200/200 [==============================] - 62s 309ms/step - loss: 7.0889e-04 - val_loss: 7.6532e-04 - lr: 1.9531e-06\n",
      "Epoch 56/60\n",
      "200/200 [==============================] - ETA: 0s - loss: 7.1183e-04\n",
      "Epoch 56: Increasing exponent to 11\n",
      "200/200 [==============================] - 62s 308ms/step - loss: 7.1183e-04 - val_loss: 7.6536e-04 - lr: 1.9531e-06\n",
      "Epoch 57/60\n",
      "200/200 [==============================] - 62s 309ms/step - loss: 7.1153e-04 - val_loss: 7.6537e-04 - lr: 1.9531e-06\n",
      "Epoch 58/60\n",
      "200/200 [==============================] - 62s 309ms/step - loss: 7.0738e-04 - val_loss: 7.6593e-04 - lr: 1.9531e-06\n",
      "Epoch 59/60\n",
      "200/200 [==============================] - ETA: 0s - loss: 7.1387e-04\n",
      "Epoch 59: ReduceLROnPlateau reducing learning rate to 9.765625463842298e-07.\n",
      "200/200 [==============================] - 62s 309ms/step - loss: 7.1387e-04 - val_loss: 7.6613e-04 - lr: 1.9531e-06\n",
      "Epoch 60/60\n",
      "200/200 [==============================] - 62s 309ms/step - loss: 7.0992e-04 - val_loss: 7.6629e-04 - lr: 9.7656e-07\n"
     ]
    }
   ],
   "source": [
    "# history = model.fit(train_dataset, epochs=1700, validation_data=val_dataset,callbacks=[checkpoint_callback,lr_scheduler])\n",
    "history = model.fit(train_dataset, epochs=60, validation_data=val_dataset,callbacks=[dynamic_exponent_callback,lr_scheduler])\n",
    "# history = model_custom.fit(train_dataset, epochs=150, validation_data=val_dataset)"
   ]
  },
  {
   "cell_type": "code",
   "execution_count": 26,
   "metadata": {},
   "outputs": [
    {
     "name": "stdout",
     "output_type": "stream",
     "text": [
      "dict_keys(['loss', 'val_loss', 'lr'])\n"
     ]
    },
    {
     "data": {
      "image/png": "[encoded data removed]",
      "text/plain": [
       "<Figure size 1200x600 with 1 Axes>"
      ]
     },
     "metadata": {},
     "output_type": "display_data"
    }
   ],
   "source": [
    "\n",
    "\n",
    "# Print the available keys in the history\n",
    "print(history.history.keys())\n",
    "\n",
    "# Extract the losses from the history object\n",
    "train_loss = history.history['loss']\n",
    "val_loss = history.history['val_loss']\n",
    "\n",
    "# If there are specific losses for x_prob and x_midpoints, extract them\n",
    "train_loss_x_prob = history.history.get('x_prob_reshape_loss', train_loss)\n",
    "val_loss_x_prob = history.history.get('val_x_prob_reshape_loss', val_loss)\n",
    "train_loss_x_midpoints = history.history.get('x_midpoints_reshape_loss', train_loss)\n",
    "val_loss_x_midpoints = history.history.get('val_x_midpoints_reshape_loss', val_loss)\n",
    "\n",
    "\n",
    "# Plot the training and validation losses\n",
    "plt.figure(figsize=(12, 6))\n",
    "\n",
    "# Plotting x_prob_reshape loss\n",
    "plt.subplot(1, 2,1)\n",
    "plt.plot(train_loss_x_prob, label='Train Loss ')\n",
    "plt.plot(val_loss_x_prob, label='Validation Loss ')\n",
    "plt.xlabel('Epochs')\n",
    "plt.yscale('log')\n",
    "\n",
    "plt.ylabel('Loss')\n",
    "plt.title('Training and Validation Loss ')\n",
    "plt.legend()\n",
    "\n",
    "# # Plotting x_midpoints_reshape loss\n",
    "# plt.subplot(1, 2, 2)\n",
    "# plt.plot(train_loss_x_midpoints, label='Train Loss x_midpoints_reshape')\n",
    "# plt.plot(val_loss_x_midpoints, label='Validation Loss x_midpoints_reshape')\n",
    "# plt.xlabel('Epochs')\n",
    "# plt.ylabel('Loss')\n",
    "# plt.title('Training and Validation Loss for x_midpoints_reshape')\n",
    "# plt.legend()\n",
    "\n",
    "plt.tight_layout()\n",
    "plt.show()\n"
   ]
  },
  {
   "cell_type": "code",
   "execution_count": 1,
   "metadata": {},
   "outputs": [
    {
     "ename": "NameError",
     "evalue": "name 'tf' is not defined",
     "output_type": "error",
     "traceback": [
      "\u001b[0;31m---------------------------------------------------------------------------\u001b[0m",
      "\u001b[0;31mNameError\u001b[0m                                 Traceback (most recent call last)",
      "Cell \u001b[0;32mIn[1], line 6\u001b[0m\n\u001b[1;32m      1\u001b[0m \u001b[38;5;66;03m# u =tf.keras.models.load_model(\"/home/da886/ElectronCountingProject/weekend steps custom loss weights/customlossmodel.keras\",safe_mode=False) \u001b[39;00m\n\u001b[0;32m----> 6\u001b[0m u \u001b[38;5;241m=\u001b[39m\u001b[43mtf\u001b[49m\u001b[38;5;241m.\u001b[39mkeras\u001b[38;5;241m.\u001b[39mmodels\u001b[38;5;241m.\u001b[39mload_model(\u001b[38;5;124m\"\u001b[39m\u001b[38;5;124m/home/m3-learning/Documents/Research Data/Electron Detection/Weights/Originalmodel_0827.keras\u001b[39m\u001b[38;5;124m\"\u001b[39m,safe_mode\u001b[38;5;241m=\u001b[39m\u001b[38;5;28;01mFalse\u001b[39;00m,custom_objects\u001b[38;5;241m=\u001b[39m{\u001b[38;5;124m'\u001b[39m\u001b[38;5;124mloss\u001b[39m\u001b[38;5;124m'\u001b[39m: dynamic_exponent_callback\u001b[38;5;241m.\u001b[39mcustom_loss(\u001b[38;5;241m3\u001b[39m)} )\n",
      "\u001b[0;31mNameError\u001b[0m: name 'tf' is not defined"
     ]
    }
   ],
   "source": [
    "# u =tf.keras.models.load_model(\"/home/da886/ElectronCountingProject/weekend steps custom loss weights/customlossmodel.keras\",safe_mode=False) \n",
    "\n",
    "\n",
    "\n",
    "\n",
    "u =tf.keras.models.load_model(\"/home/m3-learning/Documents/Research Data/Electron Detection/Weights/Originalmodel_0827.keras\",safe_mode=False,custom_objects={'loss': dynamic_exponent_callback.custom_loss(3)} )"
   ]
  },
  {
   "cell_type": "code",
   "execution_count": 21,
   "metadata": {},
   "outputs": [
    {
     "name": "stderr",
     "output_type": "stream",
     "text": [
      "2024-08-27 12:50:45.758732: I tensorflow/compiler/xla/stream_executor/cuda/cuda_dnn.cc:442] Loaded cuDNN version 8907\n"
     ]
    },
    {
     "name": "stdout",
     "output_type": "stream",
     "text": [
      "13/13 [==============================] - 2s 25ms/step\n"
     ]
    }
   ],
   "source": [
    "train_dataset = tf.data.Dataset.from_tensor_slices((train_images, train_midpoints))\n",
    "\n",
    "train_dataset = train_dataset.batch(400)\n",
    "inputs,targets = next(iter(train_dataset))\n",
    "output =model.predict(inputs)\n",
    "\n",
    "# val_dataset = tf.data.Dataset.from_tensor_slices((val_images, val_midpoints))\n",
    "# val_dataset = val_dataset.batch(400)\n",
    "# inputs,targets = next(iter(val_dataset))\n",
    "# output =model.predict(inputs)"
   ]
  },
  {
   "cell_type": "code",
   "execution_count": 23,
   "metadata": {},
   "outputs": [
    {
     "data": {
      "text/plain": [
       "(array([[[31.999008, 31.998085],\n",
       "         [31.997353, 32.008442],\n",
       "         [32.015274, 32.00183 ]]], dtype=float32),\n",
       " <tf.Tensor: shape=(1, 3, 2), dtype=float32, numpy=\n",
       " array([[[32.86853 , 11.      ],\n",
       "         [15.      , 12.20858 ],\n",
       "         [52.825794, 18.      ]]], dtype=float32)>)"
      ]
     },
     "execution_count": 23,
     "metadata": {},
     "output_type": "execute_result"
    }
   ],
   "source": [
    "h = np.random.randint(0,len(output))\n",
    "output[h]*64,targets[h]*64"
   ]
  },
  {
   "cell_type": "code",
   "execution_count": 46,
   "metadata": {},
   "outputs": [
    {
     "name": "stdout",
     "output_type": "stream",
     "text": [
      "MSE Loss: 3.7928787e-06\n"
     ]
    }
   ],
   "source": [
    "import tensorflow as tf\n",
    "def custom_loss(y_true, y_pred, exponent=8):\n",
    "    diff = tf.abs(y_true - y_pred)\n",
    "    powered_diff = tf.pow(diff, exponent)\n",
    "    return tf.reduce_mean(powered_diff)\n",
    "\n",
    "# # r = np.random.randint(0,100)\n",
    "# tensor1 = tf.constant(targets, dtype=tf.float64)\n",
    "\n",
    "# tensor2 = tf.constant(output, dtype=tf.float32)\n",
    "\n",
    "\n",
    "# tensor2 = tf.cast(tensor2, tf.float64)\n",
    "\n",
    "\n",
    "# mse_loss_fn = custom_mse(tensor1, tensor2)\n",
    "# mse_loss = mse_loss_fn(tensor1, tensor2)\n",
    "mse_loss_fn = custom_loss(targets, output, exponent=8)\n",
    "\n",
    "print(\"MSE Loss:\", mse_loss_fn.numpy())"
   ]
  },
  {
   "cell_type": "code",
   "execution_count": 54,
   "metadata": {},
   "outputs": [
    {
     "data": {
      "image/png": "[encoded data removed]",
      "text/plain": [
       "<Figure size 400x400 with 1 Axes>"
      ]
     },
     "metadata": {},
     "output_type": "display_data"
    },
    {
     "data": {
      "image/png": "[encoded data removed]",
      "text/plain": [
       "<Figure size 400x400 with 1 Axes>"
      ]
     },
     "metadata": {},
     "output_type": "display_data"
    }
   ],
   "source": [
    "import numpy as np\n",
    "import matplotlib.pyplot as plt\n",
    "\n",
    "def visualize_midpoints(image, midpoints):\n",
    "    \"\"\"\n",
    "    Visualizes midpoints on an image without using a probability vector.\n",
    "\n",
    "    Parameters:\n",
    "    - image: A 3D tensor representing the image.\n",
    "    - midpoints: A 2D tensor representing the midpoint coordinates (x, y).\n",
    "\n",
    "    Returns:\n",
    "    None (displays the image with midpoints).\n",
    "    \"\"\"\n",
    "    # Convert to NumPy arrays for easier handling\n",
    "    image_np = image\n",
    "    midpoints_np = midpoints\n",
    "\n",
    "    # Denormalize image if necessary (adjust based on your normalization method)\n",
    "    denormalized_image = image_np  # Modify if normalization was applied during training\n",
    "\n",
    "    # Visualize the image\n",
    "    plt.figure(figsize=(4, 4))\n",
    "    plt.imshow(denormalized_image, cmap='gray')\n",
    "    plt.title(\"Predicted Midpoint Visualization\")\n",
    "\n",
    "    # Plot midpoints directly\n",
    "    for i, (x, y) in enumerate(midpoints_np):\n",
    "        plt.scatter(x, y, color='red', s=5)\n",
    "\n",
    "    plt.show()\n",
    "\n",
    "def visualize_midpoints2(image, midpoints):\n",
    "    \"\"\"\n",
    "    Visualizes ground truth midpoints on an image without using a probability vector.\n",
    "\n",
    "    Parameters:\n",
    "    - image: A 3D tensor representing the image.\n",
    "    - midpoints: A 2D tensor representing the midpoint coordinates (x, y).\n",
    "\n",
    "    Returns:\n",
    "    None (displays the image with midpoints).\n",
    "    \"\"\"\n",
    "    # Convert to NumPy arrays for easier handling\n",
    "    image_np = image\n",
    "    midpoints_np = midpoints\n",
    "\n",
    "    # Denormalize image if necessary (adjust based on your normalization method)\n",
    "    denormalized_image = image_np  # Modify if normalization was applied during training\n",
    "\n",
    "    # Visualize the image\n",
    "    plt.figure(figsize=(4, 4))\n",
    "    plt.imshow(denormalized_image, cmap='gray')\n",
    "    plt.title(\"Ground Truth Midpoint Visualization\")\n",
    "\n",
    "    # Plot midpoints directly\n",
    "    for i, (x, y) in enumerate(midpoints_np):\n",
    "        plt.scatter(x, y, color='red', s=5)\n",
    "\n",
    "    plt.show()\n",
    "\n",
    "# Example usage with random data\n",
    "t = np.random.randint(0, 400)\n",
    "# t=100\n",
    "\n",
    "visualize_midpoints(tf.convert_to_tensor(inputs[t]), tf.convert_to_tensor(output[t,0,:,:])*64)\n",
    "visualize_midpoints2(tf.convert_to_tensor(inputs[t]), tf.convert_to_tensor(targets[t,0,:,:])*64)\n"
   ]
  },
  {
   "cell_type": "code",
   "execution_count": 63,
   "metadata": {},
   "outputs": [],
   "source": [
    "model.save(\"/home/m3-learning/Documents/Research Data/Electron Detection/Weights/Originalmodel_0827.keras\")"
   ]
  }
 ],
 "metadata": {
  "kernelspec": {
   "display_name": "electrondetection",
   "language": "python",
   "name": "python3"
  },
  "language_info": {
   "codemirror_mode": {
    "name": "ipython",
    "version": 3
   },
   "file_extension": ".py",
   "mimetype": "text/x-python",
   "name": "python",
   "nbconvert_exporter": "python",
   "pygments_lexer": "ipython3",
   "version": "3.11.9"
  }
 },
 "nbformat": 4,
 "nbformat_minor": 2
}
